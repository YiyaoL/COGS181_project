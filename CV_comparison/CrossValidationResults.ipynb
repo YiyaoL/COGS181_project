{
 "cells": [
  {
   "cell_type": "code",
   "execution_count": 8,
   "id": "41131baa",
   "metadata": {},
   "outputs": [],
   "source": [
    "import numpy as np\n",
    "import pandas as pd\n",
    "import matplotlib.pyplot as plt"
   ]
  },
  {
   "cell_type": "code",
   "execution_count": 10,
   "id": "d3e4a742",
   "metadata": {
    "scrolled": true
   },
   "outputs": [
    {
     "data": {
      "text/html": [
       "<div>\n",
       "<style scoped>\n",
       "    .dataframe tbody tr th:only-of-type {\n",
       "        vertical-align: middle;\n",
       "    }\n",
       "\n",
       "    .dataframe tbody tr th {\n",
       "        vertical-align: top;\n",
       "    }\n",
       "\n",
       "    .dataframe thead th {\n",
       "        text-align: right;\n",
       "    }\n",
       "</style>\n",
       "<table border=\"1\" class=\"dataframe\">\n",
       "  <thead>\n",
       "    <tr style=\"text-align: right;\">\n",
       "      <th></th>\n",
       "      <th>Fold</th>\n",
       "      <th>Explained variance</th>\n",
       "      <th>MSE</th>\n",
       "      <th>MAE</th>\n",
       "      <th>R2</th>\n",
       "      <th>Model</th>\n",
       "    </tr>\n",
       "  </thead>\n",
       "  <tbody>\n",
       "    <tr>\n",
       "      <th>0</th>\n",
       "      <td>0</td>\n",
       "      <td>6.910000e-04</td>\n",
       "      <td>648062.0625</td>\n",
       "      <td>691.936951</td>\n",
       "      <td>-0.078780</td>\n",
       "      <td>RNN</td>\n",
       "    </tr>\n",
       "    <tr>\n",
       "      <th>1</th>\n",
       "      <td>1</td>\n",
       "      <td>3.180000e-04</td>\n",
       "      <td>506082.5313</td>\n",
       "      <td>607.801270</td>\n",
       "      <td>-0.075194</td>\n",
       "      <td>RNN</td>\n",
       "    </tr>\n",
       "    <tr>\n",
       "      <th>2</th>\n",
       "      <td>2</td>\n",
       "      <td>0.000000e+00</td>\n",
       "      <td>717951.4375</td>\n",
       "      <td>749.620605</td>\n",
       "      <td>-0.099635</td>\n",
       "      <td>RNN</td>\n",
       "    </tr>\n",
       "    <tr>\n",
       "      <th>3</th>\n",
       "      <td>3</td>\n",
       "      <td>-2.380000e-07</td>\n",
       "      <td>516508.6250</td>\n",
       "      <td>577.372498</td>\n",
       "      <td>-0.004436</td>\n",
       "      <td>RNN</td>\n",
       "    </tr>\n",
       "    <tr>\n",
       "      <th>4</th>\n",
       "      <td>4</td>\n",
       "      <td>0.000000e+00</td>\n",
       "      <td>603303.8125</td>\n",
       "      <td>640.863037</td>\n",
       "      <td>-0.116493</td>\n",
       "      <td>RNN</td>\n",
       "    </tr>\n",
       "  </tbody>\n",
       "</table>\n",
       "</div>"
      ],
      "text/plain": [
       "   Fold  Explained variance          MSE         MAE        R2 Model\n",
       "0     0        6.910000e-04  648062.0625  691.936951 -0.078780   RNN\n",
       "1     1        3.180000e-04  506082.5313  607.801270 -0.075194   RNN\n",
       "2     2        0.000000e+00  717951.4375  749.620605 -0.099635   RNN\n",
       "3     3       -2.380000e-07  516508.6250  577.372498 -0.004436   RNN\n",
       "4     4        0.000000e+00  603303.8125  640.863037 -0.116493   RNN"
      ]
     },
     "execution_count": 10,
     "metadata": {},
     "output_type": "execute_result"
    }
   ],
   "source": [
    "df = pd.read_csv(\"Models - CV.csv\")#.drop([\"Unnamed: 0\"], axis=1)\n",
    "df.head()"
   ]
  },
  {
   "cell_type": "code",
   "execution_count": 22,
   "id": "a04ad6d0",
   "metadata": {
    "scrolled": true
   },
   "outputs": [],
   "source": [
    "rnn = np.asarray(df[df.Model==\"RNN\"].iloc[:,1:5])\n",
    "gru = np.asarray(df[df.Model==\"GRU\"].iloc[:,1:5])\n",
    "lstm = np.asarray(df[df.Model==\"LSTM\"].iloc[:,1:5])"
   ]
  },
  {
   "cell_type": "code",
   "execution_count": 21,
   "id": "b265cc36",
   "metadata": {},
   "outputs": [
    {
     "data": {
      "text/plain": [
       "(array([ 9.38374545e-05,  6.60593821e+05,  6.89385032e+02, -8.19212727e-02]),\n",
       " array([1.03665638e-07, 1.37228609e+10, 4.79454327e+03, 5.24688335e-03]))"
      ]
     },
     "execution_count": 21,
     "metadata": {},
     "output_type": "execute_result"
    }
   ],
   "source": [
    "np.mean(rnn, axis=0), np.var(rnn, axis=0)"
   ]
  },
  {
   "cell_type": "code",
   "execution_count": 26,
   "id": "c614f4dd",
   "metadata": {},
   "outputs": [
    {
     "data": {
      "text/plain": [
       "(array([-3.06363636e-05,  6.53488703e+05,  6.81703505e+02, -1.60871909e-01]),\n",
       " array([1.16324132e-08, 1.73393939e+10, 5.79875011e+03, 1.48016670e-02]))"
      ]
     },
     "execution_count": 26,
     "metadata": {},
     "output_type": "execute_result"
    }
   ],
   "source": [
    "np.mean(gru, axis=0), np.var(gru, axis=0)"
   ]
  },
  {
   "cell_type": "code",
   "execution_count": 41,
   "id": "d2982742",
   "metadata": {},
   "outputs": [
    {
     "data": {
      "text/plain": [
       "(array([ 0.00000000e+00,  6.44833236e+05,  6.76557490e+02, -5.32351818e-02]),\n",
       " array([2.57472727e-15, 1.05036928e+10, 5.88415466e+03, 5.78969884e-03]))"
      ]
     },
     "execution_count": 41,
     "metadata": {},
     "output_type": "execute_result"
    }
   ],
   "source": [
    "np.mean(lstm, axis=0), np.var(lstm, axis=0)"
   ]
  },
  {
   "cell_type": "code",
   "execution_count": 45,
   "id": "d9ee5031",
   "metadata": {},
   "outputs": [
    {
     "data": {
      "image/png": "[encoded data removed]",
      "text/plain": [
       "<Figure size 360x216 with 1 Axes>"
      ]
     },
     "metadata": {
      "needs_background": "light"
     },
     "output_type": "display_data"
    }
   ],
   "source": [
    "fig = plt.figure(figsize =(5, 3))\n",
    "ax = fig.add_axes([0, 0,1,1])\n",
    "data = [rnn[:,0], gru[:,0], lstm[:,0]]\n",
    "ax.boxplot(data)\n",
    "plt.title(\"Explained variance across folds\")\n",
    "ax.set_xticklabels(['RNN', 'GRU','LSTM'])\n",
    "plt.show()"
   ]
  },
  {
   "cell_type": "code",
   "execution_count": 46,
   "id": "64ae255c",
   "metadata": {},
   "outputs": [
    {
     "data": {
      "image/png": "[encoded data removed]",
      "text/plain": [
       "<Figure size 360x216 with 1 Axes>"
      ]
     },
     "metadata": {
      "needs_background": "light"
     },
     "output_type": "display_data"
    }
   ],
   "source": [
    "fig = plt.figure(figsize =(5, 3))\n",
    "ax = fig.add_axes([0, 0,1,1])\n",
    "data = [rnn[:,1], gru[:,1], lstm[:,1]]\n",
    "ax.boxplot(data)\n",
    "plt.title(\"MSE across folds\")\n",
    "ax.set_xticklabels(['RNN', 'GRU','LSTM'])\n",
    "plt.show()"
   ]
  },
  {
   "cell_type": "code",
   "execution_count": 47,
   "id": "5c86b994",
   "metadata": {},
   "outputs": [
    {
     "data": {
      "image/png": "[encoded data removed]",
      "text/plain": [
       "<Figure size 360x216 with 1 Axes>"
      ]
     },
     "metadata": {
      "needs_background": "light"
     },
     "output_type": "display_data"
    }
   ],
   "source": [
    "fig = plt.figure(figsize =(5, 3))\n",
    "ax = fig.add_axes([0, 0,1,1])\n",
    "data = [rnn[:,2], gru[:,2], lstm[:,2]]\n",
    "ax.boxplot(data)\n",
    "plt.title(\"MAE across folds\")\n",
    "ax.set_xticklabels(['RNN', 'GRU','LSTM'])\n",
    "plt.show()"
   ]
  },
  {
   "cell_type": "code",
   "execution_count": 48,
   "id": "8948b437",
   "metadata": {},
   "outputs": [
    {
     "data": {
      "image/png": "[encoded data removed]",
      "text/plain": [
       "<Figure size 360x216 with 1 Axes>"
      ]
     },
     "metadata": {
      "needs_background": "light"
     },
     "output_type": "display_data"
    }
   ],
   "source": [
    "fig = plt.figure(figsize =(5, 3))\n",
    "ax = fig.add_axes([0, 0,1,1])\n",
    "data = [rnn[:,3], gru[:,3], lstm[:,3]]\n",
    "ax.boxplot(data)\n",
    "plt.title(\"R2 across folds\")\n",
    "ax.set_xticklabels(['RNN', 'GRU','LSTM'])\n",
    "plt.show()"
   ]
  }
 ],
 "metadata": {
  "kernelspec": {
   "display_name": "Python 3 (ipykernel)",
   "language": "python",
   "name": "python3"
  },
  "language_info": {
   "codemirror_mode": {
    "name": "ipython",
    "version": 3
   },
   "file_extension": ".py",
   "mimetype": "text/x-python",
   "name": "python",
   "nbconvert_exporter": "python",
   "pygments_lexer": "ipython3",
   "version": "3.9.5"
  }
 },
 "nbformat": 4,
 "nbformat_minor": 5
}
