{
 "cells": [
  {
   "cell_type": "code",
   "execution_count": 1,
   "id": "2c12db45",
   "metadata": {},
   "outputs": [],
   "source": [
    "# Supress Warnings\n",
    "import warnings\n",
    "warnings.filterwarnings('ignore')\n",
    "import pandas as pd\n",
    "import numpy as np\n",
    "import matplotlib.pyplot as plt\n",
    "import seaborn as sns\n",
    "import torch\n",
    "import torch.nn as nn\n",
    "from torch.utils.data import Dataset, DataLoader\n",
    "from torch.nn.utils.rnn import pad_sequence\n",
    "from torch.nn.utils import clip_grad_norm_\n",
    "import torch.optim as optim\n",
    "from statsmodels.tsa.stattools import acf\n",
    "from sklearn.model_selection import train_test_split\n",
    "from sklearn.ensemble import ExtraTreesRegressor\n",
    "from sklearn.metrics import r2_score, mean_squared_error\n",
    "from sklearn.preprocessing import normalize, MinMaxScaler"
   ]
  },
  {
   "cell_type": "code",
   "execution_count": 2,
   "id": "3975d20f",
   "metadata": {},
   "outputs": [],
   "source": [
    "dftest1 = pd.read_csv(\"vh_vv_data_new_20.csv\").drop(\"Unnamed: 0\", axis =1)\n",
    "dftest2 = pd.read_csv(\"vh_vv_data_new_20_100.csv\").drop(\"Unnamed: 0\", axis =1)\n",
    "dftest3 = pd.read_csv(\"vh_vv_data_new_100_200.csv\").drop(\"Unnamed: 0\", axis =1)\n",
    "dftest4 = pd.read_csv(\"vh_vv_data_new_200_225.csv\").drop(\"Unnamed: 0\", axis =1)\n",
    "dftest5 = pd.read_csv(\"vh_vv_data_new_225_300.csv\").drop(\"Unnamed: 0\", axis =1)\n",
    "dftest6 = pd.read_csv(\"vh_vv_data_new_300_350.csv\").drop(\"Unnamed: 0\", axis =1)\n",
    "dftest7 = pd.read_csv(\"vh_vv_data_new_350_400.csv\").drop(\"Unnamed: 0\", axis =1)\n",
    "dftest8 = pd.read_csv(\"vh_vv_data_new_400_450.csv\").drop(\"Unnamed: 0\", axis =1)\n",
    "dftest9 = pd.read_csv(\"vh_vv_data_new_450_500.csv\").drop(\"Unnamed: 0\", axis =1)\n",
    "dftest10 = pd.read_csv(\"vh_vv_data_new_500_557.csv\").drop(\"Unnamed: 0\", axis =1)\n",
    "dftest = pd.concat([dftest1,dftest2,dftest3,dftest4, dftest5,dftest6, dftest7, dftest8, dftest9,dftest10])"
   ]
  },
  {
   "cell_type": "markdown",
   "id": "a7d24aeb",
   "metadata": {},
   "source": [
    "### Prepare data"
   ]
  },
  {
   "cell_type": "code",
   "execution_count": 3,
   "id": "12f1f4ab",
   "metadata": {},
   "outputs": [],
   "source": [
    "def clean_from_df_pad(string):\n",
    "    \"\"\"\n",
    "    takes in each cell as a string and replaces it with an array of float value. \n",
    "    Also pads the sequence to length 26\n",
    "    \"\"\"\n",
    "    splitted = string.split(\" \")\n",
    "    result = []\n",
    "    for i in splitted:\n",
    "        number = float(i.replace(\",\",\"\").replace(\"[\", \"\").replace(\"]\", \"\"))\n",
    "        result.append(number)\n",
    "    if len(result) !=26:\n",
    "        missing = 26-len(result)\n",
    "        comp = [0] * missing\n",
    "        result = result + comp\n",
    "    return np.asarray(result)"
   ]
  },
  {
   "cell_type": "code",
   "execution_count": 4,
   "id": "aa93267a",
   "metadata": {},
   "outputs": [],
   "source": [
    "# read in those dataframes again before this\n",
    "dftest[\"vv_list\"] = dftest.vv_list.apply(clean_from_df_pad)\n",
    "dftest[\"vh_list\"] = dftest.vh_list.apply(clean_from_df_pad)\n",
    "dftest['vv/vh_list'] = dftest['vv/vh_list'].apply(clean_from_df_pad)"
   ]
  },
  {
   "cell_type": "code",
   "execution_count": 5,
   "id": "a42d8109",
   "metadata": {
    "scrolled": true
   },
   "outputs": [],
   "source": [
    "# add a climate index called rvi\n",
    "def calculate_rvi(vv, vh):\n",
    "    \"\"\"\n",
    "    takes in a list of vvs and a list of vhs, return a list of their rvis\n",
    "    dop = vv/(vv+vh)\n",
    "    m = 1-dop\n",
    "    m = np.sqrt(m)\n",
    "    power_func = 4*vh/(vv+vh)\n",
    "    rvi = m*power_func\n",
    "    \"\"\"\n",
    "    if len(vv)!= len(vh):\n",
    "        return None\n",
    "    else:\n",
    "        rvi_lst = []\n",
    "        for i in range(len(vv)):\n",
    "            rvi = np.sqrt(1-vv[i]/(vv[i]+vh[i])) * 4*vh[i]/(vv[i]+vh[i])\n",
    "            rvi_lst.append(rvi)\n",
    "    return rvi_lst\n",
    "\n",
    "calculate_rvi_func = np.vectorize(calculate_rvi)"
   ]
  },
  {
   "cell_type": "code",
   "execution_count": 6,
   "id": "377b7419",
   "metadata": {},
   "outputs": [],
   "source": [
    "dftest[\"rvi\"] = calculate_rvi(list(dftest.vv_list), list(dftest.vh_list))"
   ]
  },
  {
   "cell_type": "code",
   "execution_count": 7,
   "id": "b1af2b60",
   "metadata": {},
   "outputs": [],
   "source": [
    "# length is equal\n",
    "def df_to_arr_equal_len (df):\n",
    "    \"\"\"\n",
    "    takes in a df, which will be data, and transforms it into a 3-d array with its original size\n",
    "    \"\"\"\n",
    "    # loop through every row in df\n",
    "    res = []\n",
    "    for i in range(df.shape[0]):\n",
    "        row = list(df.iloc[i,:]) # each row of df is turned into a list of three elements, where each element is an array\n",
    "        new_row = [] # one day, one location, three variables\n",
    "        for var in row:\n",
    "            new_row.append(var)\n",
    "        res.append(new_row)\n",
    "    return np.asarray(res)"
   ]
  },
  {
   "cell_type": "code",
   "execution_count": 8,
   "id": "919d3898",
   "metadata": {},
   "outputs": [
    {
     "data": {
      "text/plain": [
       "2504"
      ]
     },
     "execution_count": 8,
     "metadata": {},
     "output_type": "execute_result"
    }
   ],
   "source": [
    "arr = df_to_arr_equal_len(dftest)\n",
    "np.isnan(arr).sum()"
   ]
  },
  {
   "cell_type": "code",
   "execution_count": 9,
   "id": "0684c568",
   "metadata": {},
   "outputs": [
    {
     "data": {
      "text/plain": [
       "0"
      ]
     },
     "execution_count": 9,
     "metadata": {},
     "output_type": "execute_result"
    }
   ],
   "source": [
    "# replace null rvi's with 0\n",
    "arr = np.nan_to_num(arr, nan=0)\n",
    "np.isnan(arr).sum()"
   ]
  },
  {
   "cell_type": "code",
   "execution_count": 10,
   "id": "7059c536",
   "metadata": {
    "scrolled": true
   },
   "outputs": [
    {
     "data": {
      "text/plain": [
       "(557, 4, 26)"
      ]
     },
     "execution_count": 10,
     "metadata": {},
     "output_type": "execute_result"
    }
   ],
   "source": [
    "arr.shape"
   ]
  },
  {
   "cell_type": "code",
   "execution_count": 13,
   "id": "a84b6510",
   "metadata": {},
   "outputs": [],
   "source": [
    "# use the first 500 data points as training\n",
    "x = torch.from_numpy(arr[:500,:,:])\n",
    "y = torch.from_numpy(np.asarray(\n",
    "            pd.read_csv(\"Crop_Yield_Data_challenge_2.csv\")[:500][\"Rice Yield (kg/ha)\"]))\n",
    "training_dataset = MyDataset(x, y)\n",
    "train_dataloader = DataLoader(x, batch_size=50, shuffle=True)"
   ]
  },
  {
   "cell_type": "code",
   "execution_count": 14,
   "id": "3cb1a4e6",
   "metadata": {},
   "outputs": [
    {
     "data": {
      "text/plain": [
       "torch.Size([500, 4, 26])"
      ]
     },
     "execution_count": 14,
     "metadata": {},
     "output_type": "execute_result"
    }
   ],
   "source": [
    "x.shape"
   ]
  },
  {
   "cell_type": "code",
   "execution_count": 15,
   "id": "74597b6a",
   "metadata": {},
   "outputs": [],
   "source": [
    "y = torch.from_numpy(np.asarray(pd.read_csv(\"Crop_Yield_Data_challenge_2.csv\")[:500][\"Rice Yield (kg/ha)\"]))\n",
    "\n",
    "# use the first 500 samples to train\n",
    "input = torch.from_numpy(arr[:500,:,:]).float().view(500,26,4)\n",
    "target = y[:500].float().view(500)"
   ]
  },
  {
   "cell_type": "code",
   "execution_count": 16,
   "id": "2ab5bbef",
   "metadata": {},
   "outputs": [
    {
     "data": {
      "text/plain": [
       "torch.Size([500, 26, 4])"
      ]
     },
     "execution_count": 16,
     "metadata": {},
     "output_type": "execute_result"
    }
   ],
   "source": [
    "input.shape"
   ]
  },
  {
   "cell_type": "code",
   "execution_count": 17,
   "id": "76652c54",
   "metadata": {},
   "outputs": [],
   "source": [
    "# create your dataset\n",
    "training_dataset = MyDataset(input, target)\n",
    "\n",
    "# create your dataloader\n",
    "train_dataloader = DataLoader(training_dataset, batch_size=500, shuffle=True)"
   ]
  },
  {
   "cell_type": "markdown",
   "id": "ff98e02f",
   "metadata": {},
   "source": [
    "____\n",
    "### Baseline LSTM with no batch norm\n",
    "## NOTE: the following models are trained on the dataset with sequence length 26 (zero-padded)"
   ]
  },
  {
   "cell_type": "code",
   "execution_count": 21,
   "id": "9ed123f8",
   "metadata": {},
   "outputs": [
    {
     "name": "stdout",
     "output_type": "stream",
     "text": [
      "cuda:0\n"
     ]
    }
   ],
   "source": [
    "# get gpu\n",
    "device = torch.device(\"cuda:0\" if torch.cuda.is_available() else \"cpu\")\n",
    "print(device)  "
   ]
  },
  {
   "cell_type": "code",
   "execution_count": 148,
   "id": "4882aefa",
   "metadata": {},
   "outputs": [],
   "source": [
    "input = input.to(device)\n",
    "target = target.to(device)"
   ]
  },
  {
   "cell_type": "code",
   "execution_count": 149,
   "id": "10c405ae",
   "metadata": {},
   "outputs": [],
   "source": [
    "class MyLSTM(nn.Module):\n",
    "    def __init__(self, input_size, hidden_size, output_size, num_layers):\n",
    "        super(MyLSTM, self).__init__()\n",
    "        self.hidden_size = hidden_size\n",
    "        self.lstm = nn.LSTM(input_size, hidden_size, num_layers=num_layers, batch_first=True)\n",
    "        self.linear = nn.Linear(hidden_size, output_size)\n",
    "    def forward(self, input):\n",
    "        batch_size = input.size(0)\n",
    "        h0 = torch.zeros(self.lstm.num_layers, batch_size, self.hidden_size).to(device)\n",
    "        c0 = torch.zeros(self.lstm.num_layers, batch_size, self.hidden_size).to(device)\n",
    "        h0, c0 = h0.to(device), c0.to(device)\n",
    "        lstm_out, _ = self.lstm(input, (h0, c0))\n",
    "        output = self.linear(lstm_out[:, -1, :])\n",
    "        return output"
   ]
  },
  {
   "cell_type": "code",
   "execution_count": 155,
   "id": "6b98e5c3",
   "metadata": {
    "scrolled": true
   },
   "outputs": [
    {
     "name": "stdout",
     "output_type": "stream",
     "text": [
      "Epoch [109/2000], Loss: 5859.8721\n",
      "Epoch [218/2000], Loss: 5090.3970\n",
      "Epoch [327/2000], Loss: 4321.4775\n",
      "Epoch [436/2000], Loss: 3552.7463\n",
      "Epoch [545/2000], Loss: 2784.1062\n",
      "Epoch [654/2000], Loss: 2015.5182\n",
      "Epoch [763/2000], Loss: 1249.1101\n",
      "Epoch [872/2000], Loss: 764.5833\n",
      "Epoch [981/2000], Loss: 673.8539\n",
      "Epoch [1090/2000], Loss: 673.7704\n",
      "Epoch [1199/2000], Loss: 673.7745\n",
      "Epoch [1308/2000], Loss: 673.7689\n",
      "Epoch [1417/2000], Loss: 673.7787\n",
      "Epoch [1526/2000], Loss: 673.8041\n",
      "Epoch [1635/2000], Loss: 673.7880\n",
      "Epoch [1744/2000], Loss: 673.8109\n",
      "Epoch [1853/2000], Loss: 673.7777\n",
      "Epoch [1962/2000], Loss: 673.7953\n",
      "Finished training\n"
     ]
    }
   ],
   "source": [
    "# Define hyperparameters\n",
    "input_size = 4\n",
    "hidden_size = 300\n",
    "output_size = 1\n",
    "num_layers = 5\n",
    "num_epochs = 2000\n",
    "\n",
    "# Create model and optimizer\n",
    "LSTMmodel = MyLSTM(input_size, hidden_size, output_size, num_layers)\n",
    "LSTMmodel.to(device)\n",
    "optimizer = torch.optim.Adam(LSTMmodel.parameters(), lr=0.05)\n",
    "criterion = nn.L1Loss()\n",
    "# Train model\n",
    "input = input.to(device)\n",
    "print_iters = 109\n",
    "losses = []\n",
    "for epoch in range(num_epochs):\n",
    "    optimizer.zero_grad()\n",
    "    output_seq = LSTMmodel(input)\n",
    "    loss = criterion(output_seq.squeeze(), target)\n",
    "    losses.append(loss.item())\n",
    "    loss.backward()\n",
    "    clip_grad_norm_(LSTMmodel.parameters(), max_norm = 1.0, norm_type=2, \n",
    "                        error_if_nonfinite=False)\n",
    "    optimizer.step()\n",
    "    if epoch % print_iters == print_iters - 1:\n",
    "        print('Epoch [{}/{}], Loss: {:.4f}'.format(epoch+1, num_epochs, loss.item()))\n",
    "print(\"Finished training\")"
   ]
  },
  {
   "cell_type": "code",
   "execution_count": 156,
   "id": "c0432c53",
   "metadata": {},
   "outputs": [
    {
     "name": "stdout",
     "output_type": "stream",
     "text": [
      "Baseline LSTM with no batch norm, hidden_size = 300, optimizer = Adam, lr = 0.05, num_layers=5\n"
     ]
    },
    {
     "data": {
      "image/png": "[encoded data removed]",
      "text/plain": [
       "<Figure size 432x288 with 1 Axes>"
      ]
     },
     "metadata": {
      "needs_background": "light"
     },
     "output_type": "display_data"
    }
   ],
   "source": [
    "print(\"Baseline LSTM with no batch norm, hidden_size = 300, optimizer = Adam, lr = 0.05, num_layers=5\")\n",
    "plt.plot(range(len(losses)), losses)\n",
    "plt.title(\"Baseline LSTM with no batch norm\")\n",
    "plt.show()"
   ]
  },
  {
   "cell_type": "code",
   "execution_count": 157,
   "id": "01276bb3",
   "metadata": {},
   "outputs": [
    {
     "name": "stdout",
     "output_type": "stream",
     "text": [
      "Testing error(L1): tensor(725.9503, device='cuda:0', grad_fn=<MeanBackward0>)\n"
     ]
    }
   ],
   "source": [
    "# evaluate model on the rest 57 points\n",
    "# see test performance\n",
    "testing = torch.from_numpy(arr[500:,:,:]).float().view(57,26,4)\n",
    "y_true = torch.from_numpy(np.asarray(pd.read_csv(\"Crop_Yield_Data_challenge_2.csv\")[500:][\"Rice Yield (kg/ha)\"]))\n",
    "testing = testing.to(device)\n",
    "y_true = y_true.to(device)\n",
    "predicted = LSTMmodel(testing).view(57)\n",
    "print(\"Testing error(L1):\",  criterion(predicted, y_true))"
   ]
  },
  {
   "cell_type": "markdown",
   "id": "25a6d0e5",
   "metadata": {},
   "source": [
    "----\n",
    "#### Improve this model by hyperparam tuning -- manual grid search"
   ]
  },
  {
   "cell_type": "code",
   "execution_count": 158,
   "id": "1239cbe2",
   "metadata": {},
   "outputs": [],
   "source": [
    "y = np.asarray(pd.read_csv(\"Crop_Yield_Data_challenge_2.csv\")[\"Rice Yield (kg/ha)\"])"
   ]
  },
  {
   "cell_type": "code",
   "execution_count": 161,
   "id": "dd30f8cb",
   "metadata": {},
   "outputs": [],
   "source": [
    "def train_LSTM_no_batch(hidden_size, num_layers, num_epochs, print_iters, optimizer_type, \n",
    "                        learning_rate, momentum):\n",
    "    # Fixed hyperparams\n",
    "    input_size = 4\n",
    "    output_size = 1\n",
    "    \n",
    "    # Get data ready - use the first 500 samples to train\n",
    "    input = torch.from_numpy(arr[:500,:,:]).float().view(500,26,4)\n",
    "    target = torch.from_numpy(y[:500]).float().view(500)\n",
    "    input = input.to(device)\n",
    "    target = target.to(device)\n",
    "    \n",
    "    # Create model and optimizer\n",
    "    model = MyLSTM(input_size, hidden_size, output_size, num_layers)\n",
    "    model.to(device)\n",
    "    \n",
    "    if optimizer_type ==\"Adam\":\n",
    "        momentum = None\n",
    "        optimizer = optim.Adam(model.parameters(), lr=learning_rate)\n",
    "    if optimizer_type ==\"SGD\":\n",
    "        optimizer = optim.SGD(model.parameters(), lr=learning_rate, momentum=momentum)\n",
    "        \n",
    "    criterion = nn.L1Loss()\n",
    "    \n",
    "    # Train model\n",
    "    losses = []\n",
    "    for epoch in range(num_epochs):\n",
    "        optimizer.zero_grad()\n",
    "        output_seq = model(input)\n",
    "        loss = criterion(output_seq.squeeze(), target)\n",
    "        losses.append(loss.item())\n",
    "        loss.backward()\n",
    "        clip_grad_norm_(model.parameters(), max_norm = 1.0, norm_type=2, \n",
    "                        error_if_nonfinite=False)\n",
    "        optimizer.step()\n",
    "        if epoch % print_iters == print_iters - 1:\n",
    "            print('Epoch [{}/{}], Loss: {:.4f}'.format(epoch+1, num_epochs, loss.item()))\n",
    "    print(\"Finished training\")\n",
    "    return (model, losses)"
   ]
  },
  {
   "cell_type": "code",
   "execution_count": 163,
   "id": "e14866a6",
   "metadata": {
    "scrolled": true
   },
   "outputs": [
    {
     "name": "stdout",
     "output_type": "stream",
     "text": [
      "Epoch [109/2000], Loss: 6244.2422\n",
      "Epoch [218/2000], Loss: 5678.2231\n",
      "Epoch [327/2000], Loss: 5110.9185\n",
      "Epoch [436/2000], Loss: 4543.5981\n",
      "Epoch [545/2000], Loss: 3976.2776\n",
      "Epoch [654/2000], Loss: 3408.9495\n",
      "Epoch [763/2000], Loss: 2841.6223\n",
      "Epoch [872/2000], Loss: 2274.3015\n",
      "Epoch [981/2000], Loss: 1706.9792\n",
      "Epoch [1090/2000], Loss: 1143.2554\n",
      "Epoch [1199/2000], Loss: 795.3702\n",
      "Epoch [1308/2000], Loss: 674.0484\n",
      "Epoch [1417/2000], Loss: 673.7767\n",
      "Epoch [1526/2000], Loss: 673.7675\n",
      "Epoch [1635/2000], Loss: 673.7902\n",
      "Epoch [1744/2000], Loss: 673.7651\n",
      "Epoch [1853/2000], Loss: 673.7719\n",
      "Epoch [1962/2000], Loss: 673.7756\n",
      "Finished training\n"
     ]
    }
   ],
   "source": [
    "mod1, losses1 = train_LSTM_no_batch(hidden_size=300, num_layers=8, num_epochs=2000, \n",
    "                                    print_iters=109, optimizer_type=\"SGD\", \n",
    "                                    learning_rate=0.03, momentum=0.9)"
   ]
  },
  {
   "cell_type": "code",
   "execution_count": 165,
   "id": "588c4c68",
   "metadata": {},
   "outputs": [
    {
     "name": "stdout",
     "output_type": "stream",
     "text": [
      "Testing error(L1): tensor(725.9440, device='cuda:0', grad_fn=<MeanBackward0>)\n"
     ]
    }
   ],
   "source": [
    "# evaluate model on the rest 57 points\n",
    "# see test performance\n",
    "testing = torch.from_numpy(arr[500:,:,:]).float().view(57,26,4)\n",
    "y_true = torch.from_numpy(np.asarray(pd.read_csv(\"Crop_Yield_Data_challenge_2.csv\")[500:][\"Rice Yield (kg/ha)\"]))\n",
    "testing = testing.to(device)\n",
    "y_true = y_true.to(device)\n",
    "predicted = mod1(testing).view(57)\n",
    "print(\"Testing error(L1):\",  criterion(predicted, y_true))"
   ]
  },
  {
   "cell_type": "code",
   "execution_count": 166,
   "id": "45afb042",
   "metadata": {},
   "outputs": [
    {
     "name": "stdout",
     "output_type": "stream",
     "text": [
      "Baseline LSTM with no batch norm, hidden_size=300, optimizer=SGD, lr=0.03, momemtum=0.9, num_layers=8\n"
     ]
    },
    {
     "data": {
      "image/png": "[encoded data removed]",
      "text/plain": [
       "<Figure size 432x288 with 1 Axes>"
      ]
     },
     "metadata": {
      "needs_background": "light"
     },
     "output_type": "display_data"
    }
   ],
   "source": [
    "print(\"Baseline LSTM with no batch norm, hidden_size=300, optimizer=SGD, lr=0.03, momemtum=0.9, num_layers=8\")\n",
    "plt.plot(range(len(losses1)), losses1)\n",
    "plt.title(\"Baseline LSTM with no batch norm- SGD\")\n",
    "plt.show()"
   ]
  },
  {
   "cell_type": "markdown",
   "id": "f4f07bdf",
   "metadata": {},
   "source": [
    "----\n",
    "#### Improve this model by using the scaled dataset"
   ]
  },
  {
   "cell_type": "code",
   "execution_count": 167,
   "id": "d3e2c263",
   "metadata": {},
   "outputs": [],
   "source": [
    "# normalize over each day (the last dimension)\n",
    "for i in range(26):\n",
    "    scaler = MinMaxScaler()\n",
    "    arr[:,:,i] = scaler.fit_transform(arr[:,:,i])"
   ]
  },
  {
   "cell_type": "code",
   "execution_count": 169,
   "id": "4491129c",
   "metadata": {
    "scrolled": true
   },
   "outputs": [
    {
     "name": "stdout",
     "output_type": "stream",
     "text": [
      "Epoch [109/1500], Loss: 4862.6084\n",
      "Epoch [218/1500], Loss: 675.8845\n",
      "Epoch [327/1500], Loss: 889.8207\n",
      "Epoch [436/1500], Loss: 739.4236\n",
      "Epoch [545/1500], Loss: 719.4373\n",
      "Epoch [654/1500], Loss: 684.6860\n",
      "Epoch [763/1500], Loss: 675.9769\n",
      "Epoch [872/1500], Loss: 676.2892\n",
      "Epoch [981/1500], Loss: 674.8615\n",
      "Epoch [1090/1500], Loss: 674.2227\n",
      "Epoch [1199/1500], Loss: 673.9521\n",
      "Epoch [1308/1500], Loss: 673.8034\n",
      "Epoch [1417/1500], Loss: 673.7812\n",
      "Finished training\n"
     ]
    }
   ],
   "source": [
    "mod2, losses2 = train_LSTM_no_batch(hidden_size=400, num_layers=6, num_epochs=1500, \n",
    "                                    print_iters=109, optimizer_type=\"SGD\", \n",
    "                                    learning_rate=0.03, momentum=0.99)"
   ]
  },
  {
   "cell_type": "code",
   "execution_count": 170,
   "id": "41ad10aa",
   "metadata": {},
   "outputs": [
    {
     "name": "stdout",
     "output_type": "stream",
     "text": [
      "Testing error(L1): tensor(725.9059, device='cuda:0', grad_fn=<MeanBackward0>)\n"
     ]
    }
   ],
   "source": [
    "# evaluate model on the rest 57 points\n",
    "# see test performance\n",
    "testing = torch.from_numpy(arr[500:,:,:]).float().view(57,26,4)\n",
    "y_true = torch.from_numpy(np.asarray(pd.read_csv(\"Crop_Yield_Data_challenge_2.csv\")[500:][\"Rice Yield (kg/ha)\"]))\n",
    "testing = testing.to(device)\n",
    "y_true = y_true.to(device)\n",
    "predicted = mod2(testing).view(57)\n",
    "print(\"Testing error(L1):\",  criterion(predicted, y_true))"
   ]
  },
  {
   "cell_type": "code",
   "execution_count": 174,
   "id": "874726d1",
   "metadata": {},
   "outputs": [
    {
     "name": "stdout",
     "output_type": "stream",
     "text": [
      "Baseline LSTM with no batch norm, hidden_size=400, optimizer=SGD, lr=0.03, momemtum=0.99, num_layers=6\n"
     ]
    },
    {
     "data": {
      "image/png": "[encoded data removed]",
      "text/plain": [
       "<Figure size 432x288 with 1 Axes>"
      ]
     },
     "metadata": {
      "needs_background": "light"
     },
     "output_type": "display_data"
    }
   ],
   "source": [
    "print(\"Baseline LSTM with no batch norm, hidden_size=400, optimizer=SGD, lr=0.03, momemtum=0.99, num_layers=6\")\n",
    "plt.plot(range(len(losses2)), losses2)\n",
    "plt.title(\"Baseline LSTM with no batch norm- SGD faster\")\n",
    "plt.show()"
   ]
  },
  {
   "cell_type": "markdown",
   "id": "6fee896c",
   "metadata": {},
   "source": [
    "____\n",
    "### Add batch norm and dropout\n",
    "### 1. batch_size = 100, dropout = 0.2, hidden_size = 100, num_layers= 5 (most underfit)"
   ]
  },
  {
   "cell_type": "code",
   "execution_count": 104,
   "id": "0a276ee0",
   "metadata": {},
   "outputs": [
    {
     "data": {
      "text/plain": [
       "(LSTMBN(\n",
       "   (lstm): LSTM(4, 100, num_layers=5, batch_first=True, dropout=0.2)\n",
       "   (bn): BatchNorm1d(100, eps=1e-05, momentum=0.1, affine=True, track_running_stats=True)\n",
       " ),\n",
       " SGD (\n",
       " Parameter Group 0\n",
       "     dampening: 0\n",
       "     differentiable: False\n",
       "     foreach: None\n",
       "     lr: 0.5\n",
       "     maximize: False\n",
       "     momentum: 0.99\n",
       "     nesterov: False\n",
       "     weight_decay: 0\n",
       " ))"
      ]
     },
     "execution_count": 104,
     "metadata": {},
     "output_type": "execute_result"
    }
   ],
   "source": [
    "mod3, optimizer"
   ]
  },
  {
   "cell_type": "code",
   "execution_count": 115,
   "id": "3ef3c11a",
   "metadata": {},
   "outputs": [],
   "source": [
    "class LSTMBN(nn.Module):\n",
    "    def __init__(self, input_size, hidden_size, num_layers, batch_size, dropout):\n",
    "        super(LSTMBN, self).__init__()\n",
    "        self.input_size = input_size\n",
    "        self.hidden_size = hidden_size\n",
    "        self.num_layers = num_layers\n",
    "        self.batch_size = batch_size\n",
    "        self.lstm = nn.LSTM(input_size, hidden_size, num_layers, \n",
    "                            batch_first=True, dropout=dropout)\n",
    "        self.bn = nn.BatchNorm1d(hidden_size)\n",
    "        self.fc = nn.Linear(hidden_size, output_size)\n",
    "    def forward(self, x):\n",
    "        # Initialize hidden state with zeros\n",
    "        h0 = torch.zeros(self.num_layers, self.batch_size, self.hidden_size).requires_grad_()\n",
    "        # Initialize cell state with zeros\n",
    "        c0 = torch.zeros(self.num_layers, self.batch_size, self.hidden_size).requires_grad_()\n",
    "\n",
    "        h0 = h0.to(device)\n",
    "        c0 = c0.to(device)\n",
    "        # Forward propagate LSTM\n",
    "        out, (hn, cn) = self.lstm(x, (h0.detach(), c0.detach()))\n",
    "        # Apply batch normalization to output of LSTM\n",
    "        out = out.transpose(1,2).contiguous()\n",
    "        out = self.bn(out)\n",
    "        out = out.transpose(1,2).contiguous()\n",
    "        out = self.fc(out)\n",
    "        return out"
   ]
  },
  {
   "cell_type": "code",
   "execution_count": 121,
   "id": "66b07725",
   "metadata": {},
   "outputs": [],
   "source": [
    "# prepare data -- make sure it's divided to batch\n",
    "# use the first 500 data points as training\n",
    "x = torch.from_numpy(arr[:500,:,:]).float().view(500, 26, 4)\n",
    "y = torch.from_numpy(np.asarray(\n",
    "            pd.read_csv(\"Crop_Yield_Data_challenge_2.csv\")[:500][\"Rice Yield (kg/ha)\"]))\n",
    "training_dataset = MyDataset(x, y)\n",
    "train_dataloader = DataLoader(training_dataset, batch_size=100, shuffle=True)"
   ]
  },
  {
   "cell_type": "code",
   "execution_count": 127,
   "id": "e6213d34",
   "metadata": {},
   "outputs": [],
   "source": [
    "# Define hyperparameters -- can't change\n",
    "input_size = 4\n",
    "outout_size = 1\n",
    "\n",
    "# can change\n",
    "hidden_size = 100 \n",
    "output_size = 1\n",
    "criterion = nn.L1Loss()\n",
    "num_layers = 5\n",
    "batch_size = 100\n",
    "num_epochs = 30\n",
    "\n",
    "# Create the LSTM model\n",
    "mod3 = LSTMBN(input_size, hidden_size, num_layers, batch_size, dropout = 0.2)\n",
    "mod3.to(device)\n",
    "\n",
    "# Define the loss function and optimizer\n",
    "criterion = nn.L1Loss()\n",
    "optimizer = torch.optim.SGD(mod3.parameters(), lr=0.1, momentum=0.9)"
   ]
  },
  {
   "cell_type": "code",
   "execution_count": 128,
   "id": "e123af22",
   "metadata": {
    "scrolled": true
   },
   "outputs": [
    {
     "name": "stdout",
     "output_type": "stream",
     "text": [
      "Epoch [2/30], Loss: 6621.6212\n",
      "Epoch [4/30], Loss: 6153.8747\n",
      "Epoch [6/30], Loss: 2809.1214\n",
      "Epoch [8/30], Loss: 1896.5248\n",
      "Epoch [10/30], Loss: 1322.7846\n",
      "Epoch [12/30], Loss: 871.5233\n",
      "Epoch [14/30], Loss: 695.3644\n",
      "Epoch [16/30], Loss: 722.0053\n",
      "Epoch [18/30], Loss: 708.7775\n",
      "Epoch [20/30], Loss: 688.8014\n",
      "Epoch [22/30], Loss: 736.4419\n",
      "Epoch [24/30], Loss: 857.0403\n",
      "Epoch [26/30], Loss: 780.9605\n",
      "Epoch [28/30], Loss: 830.5910\n"
     ]
    },
    {
     "ename": "KeyboardInterrupt",
     "evalue": "",
     "output_type": "error",
     "traceback": [
      "\u001b[0;31m---------------------------------------------------------------------------\u001b[0m",
      "\u001b[0;31mKeyboardInterrupt\u001b[0m                         Traceback (most recent call last)",
      "\u001b[0;32m/tmp/ipykernel_179/3484510909.py\u001b[0m in \u001b[0;36m<module>\u001b[0;34m\u001b[0m\n\u001b[1;32m     10\u001b[0m         \u001b[0moutputs\u001b[0m \u001b[0;34m=\u001b[0m \u001b[0mmod3\u001b[0m\u001b[0;34m(\u001b[0m\u001b[0minputs\u001b[0m\u001b[0;34m)\u001b[0m\u001b[0;34m\u001b[0m\u001b[0;34m\u001b[0m\u001b[0m\n\u001b[1;32m     11\u001b[0m         \u001b[0mloss\u001b[0m \u001b[0;34m=\u001b[0m \u001b[0mcriterion\u001b[0m\u001b[0;34m(\u001b[0m\u001b[0moutputs\u001b[0m\u001b[0;34m,\u001b[0m \u001b[0mlabels\u001b[0m\u001b[0;34m)\u001b[0m\u001b[0;34m\u001b[0m\u001b[0;34m\u001b[0m\u001b[0m\n\u001b[0;32m---> 12\u001b[0;31m         \u001b[0mloss\u001b[0m\u001b[0;34m.\u001b[0m\u001b[0mbackward\u001b[0m\u001b[0;34m(\u001b[0m\u001b[0;34m)\u001b[0m\u001b[0;34m\u001b[0m\u001b[0;34m\u001b[0m\u001b[0m\n\u001b[0m\u001b[1;32m     13\u001b[0m         \u001b[0;31m# clip gradient to avoid exploding gradient\u001b[0m\u001b[0;34m\u001b[0m\u001b[0;34m\u001b[0m\u001b[0;34m\u001b[0m\u001b[0m\n\u001b[1;32m     14\u001b[0m         \u001b[0;31m#clip_grad_norm_(mod3.parameters(), max_norm = 0.1, norm_type=\"inf\", error_if_nonfinite=False)\u001b[0m\u001b[0;34m\u001b[0m\u001b[0;34m\u001b[0m\u001b[0;34m\u001b[0m\u001b[0m\n",
      "\u001b[0;32m~/.local/lib/python3.9/site-packages/torch/_tensor.py\u001b[0m in \u001b[0;36mbackward\u001b[0;34m(self, gradient, retain_graph, create_graph, inputs)\u001b[0m\n\u001b[1;32m    486\u001b[0m                 \u001b[0minputs\u001b[0m\u001b[0;34m=\u001b[0m\u001b[0minputs\u001b[0m\u001b[0;34m,\u001b[0m\u001b[0;34m\u001b[0m\u001b[0;34m\u001b[0m\u001b[0m\n\u001b[1;32m    487\u001b[0m             )\n\u001b[0;32m--> 488\u001b[0;31m         torch.autograd.backward(\n\u001b[0m\u001b[1;32m    489\u001b[0m             \u001b[0mself\u001b[0m\u001b[0;34m,\u001b[0m \u001b[0mgradient\u001b[0m\u001b[0;34m,\u001b[0m \u001b[0mretain_graph\u001b[0m\u001b[0;34m,\u001b[0m \u001b[0mcreate_graph\u001b[0m\u001b[0;34m,\u001b[0m \u001b[0minputs\u001b[0m\u001b[0;34m=\u001b[0m\u001b[0minputs\u001b[0m\u001b[0;34m\u001b[0m\u001b[0;34m\u001b[0m\u001b[0m\n\u001b[1;32m    490\u001b[0m         )\n",
      "\u001b[0;32m~/.local/lib/python3.9/site-packages/torch/autograd/__init__.py\u001b[0m in \u001b[0;36mbackward\u001b[0;34m(tensors, grad_tensors, retain_graph, create_graph, grad_variables, inputs)\u001b[0m\n\u001b[1;32m    195\u001b[0m     \u001b[0;31m# some Python versions print out the first line of a multi-line function\u001b[0m\u001b[0;34m\u001b[0m\u001b[0;34m\u001b[0m\u001b[0;34m\u001b[0m\u001b[0m\n\u001b[1;32m    196\u001b[0m     \u001b[0;31m# calls in the traceback and some print out the last line\u001b[0m\u001b[0;34m\u001b[0m\u001b[0;34m\u001b[0m\u001b[0;34m\u001b[0m\u001b[0m\n\u001b[0;32m--> 197\u001b[0;31m     Variable._execution_engine.run_backward(  # Calls into the C++ engine to run the backward pass\n\u001b[0m\u001b[1;32m    198\u001b[0m         \u001b[0mtensors\u001b[0m\u001b[0;34m,\u001b[0m \u001b[0mgrad_tensors_\u001b[0m\u001b[0;34m,\u001b[0m \u001b[0mretain_graph\u001b[0m\u001b[0;34m,\u001b[0m \u001b[0mcreate_graph\u001b[0m\u001b[0;34m,\u001b[0m \u001b[0minputs\u001b[0m\u001b[0;34m,\u001b[0m\u001b[0;34m\u001b[0m\u001b[0;34m\u001b[0m\u001b[0m\n\u001b[1;32m    199\u001b[0m         allow_unreachable=True, accumulate_grad=True)  # Calls into the C++ engine to run the backward pass\n",
      "\u001b[0;31mKeyboardInterrupt\u001b[0m: "
     ]
    }
   ],
   "source": [
    "# Train the model\n",
    "print_freq = 2\n",
    "#best_val_loss = float('inf')\n",
    "loss3 = []\n",
    "for epoch in range(num_epochs):\n",
    "    running_loss = 0.0\n",
    "    for i, data in enumerate(train_dataloader, 0):\n",
    "        inputs, labels = data[0].to(device), data[1].to(device)\n",
    "        optimizer.zero_grad()\n",
    "        outputs = mod3(inputs)\n",
    "        loss = criterion(outputs, labels)\n",
    "        loss.backward()\n",
    "        # clip gradient to avoid exploding gradient\n",
    "        #clip_grad_norm_(mod3.parameters(), max_norm = 0.1, norm_type=\"inf\", error_if_nonfinite=False)\n",
    "        optimizer.step()\n",
    "        running_loss += loss.item()\n",
    "    epoch_loss = running_loss / len(train_dataloader)\n",
    "    loss3.append(epoch_loss)\n",
    "    if epoch% print_freq == 1:\n",
    "        print(f'Epoch [{epoch+1}/{num_epochs}], Loss: {epoch_loss:.4f}')\n",
    "print(\"Finished training\")"
   ]
  },
  {
   "cell_type": "code",
   "execution_count": 130,
   "id": "9cb9e636",
   "metadata": {
    "scrolled": true
   },
   "outputs": [
    {
     "name": "stdout",
     "output_type": "stream",
     "text": [
      "Epoch [32/50], Loss: 682.9444\n",
      "Epoch [34/50], Loss: 675.2162\n",
      "Epoch [36/50], Loss: 674.1320\n",
      "Epoch [40/50], Loss: 674.1635\n",
      "Epoch [42/50], Loss: 674.4898\n",
      "Epoch [44/50], Loss: 674.0641\n",
      "Epoch [46/50], Loss: 674.0472\n"
     ]
    },
    {
     "ename": "KeyboardInterrupt",
     "evalue": "",
     "output_type": "error",
     "traceback": [
      "\u001b[0;31m---------------------------------------------------------------------------\u001b[0m",
      "\u001b[0;31mKeyboardInterrupt\u001b[0m                         Traceback (most recent call last)",
      "\u001b[0;32m/tmp/ipykernel_179/4097019475.py\u001b[0m in \u001b[0;36m<module>\u001b[0;34m\u001b[0m\n\u001b[1;32m     12\u001b[0m         \u001b[0;31m# clip gradient to avoid exploding gradient\u001b[0m\u001b[0;34m\u001b[0m\u001b[0;34m\u001b[0m\u001b[0;34m\u001b[0m\u001b[0m\n\u001b[1;32m     13\u001b[0m         \u001b[0;31m#clip_grad_norm_(mod3.parameters(), max_norm = 0.1, norm_type=\"inf\", error_if_nonfinite=False)\u001b[0m\u001b[0;34m\u001b[0m\u001b[0;34m\u001b[0m\u001b[0;34m\u001b[0m\u001b[0m\n\u001b[0;32m---> 14\u001b[0;31m         \u001b[0moptimizer\u001b[0m\u001b[0;34m.\u001b[0m\u001b[0mstep\u001b[0m\u001b[0;34m(\u001b[0m\u001b[0;34m)\u001b[0m\u001b[0;34m\u001b[0m\u001b[0;34m\u001b[0m\u001b[0m\n\u001b[0m\u001b[1;32m     15\u001b[0m         \u001b[0mrunning_loss\u001b[0m \u001b[0;34m+=\u001b[0m \u001b[0mloss\u001b[0m\u001b[0;34m.\u001b[0m\u001b[0mitem\u001b[0m\u001b[0;34m(\u001b[0m\u001b[0;34m)\u001b[0m\u001b[0;34m\u001b[0m\u001b[0;34m\u001b[0m\u001b[0m\n\u001b[1;32m     16\u001b[0m     \u001b[0mepoch_loss\u001b[0m \u001b[0;34m=\u001b[0m \u001b[0mrunning_loss\u001b[0m \u001b[0;34m/\u001b[0m \u001b[0mlen\u001b[0m\u001b[0;34m(\u001b[0m\u001b[0mtrain_dataloader\u001b[0m\u001b[0;34m)\u001b[0m\u001b[0;34m\u001b[0m\u001b[0;34m\u001b[0m\u001b[0m\n",
      "\u001b[0;32m~/.local/lib/python3.9/site-packages/torch/optim/optimizer.py\u001b[0m in \u001b[0;36mwrapper\u001b[0;34m(*args, **kwargs)\u001b[0m\n\u001b[1;32m    138\u001b[0m                 \u001b[0mprofile_name\u001b[0m \u001b[0;34m=\u001b[0m \u001b[0;34m\"Optimizer.step#{}.step\"\u001b[0m\u001b[0;34m.\u001b[0m\u001b[0mformat\u001b[0m\u001b[0;34m(\u001b[0m\u001b[0mobj\u001b[0m\u001b[0;34m.\u001b[0m\u001b[0m__class__\u001b[0m\u001b[0;34m.\u001b[0m\u001b[0m__name__\u001b[0m\u001b[0;34m)\u001b[0m\u001b[0;34m\u001b[0m\u001b[0;34m\u001b[0m\u001b[0m\n\u001b[1;32m    139\u001b[0m                 \u001b[0;32mwith\u001b[0m \u001b[0mtorch\u001b[0m\u001b[0;34m.\u001b[0m\u001b[0mautograd\u001b[0m\u001b[0;34m.\u001b[0m\u001b[0mprofiler\u001b[0m\u001b[0;34m.\u001b[0m\u001b[0mrecord_function\u001b[0m\u001b[0;34m(\u001b[0m\u001b[0mprofile_name\u001b[0m\u001b[0;34m)\u001b[0m\u001b[0;34m:\u001b[0m\u001b[0;34m\u001b[0m\u001b[0;34m\u001b[0m\u001b[0m\n\u001b[0;32m--> 140\u001b[0;31m                     \u001b[0mout\u001b[0m \u001b[0;34m=\u001b[0m \u001b[0mfunc\u001b[0m\u001b[0;34m(\u001b[0m\u001b[0;34m*\u001b[0m\u001b[0margs\u001b[0m\u001b[0;34m,\u001b[0m \u001b[0;34m**\u001b[0m\u001b[0mkwargs\u001b[0m\u001b[0;34m)\u001b[0m\u001b[0;34m\u001b[0m\u001b[0;34m\u001b[0m\u001b[0m\n\u001b[0m\u001b[1;32m    141\u001b[0m                     \u001b[0mobj\u001b[0m\u001b[0;34m.\u001b[0m\u001b[0m_optimizer_step_code\u001b[0m\u001b[0;34m(\u001b[0m\u001b[0;34m)\u001b[0m\u001b[0;34m\u001b[0m\u001b[0;34m\u001b[0m\u001b[0m\n\u001b[1;32m    142\u001b[0m                     \u001b[0;32mreturn\u001b[0m \u001b[0mout\u001b[0m\u001b[0;34m\u001b[0m\u001b[0;34m\u001b[0m\u001b[0m\n",
      "\u001b[0;32m~/.local/lib/python3.9/site-packages/torch/optim/optimizer.py\u001b[0m in \u001b[0;36m_use_grad\u001b[0;34m(self, *args, **kwargs)\u001b[0m\n\u001b[1;32m     21\u001b[0m         \u001b[0;32mtry\u001b[0m\u001b[0;34m:\u001b[0m\u001b[0;34m\u001b[0m\u001b[0;34m\u001b[0m\u001b[0m\n\u001b[1;32m     22\u001b[0m             \u001b[0mtorch\u001b[0m\u001b[0;34m.\u001b[0m\u001b[0mset_grad_enabled\u001b[0m\u001b[0;34m(\u001b[0m\u001b[0mself\u001b[0m\u001b[0;34m.\u001b[0m\u001b[0mdefaults\u001b[0m\u001b[0;34m[\u001b[0m\u001b[0;34m'differentiable'\u001b[0m\u001b[0;34m]\u001b[0m\u001b[0;34m)\u001b[0m\u001b[0;34m\u001b[0m\u001b[0;34m\u001b[0m\u001b[0m\n\u001b[0;32m---> 23\u001b[0;31m             \u001b[0mret\u001b[0m \u001b[0;34m=\u001b[0m \u001b[0mfunc\u001b[0m\u001b[0;34m(\u001b[0m\u001b[0mself\u001b[0m\u001b[0;34m,\u001b[0m \u001b[0;34m*\u001b[0m\u001b[0margs\u001b[0m\u001b[0;34m,\u001b[0m \u001b[0;34m**\u001b[0m\u001b[0mkwargs\u001b[0m\u001b[0;34m)\u001b[0m\u001b[0;34m\u001b[0m\u001b[0;34m\u001b[0m\u001b[0m\n\u001b[0m\u001b[1;32m     24\u001b[0m         \u001b[0;32mfinally\u001b[0m\u001b[0;34m:\u001b[0m\u001b[0;34m\u001b[0m\u001b[0;34m\u001b[0m\u001b[0m\n\u001b[1;32m     25\u001b[0m             \u001b[0mtorch\u001b[0m\u001b[0;34m.\u001b[0m\u001b[0mset_grad_enabled\u001b[0m\u001b[0;34m(\u001b[0m\u001b[0mprev_grad\u001b[0m\u001b[0;34m)\u001b[0m\u001b[0;34m\u001b[0m\u001b[0;34m\u001b[0m\u001b[0m\n",
      "\u001b[0;32m~/.local/lib/python3.9/site-packages/torch/optim/adam.py\u001b[0m in \u001b[0;36mstep\u001b[0;34m(self, closure, grad_scaler)\u001b[0m\n\u001b[1;32m    232\u001b[0m                     \u001b[0mstate_steps\u001b[0m\u001b[0;34m.\u001b[0m\u001b[0mappend\u001b[0m\u001b[0;34m(\u001b[0m\u001b[0mstate\u001b[0m\u001b[0;34m[\u001b[0m\u001b[0;34m'step'\u001b[0m\u001b[0;34m]\u001b[0m\u001b[0;34m)\u001b[0m\u001b[0;34m\u001b[0m\u001b[0;34m\u001b[0m\u001b[0m\n\u001b[1;32m    233\u001b[0m \u001b[0;34m\u001b[0m\u001b[0m\n\u001b[0;32m--> 234\u001b[0;31m             adam(params_with_grad,\n\u001b[0m\u001b[1;32m    235\u001b[0m                  \u001b[0mgrads\u001b[0m\u001b[0;34m,\u001b[0m\u001b[0;34m\u001b[0m\u001b[0;34m\u001b[0m\u001b[0m\n\u001b[1;32m    236\u001b[0m                  \u001b[0mexp_avgs\u001b[0m\u001b[0;34m,\u001b[0m\u001b[0;34m\u001b[0m\u001b[0;34m\u001b[0m\u001b[0m\n",
      "\u001b[0;32m~/.local/lib/python3.9/site-packages/torch/optim/adam.py\u001b[0m in \u001b[0;36madam\u001b[0;34m(params, grads, exp_avgs, exp_avg_sqs, max_exp_avg_sqs, state_steps, foreach, capturable, differentiable, fused, grad_scale, found_inf, amsgrad, beta1, beta2, lr, weight_decay, eps, maximize)\u001b[0m\n\u001b[1;32m    298\u001b[0m         \u001b[0mfunc\u001b[0m \u001b[0;34m=\u001b[0m \u001b[0m_single_tensor_adam\u001b[0m\u001b[0;34m\u001b[0m\u001b[0;34m\u001b[0m\u001b[0m\n\u001b[1;32m    299\u001b[0m \u001b[0;34m\u001b[0m\u001b[0m\n\u001b[0;32m--> 300\u001b[0;31m     func(params,\n\u001b[0m\u001b[1;32m    301\u001b[0m          \u001b[0mgrads\u001b[0m\u001b[0;34m,\u001b[0m\u001b[0;34m\u001b[0m\u001b[0;34m\u001b[0m\u001b[0m\n\u001b[1;32m    302\u001b[0m          \u001b[0mexp_avgs\u001b[0m\u001b[0;34m,\u001b[0m\u001b[0;34m\u001b[0m\u001b[0;34m\u001b[0m\u001b[0m\n",
      "\u001b[0;32m~/.local/lib/python3.9/site-packages/torch/optim/adam.py\u001b[0m in \u001b[0;36m_single_tensor_adam\u001b[0;34m(params, grads, exp_avgs, exp_avg_sqs, max_exp_avg_sqs, state_steps, grad_scale, found_inf, amsgrad, beta1, beta2, lr, weight_decay, eps, maximize, capturable, differentiable)\u001b[0m\n\u001b[1;32m    349\u001b[0m \u001b[0;34m\u001b[0m\u001b[0m\n\u001b[1;32m    350\u001b[0m         \u001b[0;31m# update step\u001b[0m\u001b[0;34m\u001b[0m\u001b[0;34m\u001b[0m\u001b[0;34m\u001b[0m\u001b[0m\n\u001b[0;32m--> 351\u001b[0;31m         \u001b[0mstep_t\u001b[0m \u001b[0;34m+=\u001b[0m \u001b[0;36m1\u001b[0m\u001b[0;34m\u001b[0m\u001b[0;34m\u001b[0m\u001b[0m\n\u001b[0m\u001b[1;32m    352\u001b[0m \u001b[0;34m\u001b[0m\u001b[0m\n\u001b[1;32m    353\u001b[0m         \u001b[0;32mif\u001b[0m \u001b[0mweight_decay\u001b[0m \u001b[0;34m!=\u001b[0m \u001b[0;36m0\u001b[0m\u001b[0;34m:\u001b[0m\u001b[0;34m\u001b[0m\u001b[0;34m\u001b[0m\u001b[0m\n",
      "\u001b[0;31mKeyboardInterrupt\u001b[0m: "
     ]
    }
   ],
   "source": [
    "# add more rounds of training with a differnt optimizer (smaller learning rate)\n",
    "print_freq = 2\n",
    "optimizer = torch.optim.Adam(mod3.parameters(), lr=0.03)\n",
    "for epoch in range(20):\n",
    "    running_loss = 0.0\n",
    "    for i, data in enumerate(train_dataloader, 0):\n",
    "        inputs, labels = data[0].to(device), data[1].to(device)\n",
    "        optimizer.zero_grad()\n",
    "        outputs = mod3(inputs)\n",
    "        loss = criterion(outputs, labels)\n",
    "        loss.backward()\n",
    "        # clip gradient to avoid exploding gradient\n",
    "        #clip_grad_norm_(mod3.parameters(), max_norm = 0.1, norm_type=\"inf\", error_if_nonfinite=False)\n",
    "        optimizer.step()\n",
    "        running_loss += loss.item()\n",
    "    epoch_loss = running_loss / len(train_dataloader)\n",
    "    loss3.append(epoch_loss)\n",
    "    if epoch% print_freq == 1:\n",
    "        print(f'Epoch [{epoch+1 +30}/{num_epochs+20}], Loss: {epoch_loss:.4f}')\n",
    "print(\"Finished training\")"
   ]
  },
  {
   "cell_type": "code",
   "execution_count": 148,
   "id": "8a53a843",
   "metadata": {},
   "outputs": [
    {
     "name": "stdout",
     "output_type": "stream",
     "text": [
      "LSTM with batch_size=100, hidden_size=100, optimizer=SGD, lr=0.5, momemtum=0.99, num_layers=5, dropout=0.2\n"
     ]
    },
    {
     "data": {
      "image/png": "[encoded data removed]",
      "text/plain": [
       "<Figure size 432x288 with 1 Axes>"
      ]
     },
     "metadata": {
      "needs_background": "light"
     },
     "output_type": "display_data"
    }
   ],
   "source": [
    "print(\"LSTM with batch_size=100, hidden_size=100, optimizer=SGD, lr=0.5, momemtum=0.99, num_layers=5, dropout=0.2\")\n",
    "plt.plot(range(len(loss3)), loss3)\n",
    "plt.xlabel(\"Epoch\")\n",
    "plt.title(\"LSTM with batch_size = 100\")\n",
    "plt.show()"
   ]
  },
  {
   "cell_type": "code",
   "execution_count": 134,
   "id": "3981563e",
   "metadata": {},
   "outputs": [
    {
     "name": "stdout",
     "output_type": "stream",
     "text": [
      "Last error in training loss:  674.1071411132813\n",
      "\n",
      "Since 57 testing samples is not enough for batch size 100, leaked some of training samples into testing.\n",
      "Testing error:  723.1863403320312\n"
     ]
    }
   ],
   "source": [
    "# testing results\n",
    "print(\"Last error in training loss: \", loss3[-1])\n",
    "x = torch.from_numpy(arr[457:,:,:]).float().view(100,26,4)\n",
    "y = torch.from_numpy(np.asarray(\n",
    "            pd.read_csv(\"Crop_Yield_Data_challenge_2.csv\")[457:][\"Rice Yield (kg/ha)\"])).float()\n",
    "testing_dataset = MyDataset(x, y)\n",
    "#test_dataloader = DataLoader(training_dataset, batch_size=50, shuffle=True)\n",
    "\n",
    "# Evaluate the model on the test dataset\n",
    "total_loss = 0.0\n",
    "total_correct = 0\n",
    "\n",
    "inputs, targets = x.to(device), y.to(device)\n",
    "outputs = mod3(inputs)\n",
    "loss = criterion(outputs, targets)\n",
    "print(\"\\nSince 57 testing samples is not enough for batch size 100, leaked some of training samples into testing.\\nTesting error: \", loss.item())"
   ]
  },
  {
   "cell_type": "markdown",
   "id": "317bf1ce",
   "metadata": {},
   "source": [
    "### 2. Less underfit: batch_size = 50, num_layers = 5, hidden_size = 200, dropout=0.1\n",
    "#### Since lr was too slow last time, change to Adam"
   ]
  },
  {
   "cell_type": "code",
   "execution_count": 135,
   "id": "c3059442",
   "metadata": {},
   "outputs": [],
   "source": [
    "# prepare data -- make sure it's divided to batch\n",
    "# use the first 500 data points as training\n",
    "x = torch.from_numpy(arr[:500,:,:]).float().view(500, 26, 4)\n",
    "y = torch.from_numpy(np.asarray(\n",
    "            pd.read_csv(\"Crop_Yield_Data_challenge_2.csv\")[:500][\"Rice Yield (kg/ha)\"]))\n",
    "training_dataset = MyDataset(x, y)\n",
    "train_dataloader = DataLoader(training_dataset, batch_size=50, shuffle=True)"
   ]
  },
  {
   "cell_type": "code",
   "execution_count": 136,
   "id": "b2dc4fea",
   "metadata": {},
   "outputs": [],
   "source": [
    "# Define hyperparameters -- can't change\n",
    "input_size = 4\n",
    "outout_size = 1\n",
    "\n",
    "# can change\n",
    "hidden_size = 200 \n",
    "criterion = nn.L1Loss()\n",
    "num_layers = 5\n",
    "batch_size = 50\n",
    "num_epochs = 20\n",
    "\n",
    "# Create the LSTM model\n",
    "mod4 = LSTMBN(input_size, hidden_size, num_layers, batch_size, dropout = 0.1)\n",
    "mod4.to(device)\n",
    "\n",
    "# Define the loss function and optimizer\n",
    "criterion = nn.L1Loss()\n",
    "optimizer = torch.optim.Adam(mod4.parameters(), lr=0.05)"
   ]
  },
  {
   "cell_type": "code",
   "execution_count": 137,
   "id": "d1033e0d",
   "metadata": {
    "scrolled": true
   },
   "outputs": [
    {
     "name": "stdout",
     "output_type": "stream",
     "text": [
      "Epoch [2/20], Loss: 6525.9172\n",
      "Epoch [4/20], Loss: 5901.2949\n",
      "Epoch [6/20], Loss: 4439.6146\n",
      "Epoch [8/20], Loss: 1963.4461\n",
      "Epoch [10/20], Loss: 771.0478\n",
      "Epoch [12/20], Loss: 679.8991\n",
      "Epoch [14/20], Loss: 675.6930\n",
      "Epoch [16/20], Loss: 674.8898\n",
      "Epoch [18/20], Loss: 675.0321\n"
     ]
    },
    {
     "ename": "KeyboardInterrupt",
     "evalue": "",
     "output_type": "error",
     "traceback": [
      "\u001b[0;31m---------------------------------------------------------------------------\u001b[0m",
      "\u001b[0;31mKeyboardInterrupt\u001b[0m                         Traceback (most recent call last)",
      "\u001b[0;32m/tmp/ipykernel_179/19828795.py\u001b[0m in \u001b[0;36m<module>\u001b[0;34m\u001b[0m\n\u001b[1;32m     12\u001b[0m         \u001b[0;31m# clip gradient to avoid exploding gradient\u001b[0m\u001b[0;34m\u001b[0m\u001b[0;34m\u001b[0m\u001b[0;34m\u001b[0m\u001b[0m\n\u001b[1;32m     13\u001b[0m         \u001b[0;31m#clip_grad_norm_(mod3.parameters(), max_norm = 0.1, norm_type=\"inf\", error_if_nonfinite=False)\u001b[0m\u001b[0;34m\u001b[0m\u001b[0;34m\u001b[0m\u001b[0;34m\u001b[0m\u001b[0m\n\u001b[0;32m---> 14\u001b[0;31m         \u001b[0moptimizer\u001b[0m\u001b[0;34m.\u001b[0m\u001b[0mstep\u001b[0m\u001b[0;34m(\u001b[0m\u001b[0;34m)\u001b[0m\u001b[0;34m\u001b[0m\u001b[0;34m\u001b[0m\u001b[0m\n\u001b[0m\u001b[1;32m     15\u001b[0m         \u001b[0mrunning_loss\u001b[0m \u001b[0;34m+=\u001b[0m \u001b[0mloss\u001b[0m\u001b[0;34m.\u001b[0m\u001b[0mitem\u001b[0m\u001b[0;34m(\u001b[0m\u001b[0;34m)\u001b[0m\u001b[0;34m\u001b[0m\u001b[0;34m\u001b[0m\u001b[0m\n\u001b[1;32m     16\u001b[0m     \u001b[0mepoch_loss\u001b[0m \u001b[0;34m=\u001b[0m \u001b[0mrunning_loss\u001b[0m \u001b[0;34m/\u001b[0m \u001b[0mlen\u001b[0m\u001b[0;34m(\u001b[0m\u001b[0mtrain_dataloader\u001b[0m\u001b[0;34m)\u001b[0m\u001b[0;34m\u001b[0m\u001b[0;34m\u001b[0m\u001b[0m\n",
      "\u001b[0;32m~/.local/lib/python3.9/site-packages/torch/optim/optimizer.py\u001b[0m in \u001b[0;36mwrapper\u001b[0;34m(*args, **kwargs)\u001b[0m\n\u001b[1;32m    138\u001b[0m                 \u001b[0mprofile_name\u001b[0m \u001b[0;34m=\u001b[0m \u001b[0;34m\"Optimizer.step#{}.step\"\u001b[0m\u001b[0;34m.\u001b[0m\u001b[0mformat\u001b[0m\u001b[0;34m(\u001b[0m\u001b[0mobj\u001b[0m\u001b[0;34m.\u001b[0m\u001b[0m__class__\u001b[0m\u001b[0;34m.\u001b[0m\u001b[0m__name__\u001b[0m\u001b[0;34m)\u001b[0m\u001b[0;34m\u001b[0m\u001b[0;34m\u001b[0m\u001b[0m\n\u001b[1;32m    139\u001b[0m                 \u001b[0;32mwith\u001b[0m \u001b[0mtorch\u001b[0m\u001b[0;34m.\u001b[0m\u001b[0mautograd\u001b[0m\u001b[0;34m.\u001b[0m\u001b[0mprofiler\u001b[0m\u001b[0;34m.\u001b[0m\u001b[0mrecord_function\u001b[0m\u001b[0;34m(\u001b[0m\u001b[0mprofile_name\u001b[0m\u001b[0;34m)\u001b[0m\u001b[0;34m:\u001b[0m\u001b[0;34m\u001b[0m\u001b[0;34m\u001b[0m\u001b[0m\n\u001b[0;32m--> 140\u001b[0;31m                     \u001b[0mout\u001b[0m \u001b[0;34m=\u001b[0m \u001b[0mfunc\u001b[0m\u001b[0;34m(\u001b[0m\u001b[0;34m*\u001b[0m\u001b[0margs\u001b[0m\u001b[0;34m,\u001b[0m \u001b[0;34m**\u001b[0m\u001b[0mkwargs\u001b[0m\u001b[0;34m)\u001b[0m\u001b[0;34m\u001b[0m\u001b[0;34m\u001b[0m\u001b[0m\n\u001b[0m\u001b[1;32m    141\u001b[0m                     \u001b[0mobj\u001b[0m\u001b[0;34m.\u001b[0m\u001b[0m_optimizer_step_code\u001b[0m\u001b[0;34m(\u001b[0m\u001b[0;34m)\u001b[0m\u001b[0;34m\u001b[0m\u001b[0;34m\u001b[0m\u001b[0m\n\u001b[1;32m    142\u001b[0m                     \u001b[0;32mreturn\u001b[0m \u001b[0mout\u001b[0m\u001b[0;34m\u001b[0m\u001b[0;34m\u001b[0m\u001b[0m\n",
      "\u001b[0;32m~/.local/lib/python3.9/site-packages/torch/optim/optimizer.py\u001b[0m in \u001b[0;36m_use_grad\u001b[0;34m(self, *args, **kwargs)\u001b[0m\n\u001b[1;32m     21\u001b[0m         \u001b[0;32mtry\u001b[0m\u001b[0;34m:\u001b[0m\u001b[0;34m\u001b[0m\u001b[0;34m\u001b[0m\u001b[0m\n\u001b[1;32m     22\u001b[0m             \u001b[0mtorch\u001b[0m\u001b[0;34m.\u001b[0m\u001b[0mset_grad_enabled\u001b[0m\u001b[0;34m(\u001b[0m\u001b[0mself\u001b[0m\u001b[0;34m.\u001b[0m\u001b[0mdefaults\u001b[0m\u001b[0;34m[\u001b[0m\u001b[0;34m'differentiable'\u001b[0m\u001b[0;34m]\u001b[0m\u001b[0;34m)\u001b[0m\u001b[0;34m\u001b[0m\u001b[0;34m\u001b[0m\u001b[0m\n\u001b[0;32m---> 23\u001b[0;31m             \u001b[0mret\u001b[0m \u001b[0;34m=\u001b[0m \u001b[0mfunc\u001b[0m\u001b[0;34m(\u001b[0m\u001b[0mself\u001b[0m\u001b[0;34m,\u001b[0m \u001b[0;34m*\u001b[0m\u001b[0margs\u001b[0m\u001b[0;34m,\u001b[0m \u001b[0;34m**\u001b[0m\u001b[0mkwargs\u001b[0m\u001b[0;34m)\u001b[0m\u001b[0;34m\u001b[0m\u001b[0;34m\u001b[0m\u001b[0m\n\u001b[0m\u001b[1;32m     24\u001b[0m         \u001b[0;32mfinally\u001b[0m\u001b[0;34m:\u001b[0m\u001b[0;34m\u001b[0m\u001b[0;34m\u001b[0m\u001b[0m\n\u001b[1;32m     25\u001b[0m             \u001b[0mtorch\u001b[0m\u001b[0;34m.\u001b[0m\u001b[0mset_grad_enabled\u001b[0m\u001b[0;34m(\u001b[0m\u001b[0mprev_grad\u001b[0m\u001b[0;34m)\u001b[0m\u001b[0;34m\u001b[0m\u001b[0;34m\u001b[0m\u001b[0m\n",
      "\u001b[0;32m~/.local/lib/python3.9/site-packages/torch/optim/adam.py\u001b[0m in \u001b[0;36mstep\u001b[0;34m(self, closure, grad_scaler)\u001b[0m\n\u001b[1;32m    232\u001b[0m                     \u001b[0mstate_steps\u001b[0m\u001b[0;34m.\u001b[0m\u001b[0mappend\u001b[0m\u001b[0;34m(\u001b[0m\u001b[0mstate\u001b[0m\u001b[0;34m[\u001b[0m\u001b[0;34m'step'\u001b[0m\u001b[0;34m]\u001b[0m\u001b[0;34m)\u001b[0m\u001b[0;34m\u001b[0m\u001b[0;34m\u001b[0m\u001b[0m\n\u001b[1;32m    233\u001b[0m \u001b[0;34m\u001b[0m\u001b[0m\n\u001b[0;32m--> 234\u001b[0;31m             adam(params_with_grad,\n\u001b[0m\u001b[1;32m    235\u001b[0m                  \u001b[0mgrads\u001b[0m\u001b[0;34m,\u001b[0m\u001b[0;34m\u001b[0m\u001b[0;34m\u001b[0m\u001b[0m\n\u001b[1;32m    236\u001b[0m                  \u001b[0mexp_avgs\u001b[0m\u001b[0;34m,\u001b[0m\u001b[0;34m\u001b[0m\u001b[0;34m\u001b[0m\u001b[0m\n",
      "\u001b[0;32m~/.local/lib/python3.9/site-packages/torch/optim/adam.py\u001b[0m in \u001b[0;36madam\u001b[0;34m(params, grads, exp_avgs, exp_avg_sqs, max_exp_avg_sqs, state_steps, foreach, capturable, differentiable, fused, grad_scale, found_inf, amsgrad, beta1, beta2, lr, weight_decay, eps, maximize)\u001b[0m\n\u001b[1;32m    298\u001b[0m         \u001b[0mfunc\u001b[0m \u001b[0;34m=\u001b[0m \u001b[0m_single_tensor_adam\u001b[0m\u001b[0;34m\u001b[0m\u001b[0;34m\u001b[0m\u001b[0m\n\u001b[1;32m    299\u001b[0m \u001b[0;34m\u001b[0m\u001b[0m\n\u001b[0;32m--> 300\u001b[0;31m     func(params,\n\u001b[0m\u001b[1;32m    301\u001b[0m          \u001b[0mgrads\u001b[0m\u001b[0;34m,\u001b[0m\u001b[0;34m\u001b[0m\u001b[0;34m\u001b[0m\u001b[0m\n\u001b[1;32m    302\u001b[0m          \u001b[0mexp_avgs\u001b[0m\u001b[0;34m,\u001b[0m\u001b[0;34m\u001b[0m\u001b[0;34m\u001b[0m\u001b[0m\n",
      "\u001b[0;32m~/.local/lib/python3.9/site-packages/torch/optim/adam.py\u001b[0m in \u001b[0;36m_single_tensor_adam\u001b[0;34m(params, grads, exp_avgs, exp_avg_sqs, max_exp_avg_sqs, state_steps, grad_scale, found_inf, amsgrad, beta1, beta2, lr, weight_decay, eps, maximize, capturable, differentiable)\u001b[0m\n\u001b[1;32m    361\u001b[0m \u001b[0;34m\u001b[0m\u001b[0m\n\u001b[1;32m    362\u001b[0m         \u001b[0;31m# Decay the first and second moment running average coefficient\u001b[0m\u001b[0;34m\u001b[0m\u001b[0;34m\u001b[0m\u001b[0;34m\u001b[0m\u001b[0m\n\u001b[0;32m--> 363\u001b[0;31m         \u001b[0mexp_avg\u001b[0m\u001b[0;34m.\u001b[0m\u001b[0mmul_\u001b[0m\u001b[0;34m(\u001b[0m\u001b[0mbeta1\u001b[0m\u001b[0;34m)\u001b[0m\u001b[0;34m.\u001b[0m\u001b[0madd_\u001b[0m\u001b[0;34m(\u001b[0m\u001b[0mgrad\u001b[0m\u001b[0;34m,\u001b[0m \u001b[0malpha\u001b[0m\u001b[0;34m=\u001b[0m\u001b[0;36m1\u001b[0m \u001b[0;34m-\u001b[0m \u001b[0mbeta1\u001b[0m\u001b[0;34m)\u001b[0m\u001b[0;34m\u001b[0m\u001b[0;34m\u001b[0m\u001b[0m\n\u001b[0m\u001b[1;32m    364\u001b[0m         \u001b[0mexp_avg_sq\u001b[0m\u001b[0;34m.\u001b[0m\u001b[0mmul_\u001b[0m\u001b[0;34m(\u001b[0m\u001b[0mbeta2\u001b[0m\u001b[0;34m)\u001b[0m\u001b[0;34m.\u001b[0m\u001b[0maddcmul_\u001b[0m\u001b[0;34m(\u001b[0m\u001b[0mgrad\u001b[0m\u001b[0;34m,\u001b[0m \u001b[0mgrad\u001b[0m\u001b[0;34m.\u001b[0m\u001b[0mconj\u001b[0m\u001b[0;34m(\u001b[0m\u001b[0;34m)\u001b[0m\u001b[0;34m,\u001b[0m \u001b[0mvalue\u001b[0m\u001b[0;34m=\u001b[0m\u001b[0;36m1\u001b[0m \u001b[0;34m-\u001b[0m \u001b[0mbeta2\u001b[0m\u001b[0;34m)\u001b[0m\u001b[0;34m\u001b[0m\u001b[0;34m\u001b[0m\u001b[0m\n\u001b[1;32m    365\u001b[0m \u001b[0;34m\u001b[0m\u001b[0m\n",
      "\u001b[0;31mKeyboardInterrupt\u001b[0m: "
     ]
    }
   ],
   "source": [
    "# Train the model\n",
    "print_freq = 2\n",
    "loss4 = []\n",
    "for epoch in range(num_epochs):\n",
    "    running_loss = 0.0\n",
    "    for i, data in enumerate(train_dataloader, 0):\n",
    "        inputs, labels = data[0].to(device), data[1].to(device)\n",
    "        optimizer.zero_grad()\n",
    "        outputs = mod4(inputs)\n",
    "        loss = criterion(outputs, labels)\n",
    "        loss.backward()\n",
    "        # clip gradient to avoid exploding gradient\n",
    "        #clip_grad_norm_(mod3.parameters(), max_norm = 0.1, norm_type=\"inf\", error_if_nonfinite=False)\n",
    "        optimizer.step()\n",
    "        running_loss += loss.item()\n",
    "    epoch_loss = running_loss / len(train_dataloader)\n",
    "    loss4.append(epoch_loss)\n",
    "    if epoch% print_freq == 1:\n",
    "        print(f'Epoch [{epoch+1}/{num_epochs}], Loss: {epoch_loss:.4f}')\n",
    "print(\"Finished training\")"
   ]
  },
  {
   "cell_type": "code",
   "execution_count": 138,
   "id": "69edc0c4",
   "metadata": {},
   "outputs": [
    {
     "name": "stdout",
     "output_type": "stream",
     "text": [
      "LSTM with batch_size=50, hidden_size=200, optimizer=Adam, lr=0.05, num_layers=5, dropout=0.1\n"
     ]
    },
    {
     "data": {
      "image/png": "[encoded data removed]",
      "text/plain": [
       "<Figure size 432x288 with 1 Axes>"
      ]
     },
     "metadata": {
      "needs_background": "light"
     },
     "output_type": "display_data"
    }
   ],
   "source": [
    "print(\"LSTM with batch_size=50, hidden_size=200, optimizer=Adam, lr=0.05, num_layers=5, dropout=0.1\")\n",
    "plt.plot(range(len(loss4)), loss4)\n",
    "plt.xlabel(\"Epoch\")\n",
    "plt.title(\"LSTM with batch_size = 50\")\n",
    "plt.show()"
   ]
  },
  {
   "cell_type": "code",
   "execution_count": 147,
   "id": "8d1b3a49",
   "metadata": {},
   "outputs": [
    {
     "name": "stdout",
     "output_type": "stream",
     "text": [
      "Last error in training loss:  674.3980529785156\n",
      "\n",
      "Since 57 testing samples is not enough for batch size 100, leaked some of training samples into testing to get two batches.\n",
      "\n",
      "Testing error:  720.1632080078125\n"
     ]
    }
   ],
   "source": [
    "# testing results\n",
    "print(\"Last error in training loss: \", loss4[-1])\n",
    "\n",
    "print(\"\\nSince 57 testing samples is not enough for batch size 100, leaked some of training samples into testing to get two batches.\\n\")\n",
    "      \n",
    "x = torch.from_numpy(arr[457:,:,:]).float().view(100,26,4)\n",
    "y = torch.from_numpy(np.asarray(\n",
    "            pd.read_csv(\"Crop_Yield_Data_challenge_2.csv\")[457:][\"Rice Yield (kg/ha)\"])).float()\n",
    "testing_dataset = MyDataset(x, y)\n",
    "test_dataloader = DataLoader(testing_dataset, batch_size=50, shuffle=True)\n",
    "\n",
    "# Evaluate the model on the test dataset -- leaked some points to get two batches\n",
    "total_loss = 0.0\n",
    "\n",
    "for i , data in enumerate(test_dataloader):\n",
    "    inputs, targets = data[0].to(device), data[1].to(device)\n",
    "    outputs = mod4(inputs)\n",
    "    loss = criterion(outputs, targets)\n",
    "    total_loss += loss.item()\n",
    "print(\"Testing error: \", total_loss/ len(test_dataloader))"
   ]
  },
  {
   "cell_type": "markdown",
   "id": "ca12cee6",
   "metadata": {},
   "source": [
    "### 3. Even smaller batch --- batch_size = 20, num_layers = 10, hidden_size = 100, dropout = 0\n",
    "#### Use Adam optimizer"
   ]
  },
  {
   "cell_type": "code",
   "execution_count": 152,
   "id": "9ecb826c",
   "metadata": {},
   "outputs": [],
   "source": [
    "# prepare data -- make sure it's divided to batch\n",
    "# use the first 500 data points as training\n",
    "x = torch.from_numpy(arr[:500,:,:]).float().view(500, 26, 4)\n",
    "y = torch.from_numpy(np.asarray(\n",
    "            pd.read_csv(\"Crop_Yield_Data_challenge_2.csv\")[:500][\"Rice Yield (kg/ha)\"]))\n",
    "training_dataset = MyDataset(x, y)\n",
    "train_dataloader = DataLoader(training_dataset, batch_size=20, shuffle=True)"
   ]
  },
  {
   "cell_type": "code",
   "execution_count": 153,
   "id": "01268d2d",
   "metadata": {},
   "outputs": [],
   "source": [
    "# Define hyperparameters \n",
    "hidden_size = 100 \n",
    "num_layers = 10\n",
    "batch_size = 20\n",
    "num_epochs = 20\n",
    "\n",
    "# Create the LSTM model\n",
    "mod5 = LSTMBN(input_size, hidden_size, num_layers, batch_size, dropout=0)\n",
    "mod5.to(device)\n",
    "\n",
    "# Define the loss function and optimizer\n",
    "criterion = nn.L1Loss()\n",
    "optimizer = torch.optim.Adam(mod5.parameters(), lr=0.05)"
   ]
  },
  {
   "cell_type": "code",
   "execution_count": 154,
   "id": "c36b12c1",
   "metadata": {},
   "outputs": [
    {
     "ename": "KeyboardInterrupt",
     "evalue": "",
     "output_type": "error",
     "traceback": [
      "\u001b[0;31m---------------------------------------------------------------------------\u001b[0m",
      "\u001b[0;31mKeyboardInterrupt\u001b[0m                         Traceback (most recent call last)",
      "\u001b[0;32m/tmp/ipykernel_179/4222916058.py\u001b[0m in \u001b[0;36m<module>\u001b[0;34m\u001b[0m\n\u001b[1;32m      5\u001b[0m     \u001b[0mrunning_loss\u001b[0m \u001b[0;34m=\u001b[0m \u001b[0;36m0.0\u001b[0m\u001b[0;34m\u001b[0m\u001b[0;34m\u001b[0m\u001b[0m\n\u001b[1;32m      6\u001b[0m     \u001b[0;32mfor\u001b[0m \u001b[0mi\u001b[0m\u001b[0;34m,\u001b[0m \u001b[0mdata\u001b[0m \u001b[0;32min\u001b[0m \u001b[0menumerate\u001b[0m\u001b[0;34m(\u001b[0m\u001b[0mtrain_dataloader\u001b[0m\u001b[0;34m,\u001b[0m \u001b[0;36m0\u001b[0m\u001b[0;34m)\u001b[0m\u001b[0;34m:\u001b[0m\u001b[0;34m\u001b[0m\u001b[0;34m\u001b[0m\u001b[0m\n\u001b[0;32m----> 7\u001b[0;31m         \u001b[0minputs\u001b[0m\u001b[0;34m,\u001b[0m \u001b[0mlabels\u001b[0m \u001b[0;34m=\u001b[0m \u001b[0mdata\u001b[0m\u001b[0;34m[\u001b[0m\u001b[0;36m0\u001b[0m\u001b[0;34m]\u001b[0m\u001b[0;34m.\u001b[0m\u001b[0mto\u001b[0m\u001b[0;34m(\u001b[0m\u001b[0mdevice\u001b[0m\u001b[0;34m)\u001b[0m\u001b[0;34m,\u001b[0m \u001b[0mdata\u001b[0m\u001b[0;34m[\u001b[0m\u001b[0;36m1\u001b[0m\u001b[0;34m]\u001b[0m\u001b[0;34m.\u001b[0m\u001b[0mto\u001b[0m\u001b[0;34m(\u001b[0m\u001b[0mdevice\u001b[0m\u001b[0;34m)\u001b[0m\u001b[0;34m\u001b[0m\u001b[0;34m\u001b[0m\u001b[0m\n\u001b[0m\u001b[1;32m      8\u001b[0m         \u001b[0moptimizer\u001b[0m\u001b[0;34m.\u001b[0m\u001b[0mzero_grad\u001b[0m\u001b[0;34m(\u001b[0m\u001b[0;34m)\u001b[0m\u001b[0;34m\u001b[0m\u001b[0;34m\u001b[0m\u001b[0m\n\u001b[1;32m      9\u001b[0m         \u001b[0moutputs\u001b[0m \u001b[0;34m=\u001b[0m \u001b[0mmod5\u001b[0m\u001b[0;34m(\u001b[0m\u001b[0minputs\u001b[0m\u001b[0;34m)\u001b[0m\u001b[0;34m\u001b[0m\u001b[0;34m\u001b[0m\u001b[0m\n",
      "\u001b[0;31mKeyboardInterrupt\u001b[0m: "
     ]
    }
   ],
   "source": [
    "# Train the model\n",
    "print_freq = 2\n",
    "loss5 = []\n",
    "for epoch in range(num_epochs):\n",
    "    running_loss = 0.0\n",
    "    for i, data in enumerate(train_dataloader, 0):\n",
    "        inputs, labels = data[0].to(device), data[1].to(device)\n",
    "        optimizer.zero_grad()\n",
    "        outputs = mod5(inputs)\n",
    "        loss = criterion(outputs, labels)\n",
    "        loss.backward()\n",
    "        optimizer.step()\n",
    "        running_loss += loss.item()\n",
    "    epoch_loss = running_loss / len(train_dataloader)\n",
    "    loss5.append(epoch_loss)\n",
    "    if epoch% print_freq == 1:\n",
    "        print(f'Epoch [{epoch+1}/{num_epochs}], Loss: {epoch_loss:.4f}')\n",
    "print(\"Finished training\")"
   ]
  },
  {
   "cell_type": "code",
   "execution_count": null,
   "id": "bd27ebe9",
   "metadata": {},
   "outputs": [],
   "source": [
    "print(\"LSTM with batch_size=20, hidden_size=100, optimizer=Adam, lr=0.05, num_layers=10, dropout=0\")\n",
    "plt.plot(range(len(loss5)), loss5)\n",
    "plt.xlabel(\"Epoch\")\n",
    "plt.title(\"LSTM with batch_size = 20\")\n",
    "plt.show()"
   ]
  },
  {
   "cell_type": "code",
   "execution_count": null,
   "id": "c331f574",
   "metadata": {},
   "outputs": [],
   "source": [
    "# testing results\n",
    "print(\"Last error in training loss: \", loss5[-1])\n",
    "\n",
    "print(\"\\nSince 57 testing samples is not enough for batch size 20, leaked some of training samples into testing to get three batches.\\n\")\n",
    "      \n",
    "x = torch.from_numpy(arr[497:,:,:]).float().view(60,26,4)\n",
    "y = torch.from_numpy(np.asarray(\n",
    "            pd.read_csv(\"Crop_Yield_Data_challenge_2.csv\")[497:][\"Rice Yield (kg/ha)\"])).float()\n",
    "testing_dataset = MyDataset(x, y)\n",
    "test_dataloader = DataLoader(testing_dataset, batch_size=20, shuffle=True)\n",
    "\n",
    "# Evaluate the model on the test dataset -- leaked some points to get two batches\n",
    "total_loss = 0.0\n",
    "for i , data in enumerate(test_dataloader):\n",
    "    inputs, targets = data[0].to(device), data[1].to(device)\n",
    "    outputs = mod5(inputs)\n",
    "    loss = criterion(outputs, targets)\n",
    "    total_loss += loss.item()\n",
    "print(\"Testing error: \", total_loss/ len(test_dataloader))"
   ]
  },
  {
   "cell_type": "markdown",
   "id": "351e1615",
   "metadata": {},
   "source": [
    "-----\n",
    "-----\n",
    "#### *Helper functions - run these first before training any model*"
   ]
  },
  {
   "cell_type": "code",
   "execution_count": 12,
   "id": "532a9a32",
   "metadata": {},
   "outputs": [],
   "source": [
    "class MyDataset(Dataset):\n",
    "    def __init__(self, X, Y):\n",
    "        self.X = X\n",
    "        self.Y = Y\n",
    "    def __len__(self):\n",
    "        return len(self.X)\n",
    "    def __getitem__(self, idx):\n",
    "        x = self.X[idx]\n",
    "        y = self.Y[idx]\n",
    "        return x, y"
   ]
  },
  {
   "cell_type": "markdown",
   "id": "1cbee07a",
   "metadata": {},
   "source": [
    "**Getting a NaN loss during training of an LSTM model in PyTorch usually indicates a numerical instability in the optimization process. It can occur due to several reasons, such as:**\n",
    "\n",
    "- Exploding gradients: In LSTM models, gradients can become too large, causing the weights to update with excessively large values. This can make the model unstable and lead to NaN losses.\n",
    "- Vanishing gradients: The opposite of exploding gradients, when the gradients become too small and can’t update the weights effectively, leading to stagnation of the training process.\n",
    "- Too high learning rate: A high learning rate can cause the optimization process to overshoot the optimal solution and lead to divergence.\n",
    "- Numerical precision: Some operations in PyTorch can be numerically unstable, especially when working with very large or very small numbers. This can lead to NaN losses if not handled properly.\n",
    "\n",
    "**To fix this issue, you can try the following steps:**\n",
    "- Clip the gradients: To prevent exploding gradients, you can clip the gradients to a maximum norm value.\n",
    "- ***Use gradient regularization: Regularization techniques such as weight decay, dropout, and batch normalization can help prevent overfitting and reduce the risk of numerical instability.***\n",
    "- Check the input data: Make sure that the input data does not contain NaN or Inf values.\n",
    "- Decrease the learning rate: If the learning rate is too high, try decreasing it to prevent overshooting.\n",
    "- Use higher precision: You can try using higher precision data types such as float64 to reduce the risk of numerical instability.\n",
    "- Debugging: You can use debugging techniques such as printing the intermediate results of your model and checking the data types of your inputs and outputs."
   ]
  }
 ],
 "metadata": {
  "kernelspec": {
   "display_name": "Python 3 (ipykernel)",
   "language": "python",
   "name": "python3"
  },
  "language_info": {
   "codemirror_mode": {
    "name": "ipython",
    "version": 3
   },
   "file_extension": ".py",
   "mimetype": "text/x-python",
   "name": "python",
   "nbconvert_exporter": "python",
   "pygments_lexer": "ipython3",
   "version": "3.9.5"
  }
 },
 "nbformat": 4,
 "nbformat_minor": 5
}
