{
 "cells": [
  {
   "cell_type": "code",
   "execution_count": 1,
   "id": "2c12db45",
   "metadata": {},
   "outputs": [],
   "source": [
    "# Supress Warnings\n",
    "import warnings\n",
    "warnings.filterwarnings('ignore')\n",
    "import pandas as pd\n",
    "import numpy as np\n",
    "import matplotlib.pyplot as plt\n",
    "import seaborn as sns\n",
    "import torch\n",
    "import torch.nn as nn\n",
    "from torch.utils.data import Dataset, DataLoader\n",
    "from torch.nn.utils.rnn import pad_sequence\n",
    "import torch.optim as optim\n",
    "from statsmodels.tsa.stattools import acf\n",
    "from sklearn.model_selection import train_test_split\n",
    "from sklearn.ensemble import ExtraTreesRegressor\n",
    "from sklearn.metrics import r2_score, mean_squared_error\n",
    "from sklearn.preprocessing import normalize\n",
    "from sklearn.model_selection import GridSearchCV"
   ]
  },
  {
   "cell_type": "markdown",
   "id": "92ea9610",
   "metadata": {},
   "source": [
    "#### Since the first get data got garbage result for RNN, we try to get new data with a more similar # of days - set WS to Dec-April, and SA to April-Aug"
   ]
  },
  {
   "cell_type": "code",
   "execution_count": 2,
   "id": "3975d20f",
   "metadata": {},
   "outputs": [],
   "source": [
    "dftest1 = pd.read_csv(\"vh_vv_data_new_20.csv\").drop(\"Unnamed: 0\", axis =1)\n",
    "dftest2 = pd.read_csv(\"vh_vv_data_new_20_100.csv\").drop(\"Unnamed: 0\", axis =1)\n",
    "dftest3 = pd.read_csv(\"vh_vv_data_new_100_200.csv\").drop(\"Unnamed: 0\", axis =1)\n",
    "dftest4 = pd.read_csv(\"vh_vv_data_new_200_225.csv\").drop(\"Unnamed: 0\", axis =1)\n",
    "dftest5 = pd.read_csv(\"vh_vv_data_new_225_300.csv\").drop(\"Unnamed: 0\", axis =1)\n",
    "dftest6 = pd.read_csv(\"vh_vv_data_new_300_350.csv\").drop(\"Unnamed: 0\", axis =1)\n",
    "dftest7 = pd.read_csv(\"vh_vv_data_new_350_400.csv\").drop(\"Unnamed: 0\", axis =1)\n",
    "dftest8 = pd.read_csv(\"vh_vv_data_new_400_450.csv\").drop(\"Unnamed: 0\", axis =1)\n",
    "dftest9 = pd.read_csv(\"vh_vv_data_new_450_500.csv\").drop(\"Unnamed: 0\", axis =1)\n",
    "dftest10 = pd.read_csv(\"vh_vv_data_new_500_557.csv\").drop(\"Unnamed: 0\", axis =1)\n",
    "dftest = pd.concat([dftest1,dftest2,dftest3,dftest4, dftest5,dftest6, dftest7, dftest8, dftest9,dftest10])"
   ]
  },
  {
   "cell_type": "markdown",
   "id": "98db9d1c",
   "metadata": {},
   "source": [
    "-----\n",
    "### Baseline RNN\n",
    "Use the padded version of data"
   ]
  },
  {
   "cell_type": "code",
   "execution_count": 3,
   "id": "12f1f4ab",
   "metadata": {},
   "outputs": [],
   "source": [
    "def clean_from_df_pad(string):\n",
    "    \"\"\"\n",
    "    takes in each cell as a string and replaces it with an array of float value. \n",
    "    Also pads the sequence to length 26\n",
    "    \"\"\"\n",
    "    splitted = string.split(\" \")\n",
    "    result = []\n",
    "    for i in splitted:\n",
    "        number = float(i.replace(\",\",\"\").replace(\"[\", \"\").replace(\"]\", \"\"))\n",
    "        result.append(number)\n",
    "    if len(result) !=26:\n",
    "        missing = 26-len(result)\n",
    "        comp = [0] * missing\n",
    "        result = result + comp\n",
    "    return np.asarray(result)"
   ]
  },
  {
   "cell_type": "code",
   "execution_count": 4,
   "id": "aa93267a",
   "metadata": {},
   "outputs": [],
   "source": [
    "# read in those dataframes again before this\n",
    "dftest[\"vv_list\"] = dftest.vv_list.apply(clean_from_df_pad)\n",
    "dftest[\"vh_list\"] = dftest.vh_list.apply(clean_from_df_pad)\n",
    "dftest['vv/vh_list'] = dftest['vv/vh_list'].apply(clean_from_df_pad)"
   ]
  },
  {
   "cell_type": "code",
   "execution_count": 5,
   "id": "a42d8109",
   "metadata": {
    "scrolled": true
   },
   "outputs": [],
   "source": [
    "# add a climate index called rvi\n",
    "def calculate_rvi(vv, vh):\n",
    "    \"\"\"\n",
    "    takes in a list of vvs and a list of vhs, return a list of their rvis\n",
    "    dop = vv/(vv+vh)\n",
    "    m = 1-dop\n",
    "    m = np.sqrt(m)\n",
    "    power_func = 4*vh/(vv+vh)\n",
    "    rvi = m*power_func\n",
    "    \"\"\"\n",
    "    if len(vv)!= len(vh):\n",
    "        return None\n",
    "    else:\n",
    "        rvi_lst = []\n",
    "        for i in range(len(vv)):\n",
    "            rvi = np.sqrt(1-vv[i]/(vv[i]+vh[i])) * 4*vh[i]/(vv[i]+vh[i])\n",
    "            rvi_lst.append(rvi)\n",
    "    return rvi_lst\n",
    "\n",
    "calculate_rvi_func = np.vectorize(calculate_rvi)"
   ]
  },
  {
   "cell_type": "code",
   "execution_count": 6,
   "id": "377b7419",
   "metadata": {},
   "outputs": [],
   "source": [
    "dftest[\"rvi\"] = calculate_rvi(list(dftest.vv_list), list(dftest.vh_list))"
   ]
  },
  {
   "cell_type": "code",
   "execution_count": 7,
   "id": "b1af2b60",
   "metadata": {},
   "outputs": [],
   "source": [
    "# length is equal\n",
    "def df_to_arr_equal_len (df):\n",
    "    \"\"\"\n",
    "    takes in a df, which will be data, and transforms it into a 3-d array with its original size\n",
    "    \"\"\"\n",
    "    # loop through every row in df\n",
    "    res = []\n",
    "    for i in range(df.shape[0]):\n",
    "        row = list(df.iloc[i,:]) # each row of df is turned into a list of three elements, where each element is an array\n",
    "        new_row = [] # one day, one location, three variables\n",
    "        for var in row:\n",
    "            new_row.append(var)\n",
    "        res.append(new_row)\n",
    "    return np.asarray(res)"
   ]
  },
  {
   "cell_type": "code",
   "execution_count": 8,
   "id": "919d3898",
   "metadata": {},
   "outputs": [
    {
     "data": {
      "text/plain": [
       "2504"
      ]
     },
     "execution_count": 8,
     "metadata": {},
     "output_type": "execute_result"
    }
   ],
   "source": [
    "arr = df_to_arr_equal_len(dftest)\n",
    "np.isnan(arr).sum()"
   ]
  },
  {
   "cell_type": "code",
   "execution_count": 9,
   "id": "0684c568",
   "metadata": {},
   "outputs": [
    {
     "data": {
      "text/plain": [
       "(557, 4, 26)"
      ]
     },
     "execution_count": 9,
     "metadata": {},
     "output_type": "execute_result"
    }
   ],
   "source": [
    "# replace null rvi's with 0\n",
    "arr = np.nan_to_num(arr, nan=0)\n",
    "arr.shape"
   ]
  },
  {
   "cell_type": "code",
   "execution_count": 12,
   "id": "a84b6510",
   "metadata": {},
   "outputs": [],
   "source": [
    "# use the first 500 data points as training\n",
    "x = torch.from_numpy(arr[:500,:,:]).float().view(500,26,4)\n",
    "y = torch.from_numpy(np.asarray(\n",
    "            pd.read_csv(\"Crop_Yield_Data_challenge_2.csv\")[:500][\"Rice Yield (kg/ha)\"])).float()\n",
    "training_dataset = MyDataset(x, y)\n",
    "train_dataloader = DataLoader(training_dataset, batch_size=50, shuffle=True)"
   ]
  },
  {
   "cell_type": "code",
   "execution_count": 13,
   "id": "3cb1a4e6",
   "metadata": {},
   "outputs": [
    {
     "data": {
      "text/plain": [
       "torch.Size([500, 26, 4])"
      ]
     },
     "execution_count": 13,
     "metadata": {},
     "output_type": "execute_result"
    }
   ],
   "source": [
    "x.shape"
   ]
  },
  {
   "cell_type": "markdown",
   "id": "be239349",
   "metadata": {},
   "source": [
    "----\n",
    "### Based on final report outline, try three more models: one with deeper layer, one with batch_size = 100, one with batch_size = 5\n",
    "#### Deeper layer"
   ]
  },
  {
   "cell_type": "code",
   "execution_count": 17,
   "id": "493b451a",
   "metadata": {},
   "outputs": [
    {
     "name": "stdout",
     "output_type": "stream",
     "text": [
      "cuda:0\n"
     ]
    }
   ],
   "source": [
    "# get gpu\n",
    "device = torch.device(\"cuda:0\" if torch.cuda.is_available() else \"cpu\")\n",
    "print(device)  "
   ]
  },
  {
   "cell_type": "code",
   "execution_count": 18,
   "id": "c2c7d9b1",
   "metadata": {},
   "outputs": [],
   "source": [
    "# define baseline RNN, with batch norm\n",
    "class MyRNN(nn.Module):\n",
    "    def __init__(self, input_size, hidden_size, num_layers, output_size, batch_size, nonlinearity, \n",
    "                 dropout, bidirectional=False):\n",
    "        super(MyRNN, self).__init__()\n",
    "        self.hidden_size = hidden_size\n",
    "        self.num_layers = num_layers\n",
    "        self.batch_size = batch_size\n",
    "        self.rnn = nn.RNN(input_size, hidden_size, num_layers, batch_first=True)\n",
    "        self.bn = nn.BatchNorm1d(hidden_size)\n",
    "        self.fc = nn.Linear(hidden_size, output_size)\n",
    "    def forward(self, x):\n",
    "        h0 = torch.randn(self.num_layers, self.batch_size, self.hidden_size).requires_grad_().to(x.device)\n",
    "        out, _ = self.rnn(x, h0)\n",
    "        out = self.bn(out[:, -1, :])\n",
    "        out = self.fc(out)\n",
    "        return out"
   ]
  },
  {
   "cell_type": "code",
   "execution_count": 27,
   "id": "2015f392",
   "metadata": {},
   "outputs": [
    {
     "data": {
      "text/plain": [
       "MyRNN(\n",
       "  (rnn): RNN(4, 64, num_layers=20, batch_first=True)\n",
       "  (bn): BatchNorm1d(64, eps=1e-05, momentum=0.1, affine=True, track_running_stats=True)\n",
       "  (fc): Linear(in_features=64, out_features=1, bias=True)\n",
       ")"
      ]
     },
     "execution_count": 27,
     "metadata": {},
     "output_type": "execute_result"
    }
   ],
   "source": [
    "# Define the RNN model\n",
    "input_size = 4\n",
    "hidden_size = 64\n",
    "num_layers = 20\n",
    "output_size = 1\n",
    "batch_size = 50\n",
    "RNNmodel = MyRNN(input_size, hidden_size, num_layers, output_size, batch_size, nonlinearity=\"tanh\", dropout = 0.2)\n",
    "RNNmodel.to(device)"
   ]
  },
  {
   "cell_type": "code",
   "execution_count": 28,
   "id": "7903a119",
   "metadata": {},
   "outputs": [
    {
     "name": "stdout",
     "output_type": "stream",
     "text": [
      "Epoch [2/500], Loss: 6624.5819\n",
      "Epoch [61/500], Loss: 2797.5500\n",
      "Epoch [120/500], Loss: 673.9851\n",
      "Epoch [179/500], Loss: 673.8430\n",
      "Epoch [238/500], Loss: 673.8987\n",
      "Epoch [297/500], Loss: 673.9438\n",
      "Epoch [356/500], Loss: 674.4511\n",
      "Epoch [415/500], Loss: 673.8665\n",
      "Epoch [474/500], Loss: 673.9252\n",
      "finished training\n"
     ]
    }
   ],
   "source": [
    "criterion = nn.L1Loss()\n",
    "optimizer = optim.Adam(RNNmodel.parameters(), lr=0.008)\n",
    "num_epochs = 500\n",
    "print_freq = 59\n",
    "losses = []\n",
    "for epoch in range(num_epochs):\n",
    "    running_loss = 0.0\n",
    "    for i, data in enumerate(train_dataloader, 0):\n",
    "        inputs, labels = data[0].to(device), data[1].to(device)\n",
    "        optimizer.zero_grad()\n",
    "        outputs = RNNmodel(inputs)\n",
    "        loss = criterion(outputs, labels)\n",
    "        loss.backward()\n",
    "        optimizer.step()\n",
    "        running_loss += loss.item()\n",
    "        losses.append(running_loss/ len(train_dataloader))\n",
    "    if epoch% print_freq ==1:\n",
    "        print('Epoch [%d/%d], Loss: %.4f' % (epoch+1, num_epochs, running_loss / len(train_dataloader)))\n",
    "print(\"finished training\")"
   ]
  },
  {
   "cell_type": "code",
   "execution_count": 29,
   "id": "30e41331",
   "metadata": {},
   "outputs": [
    {
     "data": {
      "image/png": "[encoded data removed]",
      "text/plain": [
       "<Figure size 432x288 with 1 Axes>"
      ]
     },
     "metadata": {
      "needs_background": "light"
     },
     "output_type": "display_data"
    }
   ],
   "source": [
    "plt.plot(range(len(losses)), losses)\n",
    "plt.xlabel(\"Batches\")\n",
    "plt.ylabel(\"training error\")\n",
    "plt.title(\"Training with RNN batch_size = 50, num_layers = 20\")\n",
    "plt.show()"
   ]
  },
  {
   "cell_type": "code",
   "execution_count": 30,
   "id": "1d90ecf7",
   "metadata": {},
   "outputs": [
    {
     "data": {
      "text/plain": [
       "<bound method Module.parameters of MyRNN(\n",
       "  (rnn): RNN(4, 64, num_layers=20, batch_first=True)\n",
       "  (bn): BatchNorm1d(64, eps=1e-05, momentum=0.1, affine=True, track_running_stats=True)\n",
       "  (fc): Linear(in_features=64, out_features=1, bias=True)\n",
       ")>"
      ]
     },
     "execution_count": 30,
     "metadata": {},
     "output_type": "execute_result"
    }
   ],
   "source": [
    "RNNmodel.parameters"
   ]
  },
  {
   "cell_type": "code",
   "execution_count": 31,
   "id": "f08043f3",
   "metadata": {},
   "outputs": [
    {
     "name": "stdout",
     "output_type": "stream",
     "text": [
      "Last error in training loss:  673.9224060058593\n",
      "6739.212951660156 \n",
      "Testing erorr:  673.9212951660156\n"
     ]
    }
   ],
   "source": [
    "# testing results\n",
    "print(\"Last error in training loss: \", losses[-1])\n",
    "x = torch.from_numpy(arr[500:,:,:]).float().view(57,26,4)\n",
    "y = torch.from_numpy(np.asarray(\n",
    "            pd.read_csv(\"Crop_Yield_Data_challenge_2.csv\")[500:][\"Rice Yield (kg/ha)\"])).float()\n",
    "testing_dataset = MyDataset(x, y)\n",
    "test_dataloader = DataLoader(training_dataset, batch_size=50, shuffle=True)\n",
    "# Evaluate the model on the test dataset\n",
    "total_loss = 0.0\n",
    "total_correct = 0\n",
    "\n",
    "for batch in test_dataloader:\n",
    "    inputs, targets = batch[0].to(device), batch[1].to(device)\n",
    "    outputs = RNNmodel(inputs)\n",
    "    loss = criterion(outputs, targets)\n",
    "    total_loss += loss.item()\n",
    "print(total_loss, \"\\nTesting erorr: \",  total_loss/ len(test_dataloader))"
   ]
  },
  {
   "cell_type": "markdown",
   "id": "0c93ffb0",
   "metadata": {},
   "source": [
    "####  Batch_size = 100 & ReLU, num_layers = 10"
   ]
  },
  {
   "cell_type": "code",
   "execution_count": 32,
   "id": "f07d3e24",
   "metadata": {},
   "outputs": [],
   "source": [
    "# use the first 500 data points as training\n",
    "x = torch.from_numpy(arr[:500,:,:]).float().view(500,26,4)\n",
    "y = torch.from_numpy(np.asarray(\n",
    "            pd.read_csv(\"Crop_Yield_Data_challenge_2.csv\")[:500][\"Rice Yield (kg/ha)\"])).float()\n",
    "training_dataset = MyDataset(x, y)\n",
    "train_dataloader = DataLoader(training_dataset, batch_size=100, shuffle=True)"
   ]
  },
  {
   "cell_type": "code",
   "execution_count": 33,
   "id": "5148ec23",
   "metadata": {},
   "outputs": [
    {
     "data": {
      "text/plain": [
       "MyRNN(\n",
       "  (rnn): RNN(4, 64, num_layers=10, batch_first=True)\n",
       "  (bn): BatchNorm1d(64, eps=1e-05, momentum=0.1, affine=True, track_running_stats=True)\n",
       "  (fc): Linear(in_features=64, out_features=1, bias=True)\n",
       ")"
      ]
     },
     "execution_count": 33,
     "metadata": {},
     "output_type": "execute_result"
    }
   ],
   "source": [
    "# Define the RNN model\n",
    "input_size = 4\n",
    "hidden_size = 64\n",
    "num_layers = 10\n",
    "output_size = 1\n",
    "batch_size = 100\n",
    "RNNmodel2 = MyRNN(input_size, hidden_size, num_layers, output_size, batch_size, nonlinearity=\"relu\", dropout = 0.2)\n",
    "RNNmodel2.to(device)"
   ]
  },
  {
   "cell_type": "code",
   "execution_count": 34,
   "id": "d2c30445",
   "metadata": {},
   "outputs": [
    {
     "name": "stdout",
     "output_type": "stream",
     "text": [
      "Epoch [2/500], Loss: 6625.5868\n",
      "Epoch [61/500], Loss: 5706.1187\n",
      "Epoch [120/500], Loss: 2892.2199\n",
      "Epoch [179/500], Loss: 673.9297\n",
      "Epoch [238/500], Loss: 673.8054\n",
      "Epoch [297/500], Loss: 673.8350\n",
      "Epoch [356/500], Loss: 673.8290\n",
      "Epoch [415/500], Loss: 673.8198\n",
      "Epoch [474/500], Loss: 673.7693\n",
      "finished training\n"
     ]
    }
   ],
   "source": [
    "criterion = nn.L1Loss()\n",
    "optimizer = optim.Adam(RNNmodel2.parameters(), lr=0.008)\n",
    "num_epochs = 500\n",
    "print_freq = 59\n",
    "losses2 = []\n",
    "for epoch in range(num_epochs):\n",
    "    running_loss = 0.0\n",
    "    for i, data in enumerate(train_dataloader, 0):\n",
    "        inputs, labels = data[0].to(device), data[1].to(device)\n",
    "        optimizer.zero_grad()\n",
    "        outputs = RNNmodel2(inputs)\n",
    "        loss = criterion(outputs, labels)\n",
    "        loss.backward()\n",
    "        optimizer.step()\n",
    "        running_loss += loss.item()\n",
    "        losses2.append(running_loss/ len(train_dataloader))\n",
    "    if epoch% print_freq ==1:\n",
    "        print('Epoch [%d/%d], Loss: %.4f' % (epoch+1, num_epochs, running_loss / len(train_dataloader)))\n",
    "print(\"finished training\")"
   ]
  },
  {
   "cell_type": "code",
   "execution_count": 39,
   "id": "0de0d585",
   "metadata": {},
   "outputs": [
    {
     "data": {
      "image/png": "[encoded data removed]",
      "text/plain": [
       "<Figure size 432x288 with 1 Axes>"
      ]
     },
     "metadata": {
      "needs_background": "light"
     },
     "output_type": "display_data"
    }
   ],
   "source": [
    "plt.plot(range(len(losses2)), losses2)\n",
    "plt.xlabel(\"Batches\")\n",
    "plt.ylabel(\"training error\")\n",
    "plt.title(\"Training with RNN batch_size = 100, num_layers = 10\")\n",
    "plt.show()"
   ]
  },
  {
   "cell_type": "code",
   "execution_count": 40,
   "id": "c32922f8",
   "metadata": {},
   "outputs": [
    {
     "data": {
      "text/plain": [
       "<bound method Module.parameters of MyRNN(\n",
       "  (rnn): RNN(4, 64, num_layers=10, batch_first=True)\n",
       "  (bn): BatchNorm1d(64, eps=1e-05, momentum=0.1, affine=True, track_running_stats=True)\n",
       "  (fc): Linear(in_features=64, out_features=1, bias=True)\n",
       ")>"
      ]
     },
     "execution_count": 40,
     "metadata": {},
     "output_type": "execute_result"
    }
   ],
   "source": [
    "RNNmodel2.parameters"
   ]
  },
  {
   "cell_type": "code",
   "execution_count": 48,
   "id": "10600b62",
   "metadata": {},
   "outputs": [
    {
     "name": "stdout",
     "output_type": "stream",
     "text": [
      "Last error in training loss:  673.75341796875\n",
      "\n",
      "Since 57 testing samples is not enough for batch size 100, leaked some of training samples into testing.\n",
      "Testing error:  722.7276000976562\n"
     ]
    }
   ],
   "source": [
    "# testing results\n",
    "print(\"Last error in training loss: \", losses2[-1])\n",
    "x = torch.from_numpy(arr[457:,:,:]).float().view(100,26,4)\n",
    "y = torch.from_numpy(np.asarray(\n",
    "            pd.read_csv(\"Crop_Yield_Data_challenge_2.csv\")[457:][\"Rice Yield (kg/ha)\"])).float()\n",
    "testing_dataset = MyDataset(x, y)\n",
    "#test_dataloader = DataLoader(training_dataset, batch_size=50, shuffle=True)\n",
    "\n",
    "\n",
    "# Evaluate the model on the test dataset\n",
    "total_loss = 0.0\n",
    "total_correct = 0\n",
    "\n",
    "\n",
    "inputs, targets = x.to(device), y.to(device)\n",
    "outputs = RNNmodel2(inputs)\n",
    "loss = criterion(outputs, targets)\n",
    "print(\"\\nSince 57 testing samples is not enough for batch size 100, leaked some of training samples into testing.\\nTesting error: \", loss.item())"
   ]
  },
  {
   "cell_type": "markdown",
   "id": "e94dfb5b",
   "metadata": {},
   "source": [
    "#### Batch_size = 5 & ReLU, num_layers = 10, hidden_size = 200"
   ]
  },
  {
   "cell_type": "code",
   "execution_count": 49,
   "id": "3f9bf484",
   "metadata": {},
   "outputs": [],
   "source": [
    "# use the first 500 data points as training\n",
    "x = torch.from_numpy(arr[:500,:,:]).float().view(500,26,4)\n",
    "y = torch.from_numpy(np.asarray(\n",
    "            pd.read_csv(\"Crop_Yield_Data_challenge_2.csv\")[:500][\"Rice Yield (kg/ha)\"])).float()\n",
    "training_dataset = MyDataset(x, y)\n",
    "train_dataloader = DataLoader(training_dataset, batch_size=5, shuffle=True)"
   ]
  },
  {
   "cell_type": "code",
   "execution_count": 61,
   "id": "afc01116",
   "metadata": {},
   "outputs": [
    {
     "data": {
      "text/plain": [
       "MyRNN(\n",
       "  (rnn): RNN(4, 200, num_layers=10, batch_first=True)\n",
       "  (bn): BatchNorm1d(200, eps=1e-05, momentum=0.1, affine=True, track_running_stats=True)\n",
       "  (fc): Linear(in_features=200, out_features=1, bias=True)\n",
       ")"
      ]
     },
     "execution_count": 61,
     "metadata": {},
     "output_type": "execute_result"
    }
   ],
   "source": [
    "# Define the RNN model\n",
    "input_size = 4\n",
    "hidden_size = 200\n",
    "num_layers = 10\n",
    "output_size = 1\n",
    "batch_size = 5\n",
    "RNNmodel3 = MyRNN(input_size, hidden_size, num_layers, output_size, batch_size, nonlinearity=\"relu\", dropout = 0)\n",
    "RNNmodel3.to(device)"
   ]
  },
  {
   "cell_type": "code",
   "execution_count": 62,
   "id": "16405f9d",
   "metadata": {
    "scrolled": true
   },
   "outputs": [
    {
     "name": "stdout",
     "output_type": "stream",
     "text": [
      "Epoch [2/200], Loss: 5979.0669\n",
      "Epoch [31/200], Loss: 678.0060\n",
      "Epoch [60/200], Loss: 678.1723\n",
      "Epoch [89/200], Loss: 679.6716\n",
      "Epoch [118/200], Loss: 676.7815\n",
      "Epoch [147/200], Loss: 677.0352\n",
      "Epoch [176/200], Loss: 676.2511\n",
      "finished training\n"
     ]
    }
   ],
   "source": [
    "criterion = nn.L1Loss()\n",
    "optimizer = optim.Adam(RNNmodel3.parameters(), lr=0.008)\n",
    "num_epochs = 200\n",
    "print_freq = 29\n",
    "losses3 = []\n",
    "for epoch in range(num_epochs):\n",
    "    running_loss = 0.0\n",
    "    for i, data in enumerate(train_dataloader, 0):\n",
    "        inputs, labels = data[0].to(device), data[1].to(device)\n",
    "        optimizer.zero_grad()\n",
    "        outputs = RNNmodel3(inputs)\n",
    "        loss = criterion(outputs, labels)\n",
    "        loss.backward()\n",
    "        optimizer.step()\n",
    "        running_loss += loss.item()\n",
    "        losses3.append(running_loss/ len(train_dataloader))\n",
    "    if epoch% print_freq ==1:\n",
    "        print('Epoch [%d/%d], Loss: %.4f' % (epoch+1, num_epochs, running_loss / len(train_dataloader)))\n",
    "print(\"finished training\")"
   ]
  },
  {
   "cell_type": "code",
   "execution_count": 63,
   "id": "f96402c2",
   "metadata": {},
   "outputs": [
    {
     "data": {
      "image/png": "[encoded data removed]",
      "text/plain": [
       "<Figure size 432x288 with 1 Axes>"
      ]
     },
     "metadata": {
      "needs_background": "light"
     },
     "output_type": "display_data"
    }
   ],
   "source": [
    "plt.plot(range(len(losses3)), losses3)\n",
    "plt.xlabel(\"Batches\")\n",
    "plt.ylabel(\"training error\")\n",
    "plt.title(\"Training with RNN batch_size = 5, num_layers = 10, dropout=0\")\n",
    "plt.show()"
   ]
  },
  {
   "cell_type": "code",
   "execution_count": 64,
   "id": "41e78d74",
   "metadata": {},
   "outputs": [
    {
     "data": {
      "text/plain": [
       "<bound method Module.parameters of MyRNN(\n",
       "  (rnn): RNN(4, 200, num_layers=10, batch_first=True)\n",
       "  (bn): BatchNorm1d(200, eps=1e-05, momentum=0.1, affine=True, track_running_stats=True)\n",
       "  (fc): Linear(in_features=200, out_features=1, bias=True)\n",
       ")>"
      ]
     },
     "execution_count": 64,
     "metadata": {},
     "output_type": "execute_result"
    }
   ],
   "source": [
    "RNNmodel3.parameters"
   ]
  },
  {
   "cell_type": "code",
   "execution_count": 68,
   "id": "f0b36dd0",
   "metadata": {},
   "outputs": [
    {
     "name": "stdout",
     "output_type": "stream",
     "text": [
      "Last error in training loss:  676.3331457519531\n",
      "Since 57% batch_size = 5 is not 0, left out 2 testing samples.\n",
      " \n",
      "67421.65063476562 \n",
      "Testing erorr:  674.2165063476563\n"
     ]
    }
   ],
   "source": [
    "# testing results\n",
    "print(\"Last error in training loss: \", losses3[-1])\n",
    "\n",
    "print(\"Since 57% batch_size = 5 is not 0, left out 2 testing samples.\\n \")\n",
    "x = torch.from_numpy(arr[502:,:,:]).float().view(55,26,4)\n",
    "y = torch.from_numpy(np.asarray(\n",
    "            pd.read_csv(\"Crop_Yield_Data_challenge_2.csv\")[502:][\"Rice Yield (kg/ha)\"])).float()\n",
    "testing_dataset = MyDataset(x, y)\n",
    "test_dataloader = DataLoader(training_dataset, batch_size=5, shuffle=True)\n",
    "# Evaluate the model on the test dataset\n",
    "total_loss = 0.0\n",
    "\n",
    "for batch in test_dataloader:\n",
    "    inputs, targets = batch[0].to(device), batch[1].to(device)\n",
    "    outputs = RNNmodel3(inputs)\n",
    "    loss = criterion(outputs, targets)\n",
    "    total_loss += loss.item()\n",
    "print(total_loss, \"\\nTesting erorr: \",  total_loss/ len(test_dataloader))"
   ]
  },
  {
   "cell_type": "markdown",
   "id": "4f3969ef",
   "metadata": {},
   "source": [
    "----"
   ]
  },
  {
   "cell_type": "code",
   "execution_count": 13,
   "id": "71c035ff",
   "metadata": {},
   "outputs": [],
   "source": [
    "# define baseline RNN, with batch norm\n",
    "class MyRNN(nn.Module):\n",
    "    def __init__(self, input_size, hidden_size, num_layers, output_size, batch_size, nonlinearity, \n",
    "                 dropout, bidirectional=False):\n",
    "        super(MyRNN, self).__init__()\n",
    "        self.hidden_size = hidden_size\n",
    "        self.num_layers = num_layers\n",
    "        self.batch_size = batch_size\n",
    "        self.rnn = nn.RNN(input_size, hidden_size, num_layers, batch_first=True)\n",
    "        self.bn = nn.BatchNorm1d(hidden_size)\n",
    "        self.fc = nn.Linear(hidden_size, output_size)\n",
    "\n",
    "    def forward(self, x):\n",
    "        h0 = torch.randn(self.num_layers, self.batch_size, self.hidden_size).requires_grad_().to(x.device)\n",
    "        out, _ = self.rnn(x, h0)\n",
    "        out = self.bn(out[:, -1, :])\n",
    "        out = self.fc(out)\n",
    "        return out"
   ]
  },
  {
   "cell_type": "code",
   "execution_count": 18,
   "id": "1b5d9fa7",
   "metadata": {
    "scrolled": false
   },
   "outputs": [
    {
     "data": {
      "text/plain": [
       "MyRNN(\n",
       "  (rnn): RNN(4, 64, num_layers=5, batch_first=True)\n",
       "  (bn): BatchNorm1d(64, eps=1e-05, momentum=0.1, affine=True, track_running_stats=True)\n",
       "  (fc): Linear(in_features=64, out_features=1, bias=True)\n",
       ")"
      ]
     },
     "execution_count": 18,
     "metadata": {},
     "output_type": "execute_result"
    }
   ],
   "source": [
    "# Define the RNN model\n",
    "input_size = 4\n",
    "hidden_size = 64\n",
    "num_layers = 5\n",
    "output_size = 1\n",
    "batch_size = 50\n",
    "RNNmodel = MyRNN(input_size, hidden_size, num_layers, output_size, batch_size, nonlinearity=\"tanh\", dropout = 0.1)\n",
    "RNNmodel.to(device)"
   ]
  },
  {
   "cell_type": "code",
   "execution_count": 19,
   "id": "faeedd54",
   "metadata": {},
   "outputs": [
    {
     "name": "stdout",
     "output_type": "stream",
     "text": [
      "Epoch [2/2000], Loss: 6624.3866\n",
      "Epoch [301/2000], Loss: 673.8586\n",
      "Epoch [600/2000], Loss: 674.1784\n",
      "Epoch [899/2000], Loss: 674.0617\n",
      "Epoch [1198/2000], Loss: 673.9161\n",
      "Epoch [1497/2000], Loss: 674.2348\n",
      "Epoch [1796/2000], Loss: 673.9398\n",
      "finished training\n"
     ]
    }
   ],
   "source": [
    "criterion = nn.L1Loss()\n",
    "optimizer = optim.Adam(RNNmodel.parameters(), lr=0.008)\n",
    "num_epochs = 2000\n",
    "print_freq = 299\n",
    "losses = []\n",
    "for epoch in range(num_epochs):\n",
    "    running_loss = 0.0\n",
    "    for i, data in enumerate(train_dataloader, 0):\n",
    "        inputs, labels = data[0].to(device), data[1].to(device)\n",
    "        optimizer.zero_grad()\n",
    "        outputs = RNNmodel(inputs)\n",
    "        loss = criterion(outputs, labels)\n",
    "        loss.backward()\n",
    "        optimizer.step()\n",
    "        running_loss += loss.item()\n",
    "        losses.append(running_loss/ len(train_dataloader))\n",
    "    if epoch% print_freq ==1:\n",
    "        print('Epoch [%d/%d], Loss: %.4f' % (epoch+1, num_epochs, running_loss / len(train_dataloader)))\n",
    "print(\"finished training\")"
   ]
  },
  {
   "cell_type": "code",
   "execution_count": 20,
   "id": "09e9af9b",
   "metadata": {},
   "outputs": [
    {
     "data": {
      "image/png": "[encoded data removed]",
      "text/plain": [
       "<Figure size 432x288 with 1 Axes>"
      ]
     },
     "metadata": {
      "needs_background": "light"
     },
     "output_type": "display_data"
    }
   ],
   "source": [
    "plt.plot(range(len(losses)), losses)\n",
    "plt.xlabel(\"batches\")\n",
    "plt.ylabel(\"training error\")\n",
    "plt.title(\"training with RNN batch_size = 50\")\n",
    "plt.show()"
   ]
  },
  {
   "cell_type": "code",
   "execution_count": 21,
   "id": "18ec50a1",
   "metadata": {},
   "outputs": [
    {
     "data": {
      "text/plain": [
       "673.9173095703125"
      ]
     },
     "execution_count": 21,
     "metadata": {},
     "output_type": "execute_result"
    }
   ],
   "source": [
    "losses[-1]"
   ]
  },
  {
   "cell_type": "code",
   "execution_count": 22,
   "id": "e75da1c4",
   "metadata": {},
   "outputs": [],
   "source": [
    "# see testing result\n",
    "# create testing dataloader\n",
    "# use the last 57 data points as testing\n",
    "x = torch.from_numpy(arr[500:,:,:]).float().view(57,26,4)\n",
    "y = torch.from_numpy(np.asarray(\n",
    "            pd.read_csv(\"Crop_Yield_Data_challenge_2.csv\")[500:][\"Rice Yield (kg/ha)\"])).float()\n",
    "testing_dataset = MyDataset(x, y)\n",
    "test_dataloader = DataLoader(training_dataset, batch_size=50, shuffle=True)"
   ]
  },
  {
   "cell_type": "code",
   "execution_count": 50,
   "id": "07abc097",
   "metadata": {},
   "outputs": [
    {
     "name": "stdout",
     "output_type": "stream",
     "text": [
      "6738.3404541015625 \n",
      " 673.8340454101562\n"
     ]
    }
   ],
   "source": [
    "# Evaluate the model on the test dataset\n",
    "total_loss = 0.0\n",
    "total_correct = 0\n",
    "\n",
    "for batch in test_dataloader:\n",
    "    inputs, targets = batch[0].to(device), batch[1].to(device)\n",
    "    outputs = RNNmodel(inputs)\n",
    "    loss = criterion(outputs, targets)\n",
    "    total_loss += loss.item()\n",
    "print(total_loss, \"\\n\",  total_loss/ len(test_dataloader))"
   ]
  },
  {
   "cell_type": "markdown",
   "id": "46f90d58",
   "metadata": {},
   "source": [
    "-----"
   ]
  },
  {
   "cell_type": "markdown",
   "id": "6a4b7de8",
   "metadata": {},
   "source": [
    "### Try another model with same parameters but different criterion\n",
    "- Run into infinite loss while doing grid search with SGD, so changed criterion into L1 Loss (MAE)\n",
    "- Used learning rate 0.001, but loss not changing"
   ]
  },
  {
   "cell_type": "code",
   "execution_count": 39,
   "id": "3b315bed",
   "metadata": {},
   "outputs": [
    {
     "data": {
      "text/plain": [
       "MyRNN(\n",
       "  (rnn): RNN(4, 132, num_layers=6, batch_first=True)\n",
       "  (bn): BatchNorm1d(132, eps=1e-05, momentum=0.1, affine=True, track_running_stats=True)\n",
       "  (fc): Linear(in_features=132, out_features=1, bias=True)\n",
       ")"
      ]
     },
     "execution_count": 39,
     "metadata": {},
     "output_type": "execute_result"
    }
   ],
   "source": [
    "# Define the RNN model\n",
    "input_size = 4\n",
    "hidden_size = 132\n",
    "num_layers = 6\n",
    "output_size = 1\n",
    "batch_size = 50\n",
    "RNNmodel_1 = MyRNN(input_size, hidden_size, num_layers, output_size, batch_size, nonlinearity=\"relu\", dropout = 0.1)\n",
    "RNNmodel_1.to(device)"
   ]
  },
  {
   "cell_type": "code",
   "execution_count": 40,
   "id": "b9038cbd",
   "metadata": {
    "scrolled": false
   },
   "outputs": [
    {
     "name": "stdout",
     "output_type": "stream",
     "text": [
      "Epoch [2/1000], Loss: 6625.5419\n",
      "Epoch [61/1000], Loss: 676.9724\n",
      "Epoch [120/1000], Loss: 675.0412\n",
      "Epoch [179/1000], Loss: 674.2905\n",
      "Epoch [238/1000], Loss: 675.4186\n",
      "Epoch [297/1000], Loss: 675.7827\n",
      "Epoch [356/1000], Loss: 674.6837\n",
      "Epoch [415/1000], Loss: 680.8221\n",
      "Epoch [474/1000], Loss: 675.8473\n",
      "Epoch [533/1000], Loss: 674.3854\n",
      "Epoch [592/1000], Loss: 674.9197\n",
      "Epoch [651/1000], Loss: 674.8596\n",
      "Epoch [710/1000], Loss: 675.3696\n",
      "Epoch [769/1000], Loss: 676.5933\n",
      "Epoch [828/1000], Loss: 674.3798\n",
      "Epoch [887/1000], Loss: 676.6328\n",
      "Epoch [946/1000], Loss: 677.6230\n",
      "finished training\n"
     ]
    }
   ],
   "source": [
    "input_size = 4\n",
    "hidden_size = 132\n",
    "num_layers = 6\n",
    "output_size = 1\n",
    "batch_size = 50\n",
    "RNNmodel_1 = MyRNN(input_size, hidden_size, num_layers, output_size, batch_size, nonlinearity=\"relu\", dropout = 0.1)\n",
    "RNNmodel_1.to(device)\n",
    "criterion = nn.L1Loss() # use L1 Loss instead of MSE\n",
    "optimizer = optim.SGD(RNNmodel_1.parameters(), lr=0.003, momentum = 0.9)\n",
    "#optimizer = optim.Adam(RNNmodel.parameters(), lr=0.00009)\n",
    "num_epochs = 1000\n",
    "print_freq = 59\n",
    "losses = []\n",
    "for epoch in range(num_epochs):\n",
    "    running_loss = 0.0\n",
    "    for i, data in enumerate(train_dataloader, 0):\n",
    "        inputs, labels = data[0].to(device), data[1].to(device)\n",
    "        optimizer.zero_grad()\n",
    "        outputs = RNNmodel_1(inputs)\n",
    "        loss = criterion(outputs, labels)\n",
    "        loss.backward()\n",
    "        optimizer.step()\n",
    "        running_loss += loss.item()\n",
    "        losses.append(running_loss/ len(train_dataloader))\n",
    "    if epoch% print_freq ==1:\n",
    "        print('Epoch [%d/%d], Loss: %.4f' % (epoch+1, num_epochs, running_loss / len(train_dataloader)))\n",
    "print(\"finished training\")"
   ]
  },
  {
   "cell_type": "code",
   "execution_count": 43,
   "id": "6ee1aee4",
   "metadata": {},
   "outputs": [
    {
     "name": "stdout",
     "output_type": "stream",
     "text": [
      "RNN hidden_size = 132, num_layers = 6, optimizer = SGD(lr=0.003, momemtum=0.9),nonlinearity = ReLU \n"
     ]
    },
    {
     "data": {
      "image/png": "[encoded data removed]",
      "text/plain": [
       "<Figure size 432x288 with 1 Axes>"
      ]
     },
     "metadata": {
      "needs_background": "light"
     },
     "output_type": "display_data"
    }
   ],
   "source": [
    "print(\"RNN hidden_size = 132, num_layers = 6, optimizer = SGD(lr=0.003, momemtum=0.9),nonlinearity = ReLU \")\n",
    "plt.plot(range(len(losses)), losses)\n",
    "plt.xlabel(\"batches * epoch\")\n",
    "plt.ylabel(\"training error (L1)\")\n",
    "plt.title(\"training with RNN batch_size = 50\")\n",
    "plt.show()"
   ]
  },
  {
   "cell_type": "code",
   "execution_count": 52,
   "id": "ddc26bda",
   "metadata": {},
   "outputs": [
    {
     "data": {
      "text/plain": [
       "674.2167907714844"
      ]
     },
     "execution_count": 52,
     "metadata": {},
     "output_type": "execute_result"
    }
   ],
   "source": [
    "losses[-1]"
   ]
  },
  {
   "cell_type": "code",
   "execution_count": 51,
   "id": "512d3a4b",
   "metadata": {},
   "outputs": [
    {
     "name": "stdout",
     "output_type": "stream",
     "text": [
      "6739.5533447265625 \n",
      " 673.9553344726562\n"
     ]
    }
   ],
   "source": [
    "# Evaluate the model on the test dataset\n",
    "total_loss = 0.0\n",
    "total_correct = 0\n",
    "for batch in test_dataloader:\n",
    "    inputs, targets = batch[0].to(device), batch[1].to(device)\n",
    "    outputs = RNNmodel_1(inputs)\n",
    "    loss = criterion(outputs, targets)\n",
    "    total_loss += loss.item()\n",
    "print(total_loss, \"\\n\",  total_loss/ len(test_dataloader))"
   ]
  },
  {
   "cell_type": "markdown",
   "id": "aa9373a2",
   "metadata": {},
   "source": [
    "### Manual grid search\n",
    "Need to change the optimizer every time"
   ]
  },
  {
   "cell_type": "code",
   "execution_count": 38,
   "id": "b2c02cef",
   "metadata": {},
   "outputs": [],
   "source": [
    "# parameters that are fixed\n",
    "input_size = 4\n",
    "output_size = 1"
   ]
  },
  {
   "cell_type": "markdown",
   "id": "0a24e1f4",
   "metadata": {},
   "source": [
    "- Run into infinite loss while doing grid search with SGD, so changed criterion into L1 Loss (MAE)\n",
    "- Loss wasn't decreasing in last model, so change `optimizer` to SGD"
   ]
  },
  {
   "cell_type": "code",
   "execution_count": 126,
   "id": "3b3b2355",
   "metadata": {},
   "outputs": [],
   "source": [
    "# Define a grid search manually - prepare dataset (batch), define net, then train\n",
    "def train_model(num_epochs, batch_freq,\n",
    "                print_iters, criterion, hidden_size, num_layers, \n",
    "                # optimizer \n",
    "                batch_size, nonlinearity, dropout):\n",
    "    # prepare training data\n",
    "    train_dataloader = DataLoader(training_dataset, batch_size, shuffle=True)\n",
    "    \n",
    "    # define model\n",
    "    RNNmodel = MyRNN(input_size, hidden_size, num_layers, output_size, \n",
    "                     batch_size, nonlinearity, dropout)\n",
    "    RNNmodel.to(device)\n",
    "    \n",
    "    \n",
    "    # define an optimizer - unable to put into function param so manually change\n",
    "    optimizer = optim.SGD(RNNmodel.parameters(), lr=0.0009, momentum = 0.9)\n",
    "    print(\"Optimizer: \", optimizer)\n",
    "    \n",
    "    \n",
    "    # train model\n",
    "    losses = []\n",
    "    print_iters = print_iters\n",
    "    for epoch in range(num_epochs):\n",
    "        running_loss = 0.0\n",
    "        for i, data in enumerate(train_dataloader, 0):\n",
    "            inputs, labels = data[0].to(device), data[1].to(device)\n",
    "            optimizer.zero_grad()\n",
    "            outputs = RNNmodel(inputs)\n",
    "            loss = criterion(outputs, labels)\n",
    "            loss.backward()\n",
    "            optimizer.step()\n",
    "            running_loss += loss.item()\n",
    "            if epoch% print_iters ==1 and i% batch_freq ==1:\n",
    "                print('Epoch [%d/%d], Loss: %.4f' % (epoch+1, num_epochs, running_loss / len(train_dataloader)))\n",
    "        losses.append(running_loss/ len(train_dataloader)) # append the average of all batches in that iteration\n",
    "            \n",
    "    print(\"finished training\")\n",
    "    return RNNmodel, losses"
   ]
  },
  {
   "cell_type": "markdown",
   "id": "58c5fcd0",
   "metadata": {},
   "source": [
    "**Baseline:** input_size = 4, hidden_size = 64, num_layers = 5, output_size = 1, batch_size = 50, nonlinearity=\"tanh\", dropout = 0.1"
   ]
  },
  {
   "cell_type": "code",
   "execution_count": 127,
   "id": "7737f9ed",
   "metadata": {
    "scrolled": true
   },
   "outputs": [
    {
     "name": "stdout",
     "output_type": "stream",
     "text": [
      "Optimizer:  SGD (\n",
      "Parameter Group 0\n",
      "    dampening: 0\n",
      "    differentiable: False\n",
      "    foreach: None\n",
      "    lr: 0.0009\n",
      "    maximize: False\n",
      "    momentum: 0.9\n",
      "    nesterov: False\n",
      "    weight_decay: 0\n",
      ")\n",
      "Epoch [2/3000], Loss: 1321.5668\n",
      "Epoch [2/3000], Loss: 3959.4095\n",
      "Epoch [2/3000], Loss: 6625.9163\n",
      "Epoch [311/3000], Loss: 120.0425\n",
      "Epoch [311/3000], Loss: 415.4381\n",
      "Epoch [311/3000], Loss: 674.1265\n",
      "Epoch [620/3000], Loss: 136.3314\n",
      "Epoch [620/3000], Loss: 400.1161\n",
      "Epoch [620/3000], Loss: 673.8686\n",
      "Epoch [929/3000], Loss: 141.7753\n",
      "Epoch [929/3000], Loss: 409.4589\n",
      "Epoch [929/3000], Loss: 674.2873\n",
      "Epoch [1238/3000], Loss: 140.9510\n",
      "Epoch [1238/3000], Loss: 387.2481\n",
      "Epoch [1238/3000], Loss: 674.4110\n",
      "Epoch [1547/3000], Loss: 130.3742\n",
      "Epoch [1547/3000], Loss: 409.2029\n",
      "Epoch [1547/3000], Loss: 674.0973\n",
      "Epoch [1856/3000], Loss: 149.0251\n",
      "Epoch [1856/3000], Loss: 426.9746\n",
      "Epoch [1856/3000], Loss: 673.9631\n",
      "Epoch [2165/3000], Loss: 136.5861\n",
      "Epoch [2165/3000], Loss: 403.6590\n",
      "Epoch [2165/3000], Loss: 674.8689\n",
      "Epoch [2474/3000], Loss: 140.5926\n",
      "Epoch [2474/3000], Loss: 397.1960\n",
      "Epoch [2474/3000], Loss: 674.0258\n",
      "Epoch [2783/3000], Loss: 128.5086\n",
      "Epoch [2783/3000], Loss: 391.2057\n",
      "Epoch [2783/3000], Loss: 674.6949\n",
      "finished training\n"
     ]
    },
    {
     "data": {
      "image/png": "[encoded data removed]",
      "text/plain": [
       "<Figure size 432x288 with 1 Axes>"
      ]
     },
     "metadata": {
      "needs_background": "light"
     },
     "output_type": "display_data"
    }
   ],
   "source": [
    "# Only change the optimizer from baseline to SGD\n",
    "mod1, loss1 = train_model(num_epochs = 3000, print_iters = 309, batch_freq = 4, criterion = nn.L1Loss(), hidden_size = 64, num_layers = 5, \n",
    "                        batch_size = 50, nonlinearity = \"tanh\", dropout = 0.1)\n",
    "\n"
   ]
  },
  {
   "cell_type": "code",
   "execution_count": 136,
   "id": "14faa7b8",
   "metadata": {},
   "outputs": [
    {
     "data": {
      "image/png": "[encoded data removed]",
      "text/plain": [
       "<Figure size 432x288 with 1 Axes>"
      ]
     },
     "metadata": {
      "needs_background": "light"
     },
     "output_type": "display_data"
    }
   ],
   "source": [
    "plt.plot(range(len(loss1)), loss1)\n",
    "plt.xlabel(\"iterations\")\n",
    "plt.ylabel(\"training error (L1)\")\n",
    "plt.title(\"training with RNN batch_size = 50\")\n",
    "plt.grid()\n",
    "plt.show()"
   ]
  },
  {
   "cell_type": "code",
   "execution_count": 131,
   "id": "9fc18de2",
   "metadata": {},
   "outputs": [
    {
     "name": "stdout",
     "output_type": "stream",
     "text": [
      "MyRNN(\n",
      "  (rnn): RNN(4, 64, num_layers=5, batch_first=True)\n",
      "  (bn): BatchNorm1d(64, eps=1e-05, momentum=0.1, affine=True, track_running_stats=True)\n",
      "  (fc): Linear(in_features=64, out_features=1, bias=True)\n",
      ") 6739.3155517578125\n"
     ]
    }
   ],
   "source": [
    "# Evaluate the model on the test dataset\n",
    "total_loss = 0.0\n",
    "total_correct = 0\n",
    "\n",
    "for batch in test_dataloader:\n",
    "    inputs, targets = batch[0].to(device), batch[1].to(device)\n",
    "    outputs = mod1(inputs)\n",
    "    loss = criterion(outputs, targets)\n",
    "    total_loss += loss.item()\n",
    "print(mod1, total_loss)"
   ]
  },
  {
   "cell_type": "code",
   "execution_count": 132,
   "id": "72e1b03b",
   "metadata": {},
   "outputs": [
    {
     "data": {
      "text/plain": [
       "674.3602783203125"
      ]
     },
     "execution_count": 132,
     "metadata": {},
     "output_type": "execute_result"
    }
   ],
   "source": [
    "# final epoch training loss\n",
    "loss1[-1]"
   ]
  },
  {
   "cell_type": "markdown",
   "id": "7f24df1c",
   "metadata": {},
   "source": [
    "### Second modified model - SGD, deeper layer"
   ]
  },
  {
   "cell_type": "markdown",
   "id": "d421c8f6",
   "metadata": {},
   "source": [
    "- Baseline: input_size = 4, hidden_size = 64, num_layers = 5, output_size = 1, optimizer = Adam(lr = 0.001), batch_size = 50, nonlinearity=\"tanh\", dropout = 0.1, criterion = MSE\n",
    "\n",
    "- Mod1: input_size = 4, hidden_size = 64, num_layers = 5, output_size = 1, **optimizer = SGD(lr = 0.0009, momentum = 0.9)**, batch_size = 50, nonlinearity=\"tanh\", dropout = 0.1, **criterion = L1**\n",
    "\n",
    "- **Tried several combinations of diff hyperparams, but still doesn't converge (can't get past local min at 670), so use the first 550 data points for training**\n",
    "\n",
    "- Mod2: num_epochs = 300, print_iters = 35, batch_freq = 4, criterion = nn.L1Loss(), **hidden_size = 128**, **num_layers = 15**, **batch_size = 22**, **nonlinearity = \"relu\"**, **dropout = 0.3**, optimier = SGD(RNNmodel.parameters(), **lr=0.0015, momentum = 0.8**)"
   ]
  },
  {
   "cell_type": "code",
   "execution_count": 53,
   "id": "3674f736",
   "metadata": {},
   "outputs": [],
   "source": [
    "# Define a grid search manually - prepare dataset (batch), define net, then train\n",
    "def train_model2(num_epochs, batch_freq,\n",
    "                print_iters, criterion, hidden_size, num_layers, \n",
    "                # optimizer \n",
    "                batch_size, nonlinearity, dropout):\n",
    "    # prepare training data\n",
    "    train_dataloader = DataLoader(training_dataset, batch_size, shuffle=True)\n",
    "    \n",
    "    # define model\n",
    "    RNNmodel = MyRNN(input_size, hidden_size, num_layers, output_size, \n",
    "                     batch_size, nonlinearity, dropout)\n",
    "    RNNmodel.to(device)\n",
    "    \n",
    "    # define an optimizer - unable to put into function param so manually change\n",
    "    optimizer = optim.SGD(RNNmodel.parameters(), lr=0.0015, momentum = 0.8)\n",
    "    print(\"Optimizer: \", optimizer)\n",
    "    \n",
    "    # train model\n",
    "    losses = []\n",
    "    print_iters = print_iters\n",
    "    for epoch in range(num_epochs):\n",
    "        running_loss = 0.0\n",
    "        for i, data in enumerate(train_dataloader, 0):\n",
    "            inputs, labels = data[0].to(device), data[1].to(device)\n",
    "            optimizer.zero_grad()\n",
    "            outputs = RNNmodel(inputs)\n",
    "            loss = criterion(outputs, labels)\n",
    "            loss.backward()\n",
    "            optimizer.step()\n",
    "            running_loss += loss.item()\n",
    "            if epoch% print_iters ==1 and i% batch_freq ==1:\n",
    "                print('Epoch [%d/%d], Loss: %.4f' % (epoch+1, num_epochs, running_loss / len(train_dataloader)))\n",
    "        losses.append(running_loss/ len(train_dataloader)) # append the average of all batches in that iteration\n",
    "            \n",
    "    print(\"finished training\")\n",
    "    return RNNmodel, losses"
   ]
  },
  {
   "cell_type": "code",
   "execution_count": 161,
   "id": "5e93e536",
   "metadata": {},
   "outputs": [],
   "source": [
    "x = torch.from_numpy(arr[:550]).float().view(550,26,4)\n",
    "y = torch.from_numpy(np.asarray(\n",
    "            pd.read_csv(\"Crop_Yield_Data_challenge_2.csv\")[:550][\"Rice Yield (kg/ha)\"])).float()\n",
    "training_dataset = MyDataset(x, y)\n",
    "#train_dataloader = DataLoader(training_dataset, batch_size=50, shuffle=True)"
   ]
  },
  {
   "cell_type": "code",
   "execution_count": 54,
   "id": "951143fa",
   "metadata": {
    "scrolled": true
   },
   "outputs": [
    {
     "name": "stdout",
     "output_type": "stream",
     "text": [
      "Optimizer:  SGD (\n",
      "Parameter Group 0\n",
      "    dampening: 0\n",
      "    differentiable: False\n",
      "    foreach: None\n",
      "    lr: 0.0015\n",
      "    maximize: False\n",
      "    momentum: 0.8\n",
      "    nesterov: False\n",
      "    weight_decay: 0\n",
      ")\n"
     ]
    },
    {
     "ename": "RuntimeError",
     "evalue": "Expected hidden size (15, 16, 128), got [15, 22, 128]",
     "output_type": "error",
     "traceback": [
      "\u001b[0;31m---------------------------------------------------------------------------\u001b[0m",
      "\u001b[0;31mRuntimeError\u001b[0m                              Traceback (most recent call last)",
      "\u001b[0;32m/tmp/ipykernel_175/2332048059.py\u001b[0m in \u001b[0;36m<module>\u001b[0;34m\u001b[0m\n\u001b[1;32m      1\u001b[0m \u001b[0;31m# Increase learning rate to 0.00095, increase number of layers to 10\u001b[0m\u001b[0;34m\u001b[0m\u001b[0;34m\u001b[0m\u001b[0;34m\u001b[0m\u001b[0m\n\u001b[0;32m----> 2\u001b[0;31m mod2, loss2 = train_model2(num_epochs = 300, print_iters = 35, batch_freq = 4, criterion = nn.L1Loss(), hidden_size = 128, \n\u001b[0m\u001b[1;32m      3\u001b[0m                           \u001b[0mnum_layers\u001b[0m \u001b[0;34m=\u001b[0m \u001b[0;36m15\u001b[0m\u001b[0;34m,\u001b[0m\u001b[0;34m\u001b[0m\u001b[0;34m\u001b[0m\u001b[0m\n\u001b[1;32m      4\u001b[0m                         batch_size = 22, nonlinearity = \"relu\", dropout = 0.3)\n\u001b[1;32m      5\u001b[0m \u001b[0;34m\u001b[0m\u001b[0m\n",
      "\u001b[0;32m/tmp/ipykernel_175/2763304623.py\u001b[0m in \u001b[0;36mtrain_model2\u001b[0;34m(num_epochs, batch_freq, print_iters, criterion, hidden_size, num_layers, batch_size, nonlinearity, dropout)\u001b[0m\n\u001b[1;32m     24\u001b[0m             \u001b[0minputs\u001b[0m\u001b[0;34m,\u001b[0m \u001b[0mlabels\u001b[0m \u001b[0;34m=\u001b[0m \u001b[0mdata\u001b[0m\u001b[0;34m[\u001b[0m\u001b[0;36m0\u001b[0m\u001b[0;34m]\u001b[0m\u001b[0;34m.\u001b[0m\u001b[0mto\u001b[0m\u001b[0;34m(\u001b[0m\u001b[0mdevice\u001b[0m\u001b[0;34m)\u001b[0m\u001b[0;34m,\u001b[0m \u001b[0mdata\u001b[0m\u001b[0;34m[\u001b[0m\u001b[0;36m1\u001b[0m\u001b[0;34m]\u001b[0m\u001b[0;34m.\u001b[0m\u001b[0mto\u001b[0m\u001b[0;34m(\u001b[0m\u001b[0mdevice\u001b[0m\u001b[0;34m)\u001b[0m\u001b[0;34m\u001b[0m\u001b[0;34m\u001b[0m\u001b[0m\n\u001b[1;32m     25\u001b[0m             \u001b[0moptimizer\u001b[0m\u001b[0;34m.\u001b[0m\u001b[0mzero_grad\u001b[0m\u001b[0;34m(\u001b[0m\u001b[0;34m)\u001b[0m\u001b[0;34m\u001b[0m\u001b[0;34m\u001b[0m\u001b[0m\n\u001b[0;32m---> 26\u001b[0;31m             \u001b[0moutputs\u001b[0m \u001b[0;34m=\u001b[0m \u001b[0mRNNmodel\u001b[0m\u001b[0;34m(\u001b[0m\u001b[0minputs\u001b[0m\u001b[0;34m)\u001b[0m\u001b[0;34m\u001b[0m\u001b[0;34m\u001b[0m\u001b[0m\n\u001b[0m\u001b[1;32m     27\u001b[0m             \u001b[0mloss\u001b[0m \u001b[0;34m=\u001b[0m \u001b[0mcriterion\u001b[0m\u001b[0;34m(\u001b[0m\u001b[0moutputs\u001b[0m\u001b[0;34m,\u001b[0m \u001b[0mlabels\u001b[0m\u001b[0;34m)\u001b[0m\u001b[0;34m\u001b[0m\u001b[0;34m\u001b[0m\u001b[0m\n\u001b[1;32m     28\u001b[0m             \u001b[0mloss\u001b[0m\u001b[0;34m.\u001b[0m\u001b[0mbackward\u001b[0m\u001b[0;34m(\u001b[0m\u001b[0;34m)\u001b[0m\u001b[0;34m\u001b[0m\u001b[0;34m\u001b[0m\u001b[0m\n",
      "\u001b[0;32m~/.local/lib/python3.9/site-packages/torch/nn/modules/module.py\u001b[0m in \u001b[0;36m_call_impl\u001b[0;34m(self, *input, **kwargs)\u001b[0m\n\u001b[1;32m   1192\u001b[0m         if not (self._backward_hooks or self._forward_hooks or self._forward_pre_hooks or _global_backward_hooks\n\u001b[1;32m   1193\u001b[0m                 or _global_forward_hooks or _global_forward_pre_hooks):\n\u001b[0;32m-> 1194\u001b[0;31m             \u001b[0;32mreturn\u001b[0m \u001b[0mforward_call\u001b[0m\u001b[0;34m(\u001b[0m\u001b[0;34m*\u001b[0m\u001b[0minput\u001b[0m\u001b[0;34m,\u001b[0m \u001b[0;34m**\u001b[0m\u001b[0mkwargs\u001b[0m\u001b[0;34m)\u001b[0m\u001b[0;34m\u001b[0m\u001b[0;34m\u001b[0m\u001b[0m\n\u001b[0m\u001b[1;32m   1195\u001b[0m         \u001b[0;31m# Do not call functions when jit is used\u001b[0m\u001b[0;34m\u001b[0m\u001b[0;34m\u001b[0m\u001b[0;34m\u001b[0m\u001b[0m\n\u001b[1;32m   1196\u001b[0m         \u001b[0mfull_backward_hooks\u001b[0m\u001b[0;34m,\u001b[0m \u001b[0mnon_full_backward_hooks\u001b[0m \u001b[0;34m=\u001b[0m \u001b[0;34m[\u001b[0m\u001b[0;34m]\u001b[0m\u001b[0;34m,\u001b[0m \u001b[0;34m[\u001b[0m\u001b[0;34m]\u001b[0m\u001b[0;34m\u001b[0m\u001b[0;34m\u001b[0m\u001b[0m\n",
      "\u001b[0;32m/tmp/ipykernel_175/1476592042.py\u001b[0m in \u001b[0;36mforward\u001b[0;34m(self, x)\u001b[0m\n\u001b[1;32m     13\u001b[0m     \u001b[0;32mdef\u001b[0m \u001b[0mforward\u001b[0m\u001b[0;34m(\u001b[0m\u001b[0mself\u001b[0m\u001b[0;34m,\u001b[0m \u001b[0mx\u001b[0m\u001b[0;34m)\u001b[0m\u001b[0;34m:\u001b[0m\u001b[0;34m\u001b[0m\u001b[0;34m\u001b[0m\u001b[0m\n\u001b[1;32m     14\u001b[0m         \u001b[0mh0\u001b[0m \u001b[0;34m=\u001b[0m \u001b[0mtorch\u001b[0m\u001b[0;34m.\u001b[0m\u001b[0mrandn\u001b[0m\u001b[0;34m(\u001b[0m\u001b[0mself\u001b[0m\u001b[0;34m.\u001b[0m\u001b[0mnum_layers\u001b[0m\u001b[0;34m,\u001b[0m \u001b[0mself\u001b[0m\u001b[0;34m.\u001b[0m\u001b[0mbatch_size\u001b[0m\u001b[0;34m,\u001b[0m \u001b[0mself\u001b[0m\u001b[0;34m.\u001b[0m\u001b[0mhidden_size\u001b[0m\u001b[0;34m)\u001b[0m\u001b[0;34m.\u001b[0m\u001b[0mrequires_grad_\u001b[0m\u001b[0;34m(\u001b[0m\u001b[0;34m)\u001b[0m\u001b[0;34m.\u001b[0m\u001b[0mto\u001b[0m\u001b[0;34m(\u001b[0m\u001b[0mx\u001b[0m\u001b[0;34m.\u001b[0m\u001b[0mdevice\u001b[0m\u001b[0;34m)\u001b[0m\u001b[0;34m\u001b[0m\u001b[0;34m\u001b[0m\u001b[0m\n\u001b[0;32m---> 15\u001b[0;31m         \u001b[0mout\u001b[0m\u001b[0;34m,\u001b[0m \u001b[0m_\u001b[0m \u001b[0;34m=\u001b[0m \u001b[0mself\u001b[0m\u001b[0;34m.\u001b[0m\u001b[0mrnn\u001b[0m\u001b[0;34m(\u001b[0m\u001b[0mx\u001b[0m\u001b[0;34m,\u001b[0m \u001b[0mh0\u001b[0m\u001b[0;34m)\u001b[0m\u001b[0;34m\u001b[0m\u001b[0;34m\u001b[0m\u001b[0m\n\u001b[0m\u001b[1;32m     16\u001b[0m         \u001b[0mout\u001b[0m \u001b[0;34m=\u001b[0m \u001b[0mself\u001b[0m\u001b[0;34m.\u001b[0m\u001b[0mbn\u001b[0m\u001b[0;34m(\u001b[0m\u001b[0mout\u001b[0m\u001b[0;34m[\u001b[0m\u001b[0;34m:\u001b[0m\u001b[0;34m,\u001b[0m \u001b[0;34m-\u001b[0m\u001b[0;36m1\u001b[0m\u001b[0;34m,\u001b[0m \u001b[0;34m:\u001b[0m\u001b[0;34m]\u001b[0m\u001b[0;34m)\u001b[0m\u001b[0;34m\u001b[0m\u001b[0;34m\u001b[0m\u001b[0m\n\u001b[1;32m     17\u001b[0m         \u001b[0mout\u001b[0m \u001b[0;34m=\u001b[0m \u001b[0mself\u001b[0m\u001b[0;34m.\u001b[0m\u001b[0mfc\u001b[0m\u001b[0;34m(\u001b[0m\u001b[0mout\u001b[0m\u001b[0;34m)\u001b[0m\u001b[0;34m\u001b[0m\u001b[0;34m\u001b[0m\u001b[0m\n",
      "\u001b[0;32m~/.local/lib/python3.9/site-packages/torch/nn/modules/module.py\u001b[0m in \u001b[0;36m_call_impl\u001b[0;34m(self, *input, **kwargs)\u001b[0m\n\u001b[1;32m   1192\u001b[0m         if not (self._backward_hooks or self._forward_hooks or self._forward_pre_hooks or _global_backward_hooks\n\u001b[1;32m   1193\u001b[0m                 or _global_forward_hooks or _global_forward_pre_hooks):\n\u001b[0;32m-> 1194\u001b[0;31m             \u001b[0;32mreturn\u001b[0m \u001b[0mforward_call\u001b[0m\u001b[0;34m(\u001b[0m\u001b[0;34m*\u001b[0m\u001b[0minput\u001b[0m\u001b[0;34m,\u001b[0m \u001b[0;34m**\u001b[0m\u001b[0mkwargs\u001b[0m\u001b[0;34m)\u001b[0m\u001b[0;34m\u001b[0m\u001b[0;34m\u001b[0m\u001b[0m\n\u001b[0m\u001b[1;32m   1195\u001b[0m         \u001b[0;31m# Do not call functions when jit is used\u001b[0m\u001b[0;34m\u001b[0m\u001b[0;34m\u001b[0m\u001b[0;34m\u001b[0m\u001b[0m\n\u001b[1;32m   1196\u001b[0m         \u001b[0mfull_backward_hooks\u001b[0m\u001b[0;34m,\u001b[0m \u001b[0mnon_full_backward_hooks\u001b[0m \u001b[0;34m=\u001b[0m \u001b[0;34m[\u001b[0m\u001b[0;34m]\u001b[0m\u001b[0;34m,\u001b[0m \u001b[0;34m[\u001b[0m\u001b[0;34m]\u001b[0m\u001b[0;34m\u001b[0m\u001b[0;34m\u001b[0m\u001b[0m\n",
      "\u001b[0;32m~/.local/lib/python3.9/site-packages/torch/nn/modules/rnn.py\u001b[0m in \u001b[0;36mforward\u001b[0;34m(self, input, hx)\u001b[0m\n\u001b[1;32m    470\u001b[0m \u001b[0;34m\u001b[0m\u001b[0m\n\u001b[1;32m    471\u001b[0m         \u001b[0;32massert\u001b[0m \u001b[0mhx\u001b[0m \u001b[0;32mis\u001b[0m \u001b[0;32mnot\u001b[0m \u001b[0;32mNone\u001b[0m\u001b[0;34m\u001b[0m\u001b[0;34m\u001b[0m\u001b[0m\n\u001b[0;32m--> 472\u001b[0;31m         \u001b[0mself\u001b[0m\u001b[0;34m.\u001b[0m\u001b[0mcheck_forward_args\u001b[0m\u001b[0;34m(\u001b[0m\u001b[0minput\u001b[0m\u001b[0;34m,\u001b[0m \u001b[0mhx\u001b[0m\u001b[0;34m,\u001b[0m \u001b[0mbatch_sizes\u001b[0m\u001b[0;34m)\u001b[0m\u001b[0;34m\u001b[0m\u001b[0;34m\u001b[0m\u001b[0m\n\u001b[0m\u001b[1;32m    473\u001b[0m         \u001b[0;32massert\u001b[0m \u001b[0mself\u001b[0m\u001b[0;34m.\u001b[0m\u001b[0mmode\u001b[0m \u001b[0;34m==\u001b[0m \u001b[0;34m'RNN_TANH'\u001b[0m \u001b[0;32mor\u001b[0m \u001b[0mself\u001b[0m\u001b[0;34m.\u001b[0m\u001b[0mmode\u001b[0m \u001b[0;34m==\u001b[0m \u001b[0;34m'RNN_RELU'\u001b[0m\u001b[0;34m\u001b[0m\u001b[0;34m\u001b[0m\u001b[0m\n\u001b[1;32m    474\u001b[0m         \u001b[0;32mif\u001b[0m \u001b[0mbatch_sizes\u001b[0m \u001b[0;32mis\u001b[0m \u001b[0;32mNone\u001b[0m\u001b[0;34m:\u001b[0m\u001b[0;34m\u001b[0m\u001b[0;34m\u001b[0m\u001b[0m\n",
      "\u001b[0;32m~/.local/lib/python3.9/site-packages/torch/nn/modules/rnn.py\u001b[0m in \u001b[0;36mcheck_forward_args\u001b[0;34m(self, input, hidden, batch_sizes)\u001b[0m\n\u001b[1;32m    235\u001b[0m         \u001b[0mexpected_hidden_size\u001b[0m \u001b[0;34m=\u001b[0m \u001b[0mself\u001b[0m\u001b[0;34m.\u001b[0m\u001b[0mget_expected_hidden_size\u001b[0m\u001b[0;34m(\u001b[0m\u001b[0minput\u001b[0m\u001b[0;34m,\u001b[0m \u001b[0mbatch_sizes\u001b[0m\u001b[0;34m)\u001b[0m\u001b[0;34m\u001b[0m\u001b[0;34m\u001b[0m\u001b[0m\n\u001b[1;32m    236\u001b[0m \u001b[0;34m\u001b[0m\u001b[0m\n\u001b[0;32m--> 237\u001b[0;31m         \u001b[0mself\u001b[0m\u001b[0;34m.\u001b[0m\u001b[0mcheck_hidden_size\u001b[0m\u001b[0;34m(\u001b[0m\u001b[0mhidden\u001b[0m\u001b[0;34m,\u001b[0m \u001b[0mexpected_hidden_size\u001b[0m\u001b[0;34m)\u001b[0m\u001b[0;34m\u001b[0m\u001b[0;34m\u001b[0m\u001b[0m\n\u001b[0m\u001b[1;32m    238\u001b[0m \u001b[0;34m\u001b[0m\u001b[0m\n\u001b[1;32m    239\u001b[0m     \u001b[0;32mdef\u001b[0m \u001b[0mpermute_hidden\u001b[0m\u001b[0;34m(\u001b[0m\u001b[0mself\u001b[0m\u001b[0;34m,\u001b[0m \u001b[0mhx\u001b[0m\u001b[0;34m:\u001b[0m \u001b[0mTensor\u001b[0m\u001b[0;34m,\u001b[0m \u001b[0mpermutation\u001b[0m\u001b[0;34m:\u001b[0m \u001b[0mOptional\u001b[0m\u001b[0;34m[\u001b[0m\u001b[0mTensor\u001b[0m\u001b[0;34m]\u001b[0m\u001b[0;34m)\u001b[0m\u001b[0;34m:\u001b[0m\u001b[0;34m\u001b[0m\u001b[0;34m\u001b[0m\u001b[0m\n",
      "\u001b[0;32m~/.local/lib/python3.9/site-packages/torch/nn/modules/rnn.py\u001b[0m in \u001b[0;36mcheck_hidden_size\u001b[0;34m(self, hx, expected_hidden_size, msg)\u001b[0m\n\u001b[1;32m    229\u001b[0m                           msg: str = 'Expected hidden size {}, got {}') -> None:\n\u001b[1;32m    230\u001b[0m         \u001b[0;32mif\u001b[0m \u001b[0mhx\u001b[0m\u001b[0;34m.\u001b[0m\u001b[0msize\u001b[0m\u001b[0;34m(\u001b[0m\u001b[0;34m)\u001b[0m \u001b[0;34m!=\u001b[0m \u001b[0mexpected_hidden_size\u001b[0m\u001b[0;34m:\u001b[0m\u001b[0;34m\u001b[0m\u001b[0;34m\u001b[0m\u001b[0m\n\u001b[0;32m--> 231\u001b[0;31m             \u001b[0;32mraise\u001b[0m \u001b[0mRuntimeError\u001b[0m\u001b[0;34m(\u001b[0m\u001b[0mmsg\u001b[0m\u001b[0;34m.\u001b[0m\u001b[0mformat\u001b[0m\u001b[0;34m(\u001b[0m\u001b[0mexpected_hidden_size\u001b[0m\u001b[0;34m,\u001b[0m \u001b[0mlist\u001b[0m\u001b[0;34m(\u001b[0m\u001b[0mhx\u001b[0m\u001b[0;34m.\u001b[0m\u001b[0msize\u001b[0m\u001b[0;34m(\u001b[0m\u001b[0;34m)\u001b[0m\u001b[0;34m)\u001b[0m\u001b[0;34m)\u001b[0m\u001b[0;34m)\u001b[0m\u001b[0;34m\u001b[0m\u001b[0;34m\u001b[0m\u001b[0m\n\u001b[0m\u001b[1;32m    232\u001b[0m \u001b[0;34m\u001b[0m\u001b[0m\n\u001b[1;32m    233\u001b[0m     \u001b[0;32mdef\u001b[0m \u001b[0mcheck_forward_args\u001b[0m\u001b[0;34m(\u001b[0m\u001b[0mself\u001b[0m\u001b[0;34m,\u001b[0m \u001b[0minput\u001b[0m\u001b[0;34m:\u001b[0m \u001b[0mTensor\u001b[0m\u001b[0;34m,\u001b[0m \u001b[0mhidden\u001b[0m\u001b[0;34m:\u001b[0m \u001b[0mTensor\u001b[0m\u001b[0;34m,\u001b[0m \u001b[0mbatch_sizes\u001b[0m\u001b[0;34m:\u001b[0m \u001b[0mOptional\u001b[0m\u001b[0;34m[\u001b[0m\u001b[0mTensor\u001b[0m\u001b[0;34m]\u001b[0m\u001b[0;34m)\u001b[0m\u001b[0;34m:\u001b[0m\u001b[0;34m\u001b[0m\u001b[0;34m\u001b[0m\u001b[0m\n",
      "\u001b[0;31mRuntimeError\u001b[0m: Expected hidden size (15, 16, 128), got [15, 22, 128]"
     ]
    }
   ],
   "source": [
    "# Increase learning rate to 0.00095, increase number of layers to 10\n",
    "mod2, loss2 = train_model2(num_epochs = 300, print_iters = 35, batch_freq = 4, criterion = nn.L1Loss(), hidden_size = 128, \n",
    "                          num_layers = 15, \n",
    "                        batch_size = 22, nonlinearity = \"relu\", dropout = 0.3)\n",
    "\n",
    "plt.plot(range(len(loss2)), loss2)\n",
    "plt.xlabel(\"iterations\")\n",
    "plt.ylabel(\"training error (L1)\")\n",
    "plt.title(\"training with RNN batch_size = 50\")\n",
    "plt.show()"
   ]
  },
  {
   "cell_type": "code",
   "execution_count": 176,
   "id": "e1ce1ee9",
   "metadata": {},
   "outputs": [],
   "source": [
    "# see testing result\n",
    "# create testing dataloader\n",
    "# use the last 57 data points as testing\n",
    "x = torch.from_numpy(arr[550:,:,:]).float().view(7,26,4)\n",
    "y = torch.from_numpy(np.asarray(\n",
    "            pd.read_csv(\"Crop_Yield_Data_challenge_2.csv\")[550:][\"Rice Yield (kg/ha)\"])).float()\n",
    "testing_dataset = MyDataset(x, y)\n",
    "test_dataloader = DataLoader(training_dataset, batch_size=22, shuffle=True)"
   ]
  },
  {
   "cell_type": "code",
   "execution_count": 177,
   "id": "77cc968f",
   "metadata": {},
   "outputs": [
    {
     "name": "stdout",
     "output_type": "stream",
     "text": [
      "MyRNN(\n",
      "  (rnn): RNN(4, 64, num_layers=5, batch_first=True)\n",
      "  (bn): BatchNorm1d(64, eps=1e-05, momentum=0.1, affine=True, track_running_stats=True)\n",
      "  (fc): Linear(in_features=64, out_features=1, bias=True)\n",
      ") 17015.088012695312\n"
     ]
    }
   ],
   "source": [
    "# Evaluate the model on the test dataset\n",
    "total_loss = 0.0\n",
    "total_correct = 0\n",
    "\n",
    "for batch in test_dataloader:\n",
    "    inputs, targets = batch[0].to(device), batch[1].to(device)\n",
    "    outputs = mod2(inputs)\n",
    "    loss = criterion(outputs, targets)\n",
    "    total_loss += loss.item()\n",
    "print(mod1, total_loss)"
   ]
  },
  {
   "cell_type": "code",
   "execution_count": 178,
   "id": "3f596475",
   "metadata": {},
   "outputs": [
    {
     "data": {
      "text/plain": [
       "2430.7268589564733"
      ]
     },
     "execution_count": 178,
     "metadata": {},
     "output_type": "execute_result"
    }
   ],
   "source": [
    "total_loss/7"
   ]
  },
  {
   "cell_type": "markdown",
   "id": "bebd1b2a",
   "metadata": {},
   "source": [
    "-----\n",
    "-----"
   ]
  },
  {
   "cell_type": "raw",
   "id": "414b1f5f",
   "metadata": {},
   "source": [
    "# parameters that are fixed\n",
    "input_size = 4\n",
    "output_size = 1\n",
    "criterion = nn.MSELoss()\n",
    "num_epochs = 1000\n",
    "print_freq = 99\n",
    "\n",
    "# hyperparameters to be tuned\n",
    "hyperparams = {\n",
    "    'hidden_sizes': [96, 128],\n",
    "    \"num_layers\": [3, 8, 10],\n",
    "    \"batch_size\" : [25, 75, 100],\n",
    "    \"optimizer\" : [optim.SGD(RNNmodel.parameters(), lr=0.009, momentum = 0.9), \n",
    "             optim.Adam(RNNmodel.parameters(), lr=0.0012)],\n",
    "    \"nonlinearity\" : [\"tanh\", \"relu\"],\n",
    "    \"dropout\" :[0, 0.2]}\n",
    "\n",
    "# Define the data\n",
    "train_dataset = ...\n",
    "test_dataset = ...\n",
    "\n",
    "# Set up the grid search\n",
    "RNNmodel = MyRNN(input_size, hidden_size, num_layers, output_size, \n",
    "                     batch_size, nonlinearity, dropout)\n",
    "RNNmodel.to(device)\n",
    "parameters = {\n",
    "    'hidden_size': hyperparams['hidden_size'],\n",
    "    'num_layers': hyperparams['num_layers'],\n",
    "    'learning_rate': hyperparams['learning_rate'],\n",
    "    'dropout': hyperparams['dropout']\n",
    "}\n",
    "clf = GridSearchCV(model, parameters, scoring='mse')\n",
    "\n",
    "# Train and evaluate the model for each combination of hyperparameters\n",
    "clf.fit(train_dataset, train_labels)\n",
    "\n",
    "# Select the best hyperparameters\n",
    "best_hyperparams = clf.best_params_\n",
    "\n",
    "# Train the model with the best hyperparameters\n",
    "model = RNNModel(input_size, best_hyperparams['hidden_size'], best_hyperparams['num_layers'], best_hyperparams['dropout'])\n",
    "optimizer = torch.optim.Adam(model.parameters(),"
   ]
  },
  {
   "cell_type": "markdown",
   "id": "351e1615",
   "metadata": {},
   "source": [
    "-----\n",
    "-----\n",
    "#### *Helper functions - run these first before training any model*"
   ]
  },
  {
   "cell_type": "code",
   "execution_count": 11,
   "id": "532a9a32",
   "metadata": {},
   "outputs": [],
   "source": [
    "class MyDataset(Dataset):\n",
    "    def __init__(self, X, Y):\n",
    "        self.X = X\n",
    "        self.Y = Y\n",
    "    def __len__(self):\n",
    "        return len(self.X)\n",
    "    def __getitem__(self, idx):\n",
    "        x = self.X[idx]\n",
    "        y = self.Y[idx]\n",
    "        return x, y"
   ]
  },
  {
   "cell_type": "code",
   "execution_count": null,
   "id": "d112f11c",
   "metadata": {},
   "outputs": [],
   "source": []
  }
 ],
 "metadata": {
  "kernelspec": {
   "display_name": "Python 3 (ipykernel)",
   "language": "python",
   "name": "python3"
  },
  "language_info": {
   "codemirror_mode": {
    "name": "ipython",
    "version": 3
   },
   "file_extension": ".py",
   "mimetype": "text/x-python",
   "name": "python",
   "nbconvert_exporter": "python",
   "pygments_lexer": "ipython3",
   "version": "3.9.5"
  }
 },
 "nbformat": 4,
 "nbformat_minor": 5
}
