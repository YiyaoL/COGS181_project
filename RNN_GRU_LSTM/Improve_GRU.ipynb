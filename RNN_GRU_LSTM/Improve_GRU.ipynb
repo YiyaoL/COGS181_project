{
 "cells": [
  {
   "cell_type": "code",
   "execution_count": 2,
   "id": "2c12db45",
   "metadata": {},
   "outputs": [],
   "source": [
    "# Supress Warnings\n",
    "import warnings\n",
    "warnings.filterwarnings('ignore')\n",
    "import pandas as pd\n",
    "import numpy as np\n",
    "import matplotlib.pyplot as plt\n",
    "import seaborn as sns\n",
    "import torch\n",
    "import torch.nn as nn\n",
    "from torch.utils.data import Dataset, DataLoader\n",
    "from torch.nn.utils.rnn import pad_sequence\n",
    "from torch.nn.utils import clip_grad_norm_\n",
    "import torch.optim as optim\n",
    "from statsmodels.tsa.stattools import acf\n",
    "from sklearn.model_selection import train_test_split\n",
    "from sklearn.ensemble import ExtraTreesRegressor\n",
    "from sklearn.metrics import r2_score, mean_squared_error\n",
    "from sklearn.preprocessing import normalize, MinMaxScaler"
   ]
  },
  {
   "cell_type": "code",
   "execution_count": 3,
   "id": "3975d20f",
   "metadata": {},
   "outputs": [],
   "source": [
    "dftest1 = pd.read_csv(\"vh_vv_data_new_20.csv\").drop(\"Unnamed: 0\", axis =1)\n",
    "dftest2 = pd.read_csv(\"vh_vv_data_new_20_100.csv\").drop(\"Unnamed: 0\", axis =1)\n",
    "dftest3 = pd.read_csv(\"vh_vv_data_new_100_200.csv\").drop(\"Unnamed: 0\", axis =1)\n",
    "dftest4 = pd.read_csv(\"vh_vv_data_new_200_225.csv\").drop(\"Unnamed: 0\", axis =1)\n",
    "dftest5 = pd.read_csv(\"vh_vv_data_new_225_300.csv\").drop(\"Unnamed: 0\", axis =1)\n",
    "dftest6 = pd.read_csv(\"vh_vv_data_new_300_350.csv\").drop(\"Unnamed: 0\", axis =1)\n",
    "dftest7 = pd.read_csv(\"vh_vv_data_new_350_400.csv\").drop(\"Unnamed: 0\", axis =1)\n",
    "dftest8 = pd.read_csv(\"vh_vv_data_new_400_450.csv\").drop(\"Unnamed: 0\", axis =1)\n",
    "dftest9 = pd.read_csv(\"vh_vv_data_new_450_500.csv\").drop(\"Unnamed: 0\", axis =1)\n",
    "dftest10 = pd.read_csv(\"vh_vv_data_new_500_557.csv\").drop(\"Unnamed: 0\", axis =1)\n",
    "dftest = pd.concat([dftest1,dftest2,dftest3,dftest4, dftest5,dftest6, dftest7, dftest8, dftest9,dftest10])"
   ]
  },
  {
   "cell_type": "markdown",
   "id": "a7d24aeb",
   "metadata": {},
   "source": [
    "### Prepare data"
   ]
  },
  {
   "cell_type": "code",
   "execution_count": 4,
   "id": "12f1f4ab",
   "metadata": {},
   "outputs": [],
   "source": [
    "def clean_from_df_pad(string):\n",
    "    \"\"\"\n",
    "    takes in each cell as a string and replaces it with an array of float value. \n",
    "    Also pads the sequence to length 26\n",
    "    \"\"\"\n",
    "    splitted = string.split(\" \")\n",
    "    result = []\n",
    "    for i in splitted:\n",
    "        number = float(i.replace(\",\",\"\").replace(\"[\", \"\").replace(\"]\", \"\"))\n",
    "        result.append(number)\n",
    "    if len(result) !=26:\n",
    "        missing = 26-len(result)\n",
    "        comp = [0] * missing\n",
    "        result = result + comp\n",
    "    return np.asarray(result)"
   ]
  },
  {
   "cell_type": "code",
   "execution_count": 5,
   "id": "aa93267a",
   "metadata": {},
   "outputs": [],
   "source": [
    "# read in those dataframes again before this\n",
    "dftest[\"vv_list\"] = dftest.vv_list.apply(clean_from_df_pad)\n",
    "dftest[\"vh_list\"] = dftest.vh_list.apply(clean_from_df_pad)\n",
    "dftest['vv/vh_list'] = dftest['vv/vh_list'].apply(clean_from_df_pad)"
   ]
  },
  {
   "cell_type": "code",
   "execution_count": 6,
   "id": "a42d8109",
   "metadata": {
    "scrolled": true
   },
   "outputs": [],
   "source": [
    "# add a climate index called rvi\n",
    "def calculate_rvi(vv, vh):\n",
    "    \"\"\"\n",
    "    takes in a list of vvs and a list of vhs, return a list of their rvis\n",
    "    dop = vv/(vv+vh)\n",
    "    m = 1-dop\n",
    "    m = np.sqrt(m)\n",
    "    power_func = 4*vh/(vv+vh)\n",
    "    rvi = m*power_func\n",
    "    \"\"\"\n",
    "    if len(vv)!= len(vh):\n",
    "        return None\n",
    "    else:\n",
    "        rvi_lst = []\n",
    "        for i in range(len(vv)):\n",
    "            rvi = np.sqrt(1-vv[i]/(vv[i]+vh[i])) * 4*vh[i]/(vv[i]+vh[i])\n",
    "            rvi_lst.append(rvi)\n",
    "    return rvi_lst\n",
    "\n",
    "calculate_rvi_func = np.vectorize(calculate_rvi)"
   ]
  },
  {
   "cell_type": "code",
   "execution_count": 7,
   "id": "377b7419",
   "metadata": {},
   "outputs": [],
   "source": [
    "dftest[\"rvi\"] = calculate_rvi(list(dftest.vv_list), list(dftest.vh_list))"
   ]
  },
  {
   "cell_type": "code",
   "execution_count": 8,
   "id": "b1af2b60",
   "metadata": {},
   "outputs": [],
   "source": [
    "# length is equal\n",
    "def df_to_arr_equal_len (df):\n",
    "    \"\"\"\n",
    "    takes in a df, which will be data, and transforms it into a 3-d array with its original size\n",
    "    \"\"\"\n",
    "    # loop through every row in df\n",
    "    res = []\n",
    "    for i in range(df.shape[0]):\n",
    "        row = list(df.iloc[i,:]) # each row of df is turned into a list of three elements, where each element is an array\n",
    "        new_row = [] # one day, one location, three variables\n",
    "        for var in row:\n",
    "            new_row.append(var)\n",
    "        res.append(new_row)\n",
    "    return np.asarray(res)"
   ]
  },
  {
   "cell_type": "code",
   "execution_count": 9,
   "id": "919d3898",
   "metadata": {},
   "outputs": [
    {
     "data": {
      "text/plain": [
       "2504"
      ]
     },
     "execution_count": 9,
     "metadata": {},
     "output_type": "execute_result"
    }
   ],
   "source": [
    "arr = df_to_arr_equal_len(dftest)\n",
    "np.isnan(arr).sum()"
   ]
  },
  {
   "cell_type": "code",
   "execution_count": 10,
   "id": "0684c568",
   "metadata": {},
   "outputs": [
    {
     "data": {
      "text/plain": [
       "0"
      ]
     },
     "execution_count": 10,
     "metadata": {},
     "output_type": "execute_result"
    }
   ],
   "source": [
    "# replace null rvi's with 0\n",
    "arr = np.nan_to_num(arr, nan=0)\n",
    "np.isnan(arr).sum()"
   ]
  },
  {
   "cell_type": "code",
   "execution_count": 11,
   "id": "7059c536",
   "metadata": {
    "scrolled": true
   },
   "outputs": [
    {
     "data": {
      "text/plain": [
       "(557, 4, 26)"
      ]
     },
     "execution_count": 11,
     "metadata": {},
     "output_type": "execute_result"
    }
   ],
   "source": [
    "arr.shape"
   ]
  },
  {
   "cell_type": "code",
   "execution_count": 14,
   "id": "a84b6510",
   "metadata": {},
   "outputs": [],
   "source": [
    "# use the first 500 data points as training\n",
    "x = torch.from_numpy(arr[:500,:,:])\n",
    "y = torch.from_numpy(np.asarray(\n",
    "            pd.read_csv(\"Crop_Yield_Data_challenge_2.csv\")[:500][\"Rice Yield (kg/ha)\"]))\n",
    "training_dataset = MyDataset(x, y)\n",
    "train_dataloader = DataLoader(x, batch_size=50, shuffle=True)"
   ]
  },
  {
   "cell_type": "code",
   "execution_count": 15,
   "id": "3cb1a4e6",
   "metadata": {},
   "outputs": [
    {
     "data": {
      "text/plain": [
       "torch.Size([500, 4, 26])"
      ]
     },
     "execution_count": 15,
     "metadata": {},
     "output_type": "execute_result"
    }
   ],
   "source": [
    "x.shape"
   ]
  },
  {
   "cell_type": "code",
   "execution_count": 16,
   "id": "74597b6a",
   "metadata": {},
   "outputs": [],
   "source": [
    "y = torch.from_numpy(np.asarray(pd.read_csv(\"Crop_Yield_Data_challenge_2.csv\")[:500][\"Rice Yield (kg/ha)\"]))\n",
    "\n",
    "# use the first 500 samples to train\n",
    "input = torch.from_numpy(arr[:500,:,:]).float().view(500,26,4)\n",
    "target = y[:500].float().view(500)"
   ]
  },
  {
   "cell_type": "code",
   "execution_count": 17,
   "id": "2ab5bbef",
   "metadata": {},
   "outputs": [
    {
     "data": {
      "text/plain": [
       "torch.Size([500, 26, 4])"
      ]
     },
     "execution_count": 17,
     "metadata": {},
     "output_type": "execute_result"
    }
   ],
   "source": [
    "input.shape"
   ]
  },
  {
   "cell_type": "code",
   "execution_count": 22,
   "id": "76652c54",
   "metadata": {},
   "outputs": [],
   "source": [
    "# create your dataset\n",
    "training_dataset = MyDataset(input, target)\n",
    "\n",
    "# create your dataloader\n",
    "train_dataloader = DataLoader(training_dataset, batch_size=50, shuffle=True)"
   ]
  },
  {
   "cell_type": "markdown",
   "id": "ff98e02f",
   "metadata": {},
   "source": [
    "____\n",
    "### Baseline GRU with batch norm\n",
    "\n",
    "### NOTE: the following models are trained on the dataset with sequence length 26 (zero-padded)"
   ]
  },
  {
   "cell_type": "code",
   "execution_count": 18,
   "id": "9ed123f8",
   "metadata": {},
   "outputs": [
    {
     "name": "stdout",
     "output_type": "stream",
     "text": [
      "cuda:0\n"
     ]
    }
   ],
   "source": [
    "# get gpu\n",
    "device = torch.device(\"cuda:0\" if torch.cuda.is_available() else \"cpu\")\n",
    "print(device)  "
   ]
  },
  {
   "cell_type": "code",
   "execution_count": 48,
   "id": "739bd1ae",
   "metadata": {},
   "outputs": [],
   "source": [
    "class GRU(nn.Module):\n",
    "    def __init__(self, input_size, hidden_size, output_size, num_layers, \n",
    "                 batch_first, batch_size):\n",
    "        super(GRU, self).__init__()\n",
    "        self.input_size = input_size\n",
    "        self.hidden_size = hidden_size\n",
    "        self.output_size = output_size\n",
    "        self.num_layers = num_layers\n",
    "        self.batch_size = batch_size\n",
    "        \n",
    "        self.gru = nn.GRU(input_size, hidden_size, num_layers=num_layers, \n",
    "                  batch_first=True, dropout=0.2, bidirectional=False)\n",
    "        self.fc = nn.Linear(hidden_size, output_size)\n",
    "        self.bn = nn.BatchNorm1d(num_features=self.hidden_size, affine = False)\n",
    "        #### should this be batch size, hidden size, feature size, sequence length?\n",
    "            # feature size doesn't work, \n",
    "            # sequence length will cause error \"RuntimeError: running_mean should contain 20 elements not 26\"\n",
    "    \n",
    "    def forward(self, x):\n",
    "        batch_size = x.size(0)\n",
    "        h0 = torch.randn(self.gru.num_layers, batch_size, self.gru.hidden_size).to(x.device)\n",
    "        #h0 = torch.randn(1, self.batch_size, self.hidden_size).to(x.device)\n",
    "        out, _ = self.gru(x, h0)\n",
    "        #### h0 = h0[0,:,:].unsqueeze(0) # (num_layers, batch_size, hidden_size) -> (1, batch_size, hidden_size)\n",
    "            # this didn't work\n",
    "        out, _ = self.gru(x, h0)\n",
    "        out = self.bn(out[:,-1, :])\n",
    "        out = self.fc(out)\n",
    "        return out"
   ]
  },
  {
   "cell_type": "code",
   "execution_count": 50,
   "id": "51018d6b",
   "metadata": {
    "scrolled": true
   },
   "outputs": [
    {
     "name": "stdout",
     "output_type": "stream",
     "text": [
      "Epoch [2/1000], Loss: 1320.0322\n",
      "Epoch [2/1000], Loss: 3958.2167\n",
      "Epoch [2/1000], Loss: 6614.2812\n",
      "Epoch [57/1000], Loss: 1224.4326\n",
      "Epoch [57/1000], Loss: 3696.2579\n",
      "Epoch [57/1000], Loss: 6174.2832\n",
      "Epoch [112/1000], Loss: 1149.7539\n",
      "Epoch [112/1000], Loss: 3453.8219\n",
      "Epoch [112/1000], Loss: 5734.2899\n",
      "Epoch [167/1000], Loss: 1048.8725\n",
      "Epoch [167/1000], Loss: 3157.6175\n",
      "Epoch [167/1000], Loss: 5295.2764\n",
      "Epoch [222/1000], Loss: 984.5550\n",
      "Epoch [222/1000], Loss: 2930.8249\n",
      "Epoch [222/1000], Loss: 4854.2949\n",
      "Epoch [277/1000], Loss: 898.5139\n",
      "Epoch [277/1000], Loss: 2682.5417\n",
      "Epoch [277/1000], Loss: 4414.2895\n",
      "Epoch [332/1000], Loss: 804.1498\n",
      "Epoch [332/1000], Loss: 2355.1701\n",
      "Epoch [332/1000], Loss: 3974.2704\n",
      "Epoch [387/1000], Loss: 714.2304\n",
      "Epoch [387/1000], Loss: 2123.6511\n",
      "Epoch [387/1000], Loss: 3534.2718\n",
      "Epoch [442/1000], Loss: 596.7927\n",
      "Epoch [442/1000], Loss: 1817.5820\n",
      "Epoch [442/1000], Loss: 3094.2871\n",
      "Epoch [497/1000], Loss: 526.0288\n",
      "Epoch [497/1000], Loss: 1600.8463\n",
      "Epoch [497/1000], Loss: 2654.2638\n",
      "Epoch [552/1000], Loss: 448.2772\n",
      "Epoch [552/1000], Loss: 1357.5811\n",
      "Epoch [552/1000], Loss: 2214.3937\n",
      "Epoch [607/1000], Loss: 353.7224\n",
      "Epoch [607/1000], Loss: 1088.7229\n",
      "Epoch [607/1000], Loss: 1774.4750\n",
      "Epoch [662/1000], Loss: 275.4924\n",
      "Epoch [662/1000], Loss: 805.1752\n",
      "Epoch [662/1000], Loss: 1336.5270\n",
      "Epoch [717/1000], Loss: 209.7056\n",
      "Epoch [717/1000], Loss: 616.0119\n",
      "Epoch [717/1000], Loss: 1013.3152\n",
      "Epoch [772/1000], Loss: 172.2897\n",
      "Epoch [772/1000], Loss: 465.4722\n",
      "Epoch [772/1000], Loss: 831.0562\n",
      "Epoch [827/1000], Loss: 147.2251\n",
      "Epoch [827/1000], Loss: 461.4648\n",
      "Epoch [827/1000], Loss: 750.9563\n",
      "Epoch [882/1000], Loss: 136.3135\n",
      "Epoch [882/1000], Loss: 400.9094\n",
      "Epoch [882/1000], Loss: 682.7514\n",
      "Epoch [937/1000], Loss: 135.7116\n",
      "Epoch [937/1000], Loss: 399.6595\n",
      "Epoch [937/1000], Loss: 674.6753\n",
      "Epoch [992/1000], Loss: 129.3495\n",
      "Epoch [992/1000], Loss: 407.8767\n",
      "Epoch [992/1000], Loss: 674.1407\n",
      "Finished training\n"
     ]
    }
   ],
   "source": [
    "# Define the loss function and optimizer\n",
    "criterion = nn.L1Loss()\n",
    "model = GRU(input_size=4, hidden_size=200, output_size = 1,num_layers=5, \n",
    "                 batch_first=True, batch_size = 50)\n",
    "model.to(device)\n",
    "optimizer = torch.optim.Adam(model.parameters(), lr=0.8)\n",
    "\n",
    "# Train the model\n",
    "num_epochs = 1000\n",
    "print_iters = 55\n",
    "batch_freq = 4\n",
    "losses = []\n",
    "for epoch in range(num_epochs):\n",
    "    total_loss = 0\n",
    "    for i, (inputs, labels) in enumerate(train_dataloader):\n",
    "        inputs = inputs.view(50, 26, 4).to(device)\n",
    "        # gru parameter: input should have shape batch_size, sequence_length, num_features\n",
    "        labels = labels.to(device)\n",
    "        optimizer.zero_grad()\n",
    "        outputs = model(inputs)\n",
    "        loss = criterion(outputs, labels)\n",
    "        loss.backward()\n",
    "        optimizer.step()\n",
    "        total_loss += loss.item()\n",
    "        if epoch% print_iters ==1 and i% batch_freq ==1:\n",
    "            print('Epoch [%d/%d], Loss: %.4f' % (epoch+1, num_epochs, total_loss / len(train_dataloader)))\n",
    "    losses.append(total_loss/ len(train_dataloader))\n",
    "print(\"Finished training\")"
   ]
  },
  {
   "cell_type": "code",
   "execution_count": 81,
   "id": "bc2d5cfc",
   "metadata": {},
   "outputs": [
    {
     "data": {
      "text/plain": [
       "674.1056335449218"
      ]
     },
     "execution_count": 81,
     "metadata": {},
     "output_type": "execute_result"
    }
   ],
   "source": [
    "losses[-1]"
   ]
  },
  {
   "cell_type": "code",
   "execution_count": 51,
   "id": "da978689",
   "metadata": {},
   "outputs": [
    {
     "name": "stdout",
     "output_type": "stream",
     "text": [
      "Baseline GRU with batch_size=50, hidden_size = 200, optimizer = Adam, lr = 0.8, num_layers=5\n"
     ]
    },
    {
     "data": {
      "image/png": "[encoded data removed]",
      "text/plain": [
       "<Figure size 432x288 with 1 Axes>"
      ]
     },
     "metadata": {
      "needs_background": "light"
     },
     "output_type": "display_data"
    }
   ],
   "source": [
    "print(\"Baseline GRU with batch_size=50, hidden_size = 200, optimizer = Adam, lr = 0.8, num_layers=5\")\n",
    "plt.plot(range(len(losses)), losses)\n",
    "plt.title(\"Baseline GRU\")\n",
    "plt.show()"
   ]
  },
  {
   "cell_type": "code",
   "execution_count": 52,
   "id": "a32653c2",
   "metadata": {},
   "outputs": [
    {
     "name": "stdout",
     "output_type": "stream",
     "text": [
      "Testing error(L1): tensor(729.2120, device='cuda:0', grad_fn=<MeanBackward0>)\n"
     ]
    }
   ],
   "source": [
    "# evaluate model on the rest 57 points\n",
    "# see test performance\n",
    "testing = torch.from_numpy(arr[500:,:,:]).float().view(57,26,4)\n",
    "y_true = torch.from_numpy(np.asarray(pd.read_csv(\"Crop_Yield_Data_challenge_2.csv\")[500:][\"Rice Yield (kg/ha)\"]))\n",
    "testing = testing.to(device)\n",
    "y_true = y_true.to(device)\n",
    "predicted = model(testing).view(57)\n",
    "print(\"Testing error(L1):\",  criterion(predicted, y_true))"
   ]
  },
  {
   "cell_type": "markdown",
   "id": "56fb52cd",
   "metadata": {},
   "source": [
    "---\n",
    "#### Improve this GRU by adding activation, changing to SGD optimizer"
   ]
  },
  {
   "cell_type": "code",
   "execution_count": 46,
   "id": "75e8efa5",
   "metadata": {
    "scrolled": true
   },
   "outputs": [
    {
     "name": "stdout",
     "output_type": "stream",
     "text": [
      "Epoch [2/1000], Loss: 1307.5841\n",
      "Epoch [2/1000], Loss: 3933.3662\n",
      "Epoch [2/1000], Loss: 6526.9210\n",
      "Epoch [57/1000], Loss: 387.7073\n",
      "Epoch [57/1000], Loss: 1119.7736\n",
      "Epoch [57/1000], Loss: 1878.7302\n",
      "Epoch [112/1000], Loss: 200.2980\n",
      "Epoch [112/1000], Loss: 592.8618\n",
      "Epoch [112/1000], Loss: 977.2992\n",
      "Epoch [167/1000], Loss: 184.0858\n",
      "Epoch [167/1000], Loss: 580.6231\n",
      "Epoch [167/1000], Loss: 955.3699\n",
      "Epoch [222/1000], Loss: 186.2587\n",
      "Epoch [222/1000], Loss: 547.1554\n",
      "Epoch [222/1000], Loss: 934.5328\n",
      "Epoch [277/1000], Loss: 185.7687\n",
      "Epoch [277/1000], Loss: 556.6671\n",
      "Epoch [277/1000], Loss: 946.9944\n",
      "Epoch [332/1000], Loss: 177.2345\n",
      "Epoch [332/1000], Loss: 560.1701\n",
      "Epoch [332/1000], Loss: 897.5807\n",
      "Epoch [387/1000], Loss: 190.1928\n",
      "Epoch [387/1000], Loss: 558.2585\n",
      "Epoch [387/1000], Loss: 912.7837\n",
      "Epoch [442/1000], Loss: 183.6274\n",
      "Epoch [442/1000], Loss: 546.1960\n",
      "Epoch [442/1000], Loss: 915.4163\n",
      "Epoch [497/1000], Loss: 178.6557\n",
      "Epoch [497/1000], Loss: 531.0974\n",
      "Epoch [497/1000], Loss: 891.8624\n",
      "Epoch [552/1000], Loss: 172.6418\n",
      "Epoch [552/1000], Loss: 520.2531\n",
      "Epoch [552/1000], Loss: 869.4563\n",
      "Epoch [607/1000], Loss: 167.9469\n",
      "Epoch [607/1000], Loss: 510.9348\n",
      "Epoch [607/1000], Loss: 871.5798\n",
      "Epoch [662/1000], Loss: 171.2511\n",
      "Epoch [662/1000], Loss: 506.7657\n",
      "Epoch [662/1000], Loss: 857.3420\n",
      "Epoch [717/1000], Loss: 172.5535\n",
      "Epoch [717/1000], Loss: 526.0146\n",
      "Epoch [717/1000], Loss: 852.9678\n",
      "Epoch [772/1000], Loss: 178.2231\n",
      "Epoch [772/1000], Loss: 523.4565\n",
      "Epoch [772/1000], Loss: 880.9785\n",
      "Epoch [827/1000], Loss: 169.7632\n",
      "Epoch [827/1000], Loss: 500.3383\n",
      "Epoch [827/1000], Loss: 856.9843\n",
      "Epoch [882/1000], Loss: 164.7609\n",
      "Epoch [882/1000], Loss: 504.8852\n",
      "Epoch [882/1000], Loss: 848.1638\n",
      "Epoch [937/1000], Loss: 176.6889\n",
      "Epoch [937/1000], Loss: 515.5366\n",
      "Epoch [937/1000], Loss: 853.2744\n",
      "Epoch [992/1000], Loss: 178.1140\n",
      "Epoch [992/1000], Loss: 497.9081\n",
      "Epoch [992/1000], Loss: 836.7629\n",
      "Finished training\n"
     ]
    }
   ],
   "source": [
    "# Define the loss function and optimizer\n",
    "criterion = nn.L1Loss()\n",
    "mod1 = GRU(input_size=4, hidden_size=200, output_size = 1, num_layers=6, \n",
    "                 batch_first=True, batch_size = 50)\n",
    "mod1.to(device)\n",
    "optimizer = torch.optim.SGD(mod1.parameters(), lr=0.04, momentum = 0.9)\n",
    "\n",
    "# Train the model\n",
    "num_epochs = 1000\n",
    "print_iters = 55\n",
    "batch_freq = 4\n",
    "loss1 = []\n",
    "for epoch in range(num_epochs):\n",
    "    total_loss = 0\n",
    "    for i, (inputs, labels) in enumerate(train_dataloader):\n",
    "        inputs = inputs.view(50, 26, 4).to(device)\n",
    "        # gru parameter: input should have shape batch_size, sequence_length, num_features\n",
    "        labels = labels.to(device)\n",
    "        optimizer.zero_grad()\n",
    "        outputs = mod1(inputs)\n",
    "        loss = criterion(outputs, labels)\n",
    "        loss.backward()\n",
    "        optimizer.step()\n",
    "        total_loss += loss.item()\n",
    "        if epoch% print_iters ==1 and i% batch_freq ==1:\n",
    "            print('Epoch [%d/%d], Loss: %.4f' % (epoch+1, num_epochs, total_loss / len(train_dataloader)))\n",
    "    loss1.append(total_loss/ len(train_dataloader))\n",
    "print(\"Finished training\")"
   ]
  },
  {
   "cell_type": "code",
   "execution_count": 47,
   "id": "b01ebe06",
   "metadata": {},
   "outputs": [
    {
     "name": "stdout",
     "output_type": "stream",
     "text": [
      "GRU with batch_size=50, hidden_size = 200, optimizer = SGD, lr = 0.045, momentum=0.9 num_layers=7\n"
     ]
    },
    {
     "data": {
      "image/png": "[encoded data removed]",
      "text/plain": [
       "<Figure size 432x288 with 1 Axes>"
      ]
     },
     "metadata": {
      "needs_background": "light"
     },
     "output_type": "display_data"
    }
   ],
   "source": [
    "print(\"GRU with batch_size=50, hidden_size = 200, optimizer = SGD, lr = 0.045, momentum=0.9 num_layers=7\")\n",
    "plt.plot(range(len(loss1)), loss1) \n",
    "plt.title(\"GRU with SGD\")\n",
    "plt.show()"
   ]
  },
  {
   "cell_type": "code",
   "execution_count": 53,
   "id": "3d9de3eb",
   "metadata": {},
   "outputs": [
    {
     "name": "stdout",
     "output_type": "stream",
     "text": [
      "Testing error(L1): tensor(880.8220, device='cuda:0', grad_fn=<MeanBackward0>)\n"
     ]
    }
   ],
   "source": [
    "# evaluate model on the rest 57 points\n",
    "# see test performance\n",
    "testing = torch.from_numpy(arr[500:,:,:]).float().view(57,26,4)\n",
    "y_true = torch.from_numpy(np.asarray(pd.read_csv(\"Crop_Yield_Data_challenge_2.csv\")[500:][\"Rice Yield (kg/ha)\"]))\n",
    "testing = testing.to(device)\n",
    "y_true = y_true.to(device)\n",
    "predicted = mod1(testing).view(57)\n",
    "print(\"Testing error(L1):\",  criterion(predicted, y_true))"
   ]
  },
  {
   "cell_type": "markdown",
   "id": "3feaebf9",
   "metadata": {},
   "source": [
    "----\n",
    "#### Improve GRU by changing batch size to 25, dropout to 0.1, removing ReLU \n",
    "## This seems to be the best!"
   ]
  },
  {
   "cell_type": "code",
   "execution_count": 54,
   "id": "13342ddd",
   "metadata": {},
   "outputs": [],
   "source": [
    "train_dataloader = DataLoader(training_dataset, batch_size=25, shuffle=True)"
   ]
  },
  {
   "cell_type": "code",
   "execution_count": 21,
   "id": "3e3f0e80",
   "metadata": {},
   "outputs": [],
   "source": [
    "class GRU2(nn.Module):\n",
    "    def __init__(self, input_size, hidden_size, output_size, num_layers, \n",
    "                 batch_first, batch_size):\n",
    "        super(GRU2, self).__init__()\n",
    "        self.input_size = input_size\n",
    "        self.hidden_size = hidden_size\n",
    "        self.output_size = output_size\n",
    "        self.num_layers = num_layers\n",
    "        self.batch_size = batch_size\n",
    "        self.gru = nn.GRU(input_size, hidden_size, num_layers=num_layers, \n",
    "                  batch_first=True, dropout=0.1, bidirectional=False)\n",
    "        self.fc = nn.Linear(hidden_size, output_size)\n",
    "        self.bn = nn.BatchNorm1d(num_features=self.hidden_size, affine = False)\n",
    "    def forward(self, x):\n",
    "        batch_size = x.size(0)\n",
    "        h0 = torch.randn(self.gru.num_layers, batch_size, self.gru.hidden_size).to(x.device)\n",
    "        out, _ = self.gru(x, h0)\n",
    "        out, _ = self.gru(x, h0)\n",
    "        out = self.bn(out[:,-1, :])\n",
    "        out = self.fc(out)\n",
    "        return out"
   ]
  },
  {
   "cell_type": "code",
   "execution_count": 62,
   "id": "5c56efc0",
   "metadata": {
    "scrolled": true
   },
   "outputs": [
    {
     "name": "stdout",
     "output_type": "stream",
     "text": [
      "Epoch [2/1300], Loss: 656.1954\n",
      "Epoch [2/1300], Loss: 2956.5318\n",
      "Epoch [2/1300], Loss: 5303.0082\n",
      "Epoch [77/1300], Loss: 586.7127\n",
      "Epoch [77/1300], Loss: 2754.3728\n",
      "Epoch [77/1300], Loss: 4876.4104\n",
      "Epoch [152/1300], Loss: 550.3136\n",
      "Epoch [152/1300], Loss: 2495.5368\n",
      "Epoch [152/1300], Loss: 4448.4974\n",
      "Epoch [227/1300], Loss: 527.2260\n",
      "Epoch [227/1300], Loss: 2278.8225\n",
      "Epoch [227/1300], Loss: 4039.9564\n",
      "Epoch [302/1300], Loss: 468.3384\n",
      "Epoch [302/1300], Loss: 2046.6283\n",
      "Epoch [302/1300], Loss: 3590.5356\n",
      "Epoch [377/1300], Loss: 411.4908\n",
      "Epoch [377/1300], Loss: 1788.2740\n",
      "Epoch [377/1300], Loss: 3186.3947\n",
      "Epoch [452/1300], Loss: 345.5231\n",
      "Epoch [452/1300], Loss: 1560.0797\n",
      "Epoch [452/1300], Loss: 2768.9737\n",
      "Epoch [527/1300], Loss: 287.9155\n",
      "Epoch [527/1300], Loss: 1322.8054\n",
      "Epoch [527/1300], Loss: 2351.2728\n",
      "Epoch [602/1300], Loss: 231.7879\n",
      "Epoch [602/1300], Loss: 1066.6111\n",
      "Epoch [602/1300], Loss: 1900.6519\n",
      "Epoch [677/1300], Loss: 187.7003\n",
      "Epoch [677/1300], Loss: 822.1769\n",
      "Epoch [677/1300], Loss: 1478.5909\n",
      "Epoch [752/1300], Loss: 116.7527\n",
      "Epoch [752/1300], Loss: 585.2566\n",
      "Epoch [752/1300], Loss: 1046.4017\n",
      "Epoch [827/1300], Loss: 90.0449\n",
      "Epoch [827/1300], Loss: 435.3802\n",
      "Epoch [827/1300], Loss: 792.3803\n",
      "Epoch [902/1300], Loss: 85.9168\n",
      "Epoch [902/1300], Loss: 386.3631\n",
      "Epoch [902/1300], Loss: 648.5004\n",
      "Epoch [977/1300], Loss: 86.0351\n",
      "Epoch [977/1300], Loss: 334.7259\n",
      "Epoch [977/1300], Loss: 595.5638\n",
      "Epoch [1052/1300], Loss: 63.9275\n",
      "Epoch [1052/1300], Loss: 306.6230\n",
      "Epoch [1052/1300], Loss: 545.9324\n",
      "Epoch [1127/1300], Loss: 77.6909\n",
      "Epoch [1127/1300], Loss: 318.5903\n",
      "Epoch [1127/1300], Loss: 551.5693\n",
      "Epoch [1202/1300], Loss: 63.2171\n",
      "Epoch [1202/1300], Loss: 308.4102\n",
      "Epoch [1202/1300], Loss: 547.0301\n",
      "Epoch [1277/1300], Loss: 75.0799\n",
      "Epoch [1277/1300], Loss: 319.0416\n",
      "Epoch [1277/1300], Loss: 544.0835\n",
      "Finished training\n"
     ]
    }
   ],
   "source": [
    "# Define the loss function and optimizer\n",
    "mod2 = GRU2(input_size=4, hidden_size=100, output_size = 1, num_layers=5, \n",
    "                 batch_first=True, batch_size =25)\n",
    "mod2.to(device)\n",
    "optimizer = torch.optim.SGD(mod2.parameters(), lr=0.0352, momentum = 0.9)\n",
    "\n",
    "# Train the model\n",
    "num_epochs = 1300\n",
    "print_iters = 75\n",
    "batch_freq = 7\n",
    "loss2 = []\n",
    "for epoch in range(num_epochs):\n",
    "    total_loss = 0\n",
    "    for i, (inputs, labels) in enumerate(train_dataloader):\n",
    "        inputs = inputs.view(25, 26, 4).to(device)\n",
    "        # gru parameter: input should have shape batch_size, sequence_length, num_features\n",
    "        labels = labels.to(device)\n",
    "        optimizer.zero_grad()\n",
    "        outputs = mod2(inputs)\n",
    "        loss = criterion(outputs, labels)\n",
    "        loss.backward()\n",
    "        optimizer.step()\n",
    "        total_loss += loss.item()\n",
    "        if epoch% print_iters ==1 and i% batch_freq ==1:\n",
    "            print('Epoch [%d/%d], Loss: %.4f' % (epoch+1, num_epochs, total_loss / len(train_dataloader)))\n",
    "    loss2.append(total_loss/ len(train_dataloader))\n",
    "print(\"Finished training\")"
   ]
  },
  {
   "cell_type": "code",
   "execution_count": 80,
   "id": "a35a5187",
   "metadata": {},
   "outputs": [
    {
     "data": {
      "text/plain": [
       "673.7685028076172"
      ]
     },
     "execution_count": 80,
     "metadata": {},
     "output_type": "execute_result"
    }
   ],
   "source": [
    "loss2[-1]"
   ]
  },
  {
   "cell_type": "code",
   "execution_count": 65,
   "id": "bdcc24fe",
   "metadata": {},
   "outputs": [
    {
     "name": "stdout",
     "output_type": "stream",
     "text": [
      "GRU with batch_size=25, hidden_size = 100, optimizer = SGD, lr = 0.035, momentum=0.9 num_layers=5\n"
     ]
    },
    {
     "data": {
      "image/png": "[encoded data removed]",
      "text/plain": [
       "<Figure size 432x288 with 1 Axes>"
      ]
     },
     "metadata": {
      "needs_background": "light"
     },
     "output_type": "display_data"
    }
   ],
   "source": [
    "print(\"GRU with batch_size=25, hidden_size = 100, optimizer = SGD, lr = 0.035, momentum=0.9 num_layers=5\")\n",
    "plt.plot(range(len(loss2)), loss2) \n",
    "plt.title(\"GRU with SGD, batch size = 25\")\n",
    "plt.show()"
   ]
  },
  {
   "cell_type": "code",
   "execution_count": 66,
   "id": "cb13fc6c",
   "metadata": {},
   "outputs": [
    {
     "name": "stdout",
     "output_type": "stream",
     "text": [
      "Testing error(L1): tensor(725.9825, device='cuda:0', grad_fn=<MeanBackward0>)\n"
     ]
    }
   ],
   "source": [
    "# evaluate model on the rest 57 points\n",
    "# see test performance\n",
    "testing = torch.from_numpy(arr[500:,:,:]).float().view(57,26,4)\n",
    "y_true = torch.from_numpy(np.asarray(pd.read_csv(\"Crop_Yield_Data_challenge_2.csv\")[500:][\"Rice Yield (kg/ha)\"]))\n",
    "testing = testing.to(device)\n",
    "y_true = y_true.to(device)\n",
    "predicted = mod2(testing).view(57)\n",
    "print(\"Testing error(L1):\",  criterion(predicted, y_true))"
   ]
  },
  {
   "cell_type": "markdown",
   "id": "1649d14f",
   "metadata": {},
   "source": [
    "----\n",
    "#### Further miprove GRU performance by changing batch size to 10 / to 5 and num_layers to 4 --- only minimally better than mod2"
   ]
  },
  {
   "cell_type": "code",
   "execution_count": 19,
   "id": "c04be96f",
   "metadata": {},
   "outputs": [],
   "source": [
    "train_dataloader = DataLoader(training_dataset, batch_size=10, shuffle=True)"
   ]
  },
  {
   "cell_type": "code",
   "execution_count": 25,
   "id": "6c3b01c7",
   "metadata": {
    "scrolled": true
   },
   "outputs": [
    {
     "name": "stdout",
     "output_type": "stream",
     "text": [
      "Epoch [2/2000], Loss: 250.3129\n",
      "Epoch [2/2000], Loss: 3031.5971\n",
      "Epoch [2/2000], Loss: 5813.2399\n",
      "Epoch [57/2000], Loss: 248.9128\n",
      "Epoch [57/2000], Loss: 2902.4143\n",
      "Epoch [57/2000], Loss: 5573.6338\n",
      "Epoch [112/2000], Loss: 237.8326\n",
      "Epoch [112/2000], Loss: 2791.8726\n",
      "Epoch [112/2000], Loss: 5335.1909\n",
      "Epoch [167/2000], Loss: 229.9553\n",
      "Epoch [167/2000], Loss: 2671.4035\n",
      "Epoch [167/2000], Loss: 5099.3300\n",
      "Epoch [222/2000], Loss: 210.8380\n",
      "Epoch [222/2000], Loss: 2543.6145\n",
      "Epoch [222/2000], Loss: 4860.9891\n",
      "Epoch [277/2000], Loss: 207.0407\n",
      "Epoch [277/2000], Loss: 2438.4653\n",
      "Epoch [277/2000], Loss: 4607.1682\n",
      "Epoch [332/2000], Loss: 207.6434\n",
      "Epoch [332/2000], Loss: 2320.9962\n",
      "Epoch [332/2000], Loss: 4375.9873\n",
      "Epoch [387/2000], Loss: 183.7661\n",
      "Epoch [387/2000], Loss: 2178.3271\n",
      "Epoch [387/2000], Loss: 4117.5664\n",
      "Epoch [442/2000], Loss: 177.6412\n",
      "Epoch [442/2000], Loss: 2037.6100\n",
      "Epoch [442/2000], Loss: 3902.0958\n",
      "Epoch [497/2000], Loss: 170.3104\n",
      "Epoch [497/2000], Loss: 1907.9864\n",
      "Epoch [497/2000], Loss: 3622.3396\n",
      "Epoch [552/2000], Loss: 168.5797\n",
      "Epoch [552/2000], Loss: 1805.8829\n",
      "Epoch [552/2000], Loss: 3416.1432\n",
      "Epoch [607/2000], Loss: 140.6889\n",
      "Epoch [607/2000], Loss: 1652.9394\n",
      "Epoch [607/2000], Loss: 3168.7870\n",
      "Epoch [662/2000], Loss: 123.8382\n",
      "Epoch [662/2000], Loss: 1528.3958\n",
      "Epoch [662/2000], Loss: 2921.7906\n",
      "Epoch [717/2000], Loss: 114.1475\n",
      "Epoch [717/2000], Loss: 1398.2123\n",
      "Epoch [717/2000], Loss: 2677.4343\n",
      "Epoch [772/2000], Loss: 104.2567\n",
      "Epoch [772/2000], Loss: 1260.8688\n",
      "Epoch [772/2000], Loss: 2437.2379\n",
      "Epoch [827/2000], Loss: 91.7660\n",
      "Epoch [827/2000], Loss: 1167.8854\n",
      "Epoch [827/2000], Loss: 2198.6819\n",
      "Epoch [882/2000], Loss: 95.8752\n",
      "Epoch [882/2000], Loss: 1050.7818\n",
      "Epoch [882/2000], Loss: 1967.8855\n",
      "Epoch [937/2000], Loss: 71.9445\n",
      "Epoch [937/2000], Loss: 902.4383\n",
      "Epoch [937/2000], Loss: 1689.6492\n",
      "Epoch [992/2000], Loss: 61.8138\n",
      "Epoch [992/2000], Loss: 754.5348\n",
      "Epoch [992/2000], Loss: 1467.6929\n",
      "Epoch [1047/2000], Loss: 53.1382\n",
      "Epoch [1047/2000], Loss: 641.2754\n",
      "Epoch [1047/2000], Loss: 1230.4593\n",
      "Epoch [1102/2000], Loss: 48.1999\n",
      "Epoch [1102/2000], Loss: 539.4490\n",
      "Epoch [1102/2000], Loss: 995.5518\n",
      "Epoch [1157/2000], Loss: 38.2571\n",
      "Epoch [1157/2000], Loss: 482.3542\n",
      "Epoch [1157/2000], Loss: 893.9074\n",
      "Epoch [1212/2000], Loss: 30.6813\n",
      "Epoch [1212/2000], Loss: 418.5058\n",
      "Epoch [1212/2000], Loss: 795.7519\n",
      "Epoch [1267/2000], Loss: 39.3135\n",
      "Epoch [1267/2000], Loss: 374.3834\n",
      "Epoch [1267/2000], Loss: 710.5615\n",
      "Epoch [1322/2000], Loss: 43.3103\n",
      "Epoch [1322/2000], Loss: 344.9640\n",
      "Epoch [1322/2000], Loss: 683.7620\n",
      "Epoch [1377/2000], Loss: 28.3558\n",
      "Epoch [1377/2000], Loss: 327.1832\n",
      "Epoch [1377/2000], Loss: 656.0554\n",
      "Epoch [1432/2000], Loss: 27.6446\n",
      "Epoch [1432/2000], Loss: 349.8493\n",
      "Epoch [1432/2000], Loss: 644.2123\n",
      "Epoch [1487/2000], Loss: 31.3037\n",
      "Epoch [1487/2000], Loss: 325.8170\n",
      "Epoch [1487/2000], Loss: 603.4932\n",
      "Epoch [1542/2000], Loss: 34.1999\n",
      "Epoch [1542/2000], Loss: 316.6305\n",
      "Epoch [1542/2000], Loss: 609.4293\n",
      "Epoch [1597/2000], Loss: 25.6909\n",
      "Epoch [1597/2000], Loss: 298.9673\n",
      "Epoch [1597/2000], Loss: 600.3971\n",
      "Epoch [1652/2000], Loss: 28.5601\n",
      "Epoch [1652/2000], Loss: 314.4237\n",
      "Epoch [1652/2000], Loss: 610.9225\n",
      "Epoch [1707/2000], Loss: 22.6000\n",
      "Epoch [1707/2000], Loss: 315.4430\n",
      "Epoch [1707/2000], Loss: 591.0372\n",
      "Epoch [1762/2000], Loss: 20.8401\n",
      "Epoch [1762/2000], Loss: 293.2842\n",
      "Epoch [1762/2000], Loss: 583.6879\n",
      "Epoch [1817/2000], Loss: 31.8003\n",
      "Epoch [1817/2000], Loss: 292.8441\n",
      "Epoch [1817/2000], Loss: 580.0860\n",
      "Epoch [1872/2000], Loss: 29.6394\n",
      "Epoch [1872/2000], Loss: 308.8050\n",
      "Epoch [1872/2000], Loss: 599.0851\n",
      "Epoch [1927/2000], Loss: 33.0397\n",
      "Epoch [1927/2000], Loss: 314.1615\n",
      "Epoch [1927/2000], Loss: 607.2037\n",
      "Epoch [1982/2000], Loss: 22.0406\n",
      "Epoch [1982/2000], Loss: 303.4437\n",
      "Epoch [1982/2000], Loss: 587.4866\n",
      "Finished training\n"
     ]
    }
   ],
   "source": [
    "# Define the loss function and optimizer\n",
    "mod3 = GRU2(input_size=4, hidden_size=100, output_size = 1, num_layers=10, \n",
    "                 batch_first=True, batch_size =10)\n",
    "mod3.to(device)\n",
    "criterion = nn.L1Loss()\n",
    "optimizer = torch.optim.SGD(mod3.parameters(), lr=0.01, momentum = 0.9)\n",
    "\n",
    "# Train the model\n",
    "num_epochs = 2000\n",
    "print_iters = 55\n",
    "batch_freq = 21\n",
    "loss3 = []\n",
    "for epoch in range(num_epochs):\n",
    "    total_loss = 0\n",
    "    for i, (inputs, labels) in enumerate(train_dataloader):\n",
    "        inputs = inputs.view(10, 26, 4).to(device)\n",
    "        # gru parameter: input should have shape batch_size, sequence_length, num_features\n",
    "        labels = labels.to(device)\n",
    "        optimizer.zero_grad()\n",
    "        outputs = mod3(inputs)\n",
    "        loss = criterion(outputs, labels)\n",
    "        loss.backward()\n",
    "        optimizer.step()\n",
    "        total_loss += loss.item()\n",
    "        if epoch% print_iters ==1 and i% batch_freq ==1:\n",
    "            print('Epoch [%d/%d], Loss: %.4f' % (epoch+1, num_epochs, total_loss / len(train_dataloader)))\n",
    "    loss3.append(total_loss/ len(train_dataloader))\n",
    "print(\"Finished training\")"
   ]
  },
  {
   "cell_type": "code",
   "execution_count": 27,
   "id": "14968946",
   "metadata": {},
   "outputs": [
    {
     "name": "stdout",
     "output_type": "stream",
     "text": [
      "GRU with batch_size=10, hidden_size = 100, optimizer = SGD, lr = 0.03, momentum=0.9 num_layers=10\n",
      "Last trainig error:  673.7641583251954\n"
     ]
    },
    {
     "data": {
      "image/png": "[encoded data removed]",
      "text/plain": [
       "<Figure size 432x288 with 1 Axes>"
      ]
     },
     "metadata": {
      "needs_background": "light"
     },
     "output_type": "display_data"
    }
   ],
   "source": [
    "print(\"GRU with batch_size=10, hidden_size = 100, optimizer = SGD, lr = 0.01, momentum=0.9 num_layers=10\")\n",
    "print(\"Last trainig error: \", loss3[-1])\n",
    "plt.plot(range(len(loss3)), loss3) \n",
    "plt.title(\"GRU with SGD, batch size = 10\")\n",
    "plt.show()"
   ]
  },
  {
   "cell_type": "code",
   "execution_count": 28,
   "id": "6730213b",
   "metadata": {},
   "outputs": [
    {
     "name": "stdout",
     "output_type": "stream",
     "text": [
      "Testing error(L1): tensor(725.9494, device='cuda:0', grad_fn=<MeanBackward0>)\n"
     ]
    }
   ],
   "source": [
    "# evaluate model on the rest 57 points\n",
    "# see test performance\n",
    "testing = torch.from_numpy(arr[500:,:,:]).float().view(57,26,4)\n",
    "y_true = torch.from_numpy(np.asarray(pd.read_csv(\"Crop_Yield_Data_challenge_2.csv\")[500:][\"Rice Yield (kg/ha)\"]))\n",
    "testing = testing.to(device)\n",
    "y_true = y_true.to(device)\n",
    "predicted = mod3(testing).view(57)\n",
    "print(\"Testing error(L1):\",  criterion(predicted, y_true))"
   ]
  },
  {
   "cell_type": "markdown",
   "id": "64fb9611",
   "metadata": {},
   "source": [
    "______\n",
    "### Helper functions"
   ]
  },
  {
   "cell_type": "code",
   "execution_count": 13,
   "id": "10b24701",
   "metadata": {},
   "outputs": [],
   "source": [
    "class MyDataset(Dataset):\n",
    "    def __init__(self, X, Y):\n",
    "        self.X = X\n",
    "        self.Y = Y\n",
    "    def __len__(self):\n",
    "        return len(self.X)\n",
    "    def __getitem__(self, idx):\n",
    "        x = self.X[idx]\n",
    "        y = self.Y[idx]\n",
    "        return x, y"
   ]
  },
  {
   "cell_type": "code",
   "execution_count": 148,
   "id": "4882aefa",
   "metadata": {},
   "outputs": [],
   "source": [
    "input = input.to(device)\n",
    "target = target.to(device)"
   ]
  }
 ],
 "metadata": {
  "kernelspec": {
   "display_name": "Python 3 (ipykernel)",
   "language": "python",
   "name": "python3"
  },
  "language_info": {
   "codemirror_mode": {
    "name": "ipython",
    "version": 3
   },
   "file_extension": ".py",
   "mimetype": "text/x-python",
   "name": "python",
   "nbconvert_exporter": "python",
   "pygments_lexer": "ipython3",
   "version": "3.9.5"
  }
 },
 "nbformat": 4,
 "nbformat_minor": 5
}
